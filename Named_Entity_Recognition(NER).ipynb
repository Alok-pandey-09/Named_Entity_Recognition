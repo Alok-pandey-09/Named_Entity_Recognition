{
  "nbformat": 4,
  "nbformat_minor": 0,
  "metadata": {
    "colab": {
      "name": "Named Entity Recognition.ipynb",
      "provenance": [],
      "collapsed_sections": []
    },
    "kernelspec": {
      "name": "python3",
      "display_name": "Python 3"
    },
    "language_info": {
      "name": "python"
    },
    "gpuClass": "standard",
    "accelerator": "GPU"
  },
  "cells": [
    {
      "cell_type": "markdown",
      "source": [
        "# Named Entity Recognition (NER)"
      ],
      "metadata": {
        "id": "Sm6TjSIvE-Q_"
      }
    },
    {
      "cell_type": "markdown",
      "source": [
        "Hello, \n",
        "\n",
        "First of all, I thank you for taking your time out for us. This notebook contains all our learnings, understanding and how we interpret the language model. We will be trying everything we know, somethgings we don't know but it worked and tring to figure out why it worked!\n",
        "\n",
        "We will ensure, or atleast try to explain all the libraries and approaches that we have used but was not part of the session.\n",
        "\n",
        "Please bear with us as you watch us grow and reach new levels.\n",
        "\n",
        "Thank you!"
      ],
      "metadata": {
        "id": "o3oXygH1FdTk"
      }
    },
    {
      "cell_type": "markdown",
      "source": [
        "## Problem Statement\n",
        "\n",
        "### Information Extraction From Scientific Publication\n",
        "\n",
        "Named Entity Recognition (NER) is one of the most popular applications of Natural Language Processing. For the scope of this project, we will focus on creating a NER model that identifies key tokens and classifies them into set of predefined entities.\n",
        "\n",
        "The number of scientific papers published per year has exploded in recent years, strengthening its value as one of the main drivers for scientific progress. In astronomy alone, more than 41,000 new articles are published every year and the vast majority are available either via an open-access model or via pre-print services. Indexing the article’s full-text in search engines helps discover and retrieve vital scientific information to continue building on the shoulders of giants, informing policy, and making evidence-based decisions. Nevertheless, it is difficult to navigate in this ocean of data; finding articles rely heavily on string matching searches and following citations/references. NER helps us extract key information from scientific papers which can help search engines to better select and filter articles.\n",
        "\n",
        "For this, we will first train a language model on WIESP dataset. We will define and train a simple RNN network with 2 RNN layers as our baseline model. Then we will play around with BiLSTMs, Time Distributed Layers and much more."
      ],
      "metadata": {
        "id": "rx0QHHDuP73x"
      }
    },
    {
      "cell_type": "code",
      "source": [
        "# Importing all the necessary packages\n",
        "\n",
        "import math\n",
        "import numpy as np\n",
        "import pandas as pd\n",
        "import matplotlib\n",
        "import matplotlib.pyplot as plt\n",
        "import os\n",
        "from shutil import copyfile\n",
        "from imutils import paths\n",
        "from PIL import Image\n",
        "import requests\n",
        "import re\n",
        "import json\n",
        "import zipfile\n",
        "import collections\n",
        "import urllib.request\n",
        "from collections import defaultdict\n",
        "from IPython.core.display import HTML\n",
        "import time\n",
        "import random\n",
        "import string\n",
        "\n",
        "# Imports for dataset separation\n",
        "from sklearn.model_selection import train_test_split\n",
        "from tensorflow.keras import Sequential\n",
        "from tensorflow.keras.layers import Embedding, RNN, GRUCell, Dropout, Dense\n",
        "from keras.callbacks import ModelCheckpoint, EarlyStopping\n",
        "\n",
        "# Tensorflow imports\n",
        "import tensorflow as tf\n",
        "from tensorflow import keras\n",
        "from tensorflow.python.keras import backend as K\n",
        "from tensorflow.keras.models import Model\n",
        "\n",
        "%matplotlib inline"
      ],
      "metadata": {
        "id": "XOcDbwLxQANY"
      },
      "execution_count": null,
      "outputs": []
    },
    {
      "cell_type": "code",
      "source": [
        "# Enable/Disable Eager Execution\n",
        "# Reference: https://www.tensorflow.org/guide/eager\n",
        "# TensorFlow's eager execution is an imperative programming environment that evaluates operations immediately, \n",
        "# without building graphs\n",
        "\n",
        "#tf.compat.v1.disable_eager_execution()\n",
        "#tf.compat.v1.enable_eager_execution()\n",
        "\n",
        "print(\"tensorflow version\", tf.__version__)\n",
        "print(\"keras version\", tf.keras.__version__)\n",
        "print(\"Eager Execution Enabled:\", tf.executing_eagerly())\n",
        "\n",
        "# Get the number of replicas \n",
        "strategy = tf.distribute.MirroredStrategy()\n",
        "print(\"Number of replicas:\", strategy.num_replicas_in_sync)\n",
        "\n",
        "devices = tf.config.experimental.get_visible_devices()\n",
        "print(\"Devices:\", devices)\n",
        "print(tf.config.experimental.list_logical_devices('GPU'))\n",
        "\n",
        "print(\"GPU Available: \", tf.config.list_physical_devices('GPU'))\n",
        "print(\"All Physical Devices\", tf.config.list_physical_devices())\n",
        "\n",
        "# Better performance with the tf.data API\n",
        "# Reference: https://www.tensorflow.org/guide/data_performance\n",
        "AUTOTUNE = tf.data.experimental.AUTOTUNE"
      ],
      "metadata": {
        "colab": {
          "base_uri": "https://localhost:8080/"
        },
        "id": "7hdYArqv6XZF",
        "outputId": "5f06eb3f-a692-464c-8e23-ee4b003f35e6"
      },
      "execution_count": null,
      "outputs": [
        {
          "output_type": "stream",
          "name": "stdout",
          "text": [
            "tensorflow version 2.8.2\n",
            "keras version 2.8.0\n",
            "Eager Execution Enabled: True\n",
            "INFO:tensorflow:Using MirroredStrategy with devices ('/job:localhost/replica:0/task:0/device:GPU:0',)\n",
            "Number of replicas: 1\n",
            "Devices: [PhysicalDevice(name='/physical_device:CPU:0', device_type='CPU'), PhysicalDevice(name='/physical_device:GPU:0', device_type='GPU')]\n",
            "[LogicalDevice(name='/device:GPU:0', device_type='GPU')]\n",
            "GPU Available:  [PhysicalDevice(name='/physical_device:GPU:0', device_type='GPU')]\n",
            "All Physical Devices [PhysicalDevice(name='/physical_device:CPU:0', device_type='CPU'), PhysicalDevice(name='/physical_device:GPU:0', device_type='GPU')]\n"
          ]
        }
      ]
    },
    {
      "cell_type": "code",
      "source": [
        "# After trying a few dozen approached to parse those json file, and failing miserably\n",
        "# we came to realize let's not just stick on the path that has been shown. We are aiming to\n",
        "# be a data scientist and what type of scientiests back aways from experimenting!\n",
        "# Well with that said, if things don't work, do from scratch! No shortcuts...\n",
        "\n",
        "# !pip install datasets\n",
        "# # Make sure that we have a recent version of pyarrow in the session before we continue - otherwise reboot Colab to activate it\n",
        "# import pyarrow\n",
        "# if int(pyarrow.__version__.split('.')[1]) < 16 and int(pyarrow.__version__.split('.')[0]) == 0:\n",
        "#     import os\n",
        "#     os.kill(os.getpid(), 9)\n",
        "\n",
        "# from datasets import list_datasets, list_metrics, load_dataset, load_metric\n",
        "# from pprint import pprint\n",
        "\n",
        "# datasets_list = list_datasets()\n",
        "# metrics_list = list_metrics()"
      ],
      "metadata": {
        "id": "TWM6QMvbDX-W"
      },
      "execution_count": null,
      "outputs": []
    },
    {
      "cell_type": "code",
      "source": [
        "# This is hugging face showing off it's content:\n",
        "# Currently 5673 datasets are available on the hub.\n",
        "\n",
        "#@@@@@@@@@@@@@@@@@@@\n",
        "#@@@@@@@@@@@@@@@@@@@\n",
        "#@@@@@@@@@@@@@@@@@@@     Uncomment code below and run, but it's a really long list so suit yourself! \n",
        "#@@@@@@@@@@@@@@@@@@@\n",
        "#@@@@@@@@@@@@@@@@@@@\n",
        "\n",
        "# print(f\" Currently {len(datasets)} datasets are available on the hub:\")\n",
        "# pprint(datasets, compact=True)\n",
        "# print(f\" Currently {len(metrics)} metrics are available on the hub:\")\n",
        "# pprint(metrics, compact=True)\n",
        "\n",
        "# Let's take a look at the dataset attributes\n",
        "# WIESP2022NER_dataset = list_datasets(with_details=True)[datasets.index('fgrezes/WIESP2022-NER')]\n",
        "# WIESP2022NER_dataset.__dict__"
      ],
      "metadata": {
        "id": "mnvs_4ePH2zG"
      },
      "execution_count": null,
      "outputs": []
    },
    {
      "cell_type": "markdown",
      "source": [
        "We will load the NER Training , NER DEV, NER Validation and NER_TAGS files which are in json form"
      ],
      "metadata": {
        "id": "o4A5eLV2FI1C"
      }
    },
    {
      "cell_type": "code",
      "source": [
        "# Loading the DEV dataset\n",
        "import json\n",
        "with open(\"/content/WIESP2022-NER-DEV.jsonl\", 'r') as f:\n",
        "    wiesp_dev_json = [json.loads(l) for l in list(f)]"
      ],
      "metadata": {
        "id": "bb05CwyxORf9"
      },
      "execution_count": null,
      "outputs": []
    },
    {
      "cell_type": "code",
      "source": [
        "# Loading the training dataset\n",
        "with open(\"/content/WIESP2022-NER-TRAINING.jsonl\", 'r') as f:\n",
        "    wiesp_train_json = [json.loads(l) for l in list(f)]"
      ],
      "metadata": {
        "id": "OlJloyH7kh1E"
      },
      "execution_count": null,
      "outputs": []
    },
    {
      "cell_type": "code",
      "source": [
        "# Loading the validation dataset\n",
        "with open(\"/content/WIESP2022-NER-VALIDATION-NO-LABELS.jsonl\", 'r') as f:\n",
        "    wiesp_validation_json = [json.loads(l) for l in list(f)]"
      ],
      "metadata": {
        "id": "YVVNHfrjvTtU"
      },
      "execution_count": null,
      "outputs": []
    },
    {
      "cell_type": "code",
      "source": [
        "# loading NER Tags\n",
        "with open('/content/ner_tags.json') as json_file:\n",
        "    tag_dict = json.load(json_file)\n",
        "\n",
        "tag_dict"
      ],
      "metadata": {
        "id": "AYEfq_Vbn57J",
        "colab": {
          "base_uri": "https://localhost:8080/"
        },
        "outputId": "249dbb16-5ca2-4f61-92fd-3e242b11a080"
      },
      "execution_count": null,
      "outputs": [
        {
          "output_type": "execute_result",
          "data": {
            "text/plain": [
              "{'B-Archive': 0,\n",
              " 'B-CelestialObject': 1,\n",
              " 'B-CelestialObjectRegion': 2,\n",
              " 'B-CelestialRegion': 3,\n",
              " 'B-Citation': 4,\n",
              " 'B-Collaboration': 5,\n",
              " 'B-ComputingFacility': 6,\n",
              " 'B-Database': 7,\n",
              " 'B-Dataset': 8,\n",
              " 'B-EntityOfFutureInterest': 9,\n",
              " 'B-Event': 10,\n",
              " 'B-Fellowship': 11,\n",
              " 'B-Formula': 12,\n",
              " 'B-Grant': 13,\n",
              " 'B-Identifier': 14,\n",
              " 'B-Instrument': 15,\n",
              " 'B-Location': 16,\n",
              " 'B-Mission': 17,\n",
              " 'B-Model': 18,\n",
              " 'B-ObservationalTechniques': 19,\n",
              " 'B-Observatory': 20,\n",
              " 'B-Organization': 21,\n",
              " 'B-Person': 22,\n",
              " 'B-Proposal': 23,\n",
              " 'B-Software': 24,\n",
              " 'B-Survey': 25,\n",
              " 'B-Tag': 26,\n",
              " 'B-Telescope': 27,\n",
              " 'B-TextGarbage': 28,\n",
              " 'B-URL': 29,\n",
              " 'B-Wavelength': 30,\n",
              " 'I-Archive': 31,\n",
              " 'I-CelestialObject': 32,\n",
              " 'I-CelestialObjectRegion': 33,\n",
              " 'I-CelestialRegion': 34,\n",
              " 'I-Citation': 35,\n",
              " 'I-Collaboration': 36,\n",
              " 'I-ComputingFacility': 37,\n",
              " 'I-Database': 38,\n",
              " 'I-Dataset': 39,\n",
              " 'I-EntityOfFutureInterest': 40,\n",
              " 'I-Event': 41,\n",
              " 'I-Fellowship': 42,\n",
              " 'I-Formula': 43,\n",
              " 'I-Grant': 44,\n",
              " 'I-Identifier': 45,\n",
              " 'I-Instrument': 46,\n",
              " 'I-Location': 47,\n",
              " 'I-Mission': 48,\n",
              " 'I-Model': 49,\n",
              " 'I-ObservationalTechniques': 50,\n",
              " 'I-Observatory': 51,\n",
              " 'I-Organization': 52,\n",
              " 'I-Person': 53,\n",
              " 'I-Proposal': 54,\n",
              " 'I-Software': 55,\n",
              " 'I-Survey': 56,\n",
              " 'I-Tag': 57,\n",
              " 'I-Telescope': 58,\n",
              " 'I-TextGarbage': 59,\n",
              " 'I-URL': 60,\n",
              " 'I-Wavelength': 61,\n",
              " 'O': 62}"
            ]
          },
          "metadata": {},
          "execution_count": 8
        }
      ]
    },
    {
      "cell_type": "markdown",
      "source": [
        "Let's look at the sample data and see \n",
        "\n",
        "Each entry consists of a dictionary with the following keys:\n",
        "\n",
        "\"unique_id\": a unique identifier for this data sample. Must be included in the predictions.\n",
        "\n",
        "\"tokens\": the list of tokens (strings) that form the text of this sample. Must be included in the predictions.\n",
        "\n",
        "\"ner_tags\": the list of NER tags (in IOB2 format)"
      ],
      "metadata": {
        "id": "MNyuyccoxq15"
      }
    },
    {
      "cell_type": "markdown",
      "source": [
        "ow to compute your scores on the training data:\n",
        "\n",
        "1. format your predictions as a list of dictionaries, each with the same \"unique_id\" and \"tokens\" keys from the dataset, as well as the list of predicted NER tags under the \"pred_ner_tags\" key (see WIESP2022-NER-DEV-sample-predictions.jsonl for an example).\n",
        "\n",
        "2. pass the references and predictions datasets to the compute_MCC() and compute_seqeval() functions (from the .py files with the same names).\n"
      ],
      "metadata": {
        "id": "tLAFO9jHzlLS"
      }
    },
    {
      "cell_type": "code",
      "source": [
        "df_DEV = pd.DataFrame(wiesp_dev_json)\n",
        "df_DEV.drop(columns=[\"bibcode\",\t\"label_studio_id\",\t\"ner_ids\"], inplace=True)\n",
        "df_DEV.head(3)"
      ],
      "metadata": {
        "id": "_Req0zgxzktY",
        "colab": {
          "base_uri": "https://localhost:8080/",
          "height": 254
        },
        "outputId": "791930fd-87b7-497f-812a-3d5a6a7ea09e"
      },
      "execution_count": null,
      "outputs": [
        {
          "output_type": "execute_result",
          "data": {
            "text/plain": [
              "                                            ner_tags          section  \\\n",
              "0  [O, O, O, O, O, O, O, B-Instrument, O, O, O, O...         fulltext   \n",
              "1  [O, O, O, O, O, O, O, O, O, O, O, O, O, O, O, ...  acknowledgments   \n",
              "2  [O, O, O, B-Person, I-Person, B-Person, I-Pers...  acknowledgments   \n",
              "\n",
              "                                              tokens  \\\n",
              "0  [Whilst, a, reasonable, harmonic, fit, to, the...   \n",
              "1  [ACKNOWLEDGEMENTS, The, authors, thank, an, an...   \n",
              "2  [ACKNOWLEDGEMENTS, We, thank, Dougal, Mackey,,...   \n",
              "\n",
              "                                  unique_id  \n",
              "0          fulltext_487_2019MNRAS.486.5558S  \n",
              "1  acknowledgments_1086_2018MNRAS.480.3062L  \n",
              "2   acknowledgments_559_2019MNRAS.482L...9B  "
            ],
            "text/html": [
              "\n",
              "  <div id=\"df-11461b4d-79d3-4cb0-bb04-4af7576a0629\">\n",
              "    <div class=\"colab-df-container\">\n",
              "      <div>\n",
              "<style scoped>\n",
              "    .dataframe tbody tr th:only-of-type {\n",
              "        vertical-align: middle;\n",
              "    }\n",
              "\n",
              "    .dataframe tbody tr th {\n",
              "        vertical-align: top;\n",
              "    }\n",
              "\n",
              "    .dataframe thead th {\n",
              "        text-align: right;\n",
              "    }\n",
              "</style>\n",
              "<table border=\"1\" class=\"dataframe\">\n",
              "  <thead>\n",
              "    <tr style=\"text-align: right;\">\n",
              "      <th></th>\n",
              "      <th>ner_tags</th>\n",
              "      <th>section</th>\n",
              "      <th>tokens</th>\n",
              "      <th>unique_id</th>\n",
              "    </tr>\n",
              "  </thead>\n",
              "  <tbody>\n",
              "    <tr>\n",
              "      <th>0</th>\n",
              "      <td>[O, O, O, O, O, O, O, B-Instrument, O, O, O, O...</td>\n",
              "      <td>fulltext</td>\n",
              "      <td>[Whilst, a, reasonable, harmonic, fit, to, the...</td>\n",
              "      <td>fulltext_487_2019MNRAS.486.5558S</td>\n",
              "    </tr>\n",
              "    <tr>\n",
              "      <th>1</th>\n",
              "      <td>[O, O, O, O, O, O, O, O, O, O, O, O, O, O, O, ...</td>\n",
              "      <td>acknowledgments</td>\n",
              "      <td>[ACKNOWLEDGEMENTS, The, authors, thank, an, an...</td>\n",
              "      <td>acknowledgments_1086_2018MNRAS.480.3062L</td>\n",
              "    </tr>\n",
              "    <tr>\n",
              "      <th>2</th>\n",
              "      <td>[O, O, O, B-Person, I-Person, B-Person, I-Pers...</td>\n",
              "      <td>acknowledgments</td>\n",
              "      <td>[ACKNOWLEDGEMENTS, We, thank, Dougal, Mackey,,...</td>\n",
              "      <td>acknowledgments_559_2019MNRAS.482L...9B</td>\n",
              "    </tr>\n",
              "  </tbody>\n",
              "</table>\n",
              "</div>\n",
              "      <button class=\"colab-df-convert\" onclick=\"convertToInteractive('df-11461b4d-79d3-4cb0-bb04-4af7576a0629')\"\n",
              "              title=\"Convert this dataframe to an interactive table.\"\n",
              "              style=\"display:none;\">\n",
              "        \n",
              "  <svg xmlns=\"http://www.w3.org/2000/svg\" height=\"24px\"viewBox=\"0 0 24 24\"\n",
              "       width=\"24px\">\n",
              "    <path d=\"M0 0h24v24H0V0z\" fill=\"none\"/>\n",
              "    <path d=\"M18.56 5.44l.94 2.06.94-2.06 2.06-.94-2.06-.94-.94-2.06-.94 2.06-2.06.94zm-11 1L8.5 8.5l.94-2.06 2.06-.94-2.06-.94L8.5 2.5l-.94 2.06-2.06.94zm10 10l.94 2.06.94-2.06 2.06-.94-2.06-.94-.94-2.06-.94 2.06-2.06.94z\"/><path d=\"M17.41 7.96l-1.37-1.37c-.4-.4-.92-.59-1.43-.59-.52 0-1.04.2-1.43.59L10.3 9.45l-7.72 7.72c-.78.78-.78 2.05 0 2.83L4 21.41c.39.39.9.59 1.41.59.51 0 1.02-.2 1.41-.59l7.78-7.78 2.81-2.81c.8-.78.8-2.07 0-2.86zM5.41 20L4 18.59l7.72-7.72 1.47 1.35L5.41 20z\"/>\n",
              "  </svg>\n",
              "      </button>\n",
              "      \n",
              "  <style>\n",
              "    .colab-df-container {\n",
              "      display:flex;\n",
              "      flex-wrap:wrap;\n",
              "      gap: 12px;\n",
              "    }\n",
              "\n",
              "    .colab-df-convert {\n",
              "      background-color: #E8F0FE;\n",
              "      border: none;\n",
              "      border-radius: 50%;\n",
              "      cursor: pointer;\n",
              "      display: none;\n",
              "      fill: #1967D2;\n",
              "      height: 32px;\n",
              "      padding: 0 0 0 0;\n",
              "      width: 32px;\n",
              "    }\n",
              "\n",
              "    .colab-df-convert:hover {\n",
              "      background-color: #E2EBFA;\n",
              "      box-shadow: 0px 1px 2px rgba(60, 64, 67, 0.3), 0px 1px 3px 1px rgba(60, 64, 67, 0.15);\n",
              "      fill: #174EA6;\n",
              "    }\n",
              "\n",
              "    [theme=dark] .colab-df-convert {\n",
              "      background-color: #3B4455;\n",
              "      fill: #D2E3FC;\n",
              "    }\n",
              "\n",
              "    [theme=dark] .colab-df-convert:hover {\n",
              "      background-color: #434B5C;\n",
              "      box-shadow: 0px 1px 3px 1px rgba(0, 0, 0, 0.15);\n",
              "      filter: drop-shadow(0px 1px 2px rgba(0, 0, 0, 0.3));\n",
              "      fill: #FFFFFF;\n",
              "    }\n",
              "  </style>\n",
              "\n",
              "      <script>\n",
              "        const buttonEl =\n",
              "          document.querySelector('#df-11461b4d-79d3-4cb0-bb04-4af7576a0629 button.colab-df-convert');\n",
              "        buttonEl.style.display =\n",
              "          google.colab.kernel.accessAllowed ? 'block' : 'none';\n",
              "\n",
              "        async function convertToInteractive(key) {\n",
              "          const element = document.querySelector('#df-11461b4d-79d3-4cb0-bb04-4af7576a0629');\n",
              "          const dataTable =\n",
              "            await google.colab.kernel.invokeFunction('convertToInteractive',\n",
              "                                                     [key], {});\n",
              "          if (!dataTable) return;\n",
              "\n",
              "          const docLinkHtml = 'Like what you see? Visit the ' +\n",
              "            '<a target=\"_blank\" href=https://colab.research.google.com/notebooks/data_table.ipynb>data table notebook</a>'\n",
              "            + ' to learn more about interactive tables.';\n",
              "          element.innerHTML = '';\n",
              "          dataTable['output_type'] = 'display_data';\n",
              "          await google.colab.output.renderOutput(dataTable, element);\n",
              "          const docLink = document.createElement('div');\n",
              "          docLink.innerHTML = docLinkHtml;\n",
              "          element.appendChild(docLink);\n",
              "        }\n",
              "      </script>\n",
              "    </div>\n",
              "  </div>\n",
              "  "
            ]
          },
          "metadata": {},
          "execution_count": 9
        }
      ]
    },
    {
      "cell_type": "markdown",
      "source": [
        "We did some exploration if number of tags are matching the tokens."
      ],
      "metadata": {
        "id": "u-PaqBQ9oJXG"
      }
    },
    {
      "cell_type": "code",
      "source": [
        "len(df_DEV.iloc[0].ner_tags),len(df_DEV.iloc[0].tokens)"
      ],
      "metadata": {
        "colab": {
          "base_uri": "https://localhost:8080/"
        },
        "id": "vFwr_LPk34kY",
        "outputId": "bc45800d-c51c-43ed-dad0-740f9d948e02"
      },
      "execution_count": null,
      "outputs": [
        {
          "output_type": "execute_result",
          "data": {
            "text/plain": [
              "(536, 536)"
            ]
          },
          "metadata": {},
          "execution_count": 10
        }
      ]
    },
    {
      "cell_type": "code",
      "source": [
        "len(df_DEV.iloc[1].ner_tags),len(df_DEV.iloc[1].tokens)"
      ],
      "metadata": {
        "colab": {
          "base_uri": "https://localhost:8080/"
        },
        "id": "orbV_O7q4SI9",
        "outputId": "487e4d3b-1a1a-4297-9e31-6f7c942ae311"
      },
      "execution_count": null,
      "outputs": [
        {
          "output_type": "execute_result",
          "data": {
            "text/plain": [
              "(50, 50)"
            ]
          },
          "metadata": {},
          "execution_count": 11
        }
      ]
    },
    {
      "cell_type": "code",
      "source": [
        "len(df_DEV.iloc[2].ner_tags),len(df_DEV.iloc[2].tokens)"
      ],
      "metadata": {
        "colab": {
          "base_uri": "https://localhost:8080/"
        },
        "id": "sUdovTIm4Wue",
        "outputId": "f64cbcbc-0e50-4d66-a63f-d3f99f87452b"
      },
      "execution_count": null,
      "outputs": [
        {
          "output_type": "execute_result",
          "data": {
            "text/plain": [
              "(119, 119)"
            ]
          },
          "metadata": {},
          "execution_count": 12
        }
      ]
    },
    {
      "cell_type": "code",
      "source": [
        "len(wiesp_dev_json),len(wiesp_train_json)"
      ],
      "metadata": {
        "id": "LZOlDa9uhxfE",
        "colab": {
          "base_uri": "https://localhost:8080/"
        },
        "outputId": "e8e5e307-f13f-4c9c-e19a-c599cdc20232"
      },
      "execution_count": null,
      "outputs": [
        {
          "output_type": "execute_result",
          "data": {
            "text/plain": [
              "(20, 1753)"
            ]
          },
          "metadata": {},
          "execution_count": 13
        }
      ]
    },
    {
      "cell_type": "markdown",
      "source": [
        "Let's look at how the tokens and NER_Tags look"
      ],
      "metadata": {
        "id": "rzcea3x1oqY0"
      }
    },
    {
      "cell_type": "code",
      "source": [
        "df_DEV.iloc[0].ner_tags[7],df_DEV.iloc[0].tokens[7]"
      ],
      "metadata": {
        "colab": {
          "base_uri": "https://localhost:8080/"
        },
        "id": "HqtWkfTpyRlA",
        "outputId": "6463e34a-dc96-4a66-831a-221499ea1064"
      },
      "execution_count": null,
      "outputs": [
        {
          "output_type": "execute_result",
          "data": {
            "text/plain": [
              "('B-Instrument', 'ESPaDOnS')"
            ]
          },
          "metadata": {},
          "execution_count": 14
        }
      ]
    },
    {
      "cell_type": "code",
      "source": [
        "df_DEV.iloc[1].ner_tags[0],df_DEV.iloc[1].tokens[0]"
      ],
      "metadata": {
        "colab": {
          "base_uri": "https://localhost:8080/"
        },
        "id": "sboLht_R67SU",
        "outputId": "b2d422df-1a35-4c13-8710-3f27c332515c"
      },
      "execution_count": null,
      "outputs": [
        {
          "output_type": "execute_result",
          "data": {
            "text/plain": [
              "('O', 'ACKNOWLEDGEMENTS')"
            ]
          },
          "metadata": {},
          "execution_count": 15
        }
      ]
    },
    {
      "cell_type": "code",
      "source": [
        "df_DEV.iloc[1].ner_tags[15],df_DEV.iloc[1].tokens[15]"
      ],
      "metadata": {
        "colab": {
          "base_uri": "https://localhost:8080/"
        },
        "id": "TpNR_I1-6_Rr",
        "outputId": "7c1d7517-0c5e-4ffe-f6e0-cdbae3a24bfb"
      },
      "execution_count": null,
      "outputs": [
        {
          "output_type": "execute_result",
          "data": {
            "text/plain": [
              "('B-Person', 'NWCL')"
            ]
          },
          "metadata": {},
          "execution_count": 16
        }
      ]
    },
    {
      "cell_type": "code",
      "source": [
        "df_DEV.iloc[2].ner_tags[3],df_DEV.iloc[2].tokens[3]"
      ],
      "metadata": {
        "colab": {
          "base_uri": "https://localhost:8080/"
        },
        "id": "10LqvMMb7fei",
        "outputId": "8f4b8744-2513-4ba5-cb86-bef9ae181091"
      },
      "execution_count": null,
      "outputs": [
        {
          "output_type": "execute_result",
          "data": {
            "text/plain": [
              "('B-Person', 'Dougal')"
            ]
          },
          "metadata": {},
          "execution_count": 17
        }
      ]
    },
    {
      "cell_type": "code",
      "source": [
        "df_DEV.iloc[2].ner_tags[4],df_DEV.iloc[2].tokens[4]"
      ],
      "metadata": {
        "colab": {
          "base_uri": "https://localhost:8080/"
        },
        "id": "idXTv5kk7_Vl",
        "outputId": "53c4bc4a-db83-4b1a-d868-171b39013719"
      },
      "execution_count": null,
      "outputs": [
        {
          "output_type": "execute_result",
          "data": {
            "text/plain": [
              "('I-Person', 'Mackey,')"
            ]
          },
          "metadata": {},
          "execution_count": 18
        }
      ]
    },
    {
      "cell_type": "code",
      "source": [
        "df_DEV.iloc[2].ner_tags[5],df_DEV.iloc[2].tokens[5]"
      ],
      "metadata": {
        "colab": {
          "base_uri": "https://localhost:8080/"
        },
        "id": "wLlSBkGR8C7m",
        "outputId": "fe2e1c41-83aa-4c6d-efcd-fa7a1fcef6fe"
      },
      "execution_count": null,
      "outputs": [
        {
          "output_type": "execute_result",
          "data": {
            "text/plain": [
              "('B-Person', 'Adrian')"
            ]
          },
          "metadata": {},
          "execution_count": 19
        }
      ]
    },
    {
      "cell_type": "markdown",
      "source": [
        "O ---> Outside of a named entity\n",
        "\n",
        "B-MIS ---> Beginning of a miscellaneous entity right after another miscellaneous entity\n",
        "\n",
        "I-MIS ---> Miscellaneous entity\n",
        "\n",
        "B-PER ---> Beginning of a person’s name right after another person’s name\n",
        "\n",
        "I-PER ---> Person’s name\n",
        "\n",
        "B-ORG ---> Beginning of an organisation right after another organisation\n",
        "\n",
        "I-ORG ---> Organisation\n",
        "\n",
        "B-LOC ---> Beginning of a location right after another location\n",
        "\n",
        "I-LOC ---> Location"
      ],
      "metadata": {
        "id": "hrx-i61q82iU"
      }
    },
    {
      "cell_type": "markdown",
      "source": [
        "Let's load NER_tags, and look at all the tags availbale."
      ],
      "metadata": {
        "id": "lDdfC43ipCYu"
      }
    },
    {
      "cell_type": "code",
      "source": [
        "print(\"Number of tags present :\",len(tag_dict))"
      ],
      "metadata": {
        "colab": {
          "base_uri": "https://localhost:8080/"
        },
        "id": "toAk8kk-Ex5L",
        "outputId": "6b8bc562-c0a9-4219-a113-a51089f457e9"
      },
      "execution_count": null,
      "outputs": [
        {
          "output_type": "stream",
          "name": "stdout",
          "text": [
            "Number of tags present : 63\n"
          ]
        }
      ]
    },
    {
      "cell_type": "code",
      "source": [
        "df_DEV.head(3)"
      ],
      "metadata": {
        "colab": {
          "base_uri": "https://localhost:8080/",
          "height": 254
        },
        "id": "4bbNbNb3E1wz",
        "outputId": "a8ea2ef2-2bb6-44cc-ace9-b7eff747e7e2"
      },
      "execution_count": null,
      "outputs": [
        {
          "output_type": "execute_result",
          "data": {
            "text/plain": [
              "                                            ner_tags          section  \\\n",
              "0  [O, O, O, O, O, O, O, B-Instrument, O, O, O, O...         fulltext   \n",
              "1  [O, O, O, O, O, O, O, O, O, O, O, O, O, O, O, ...  acknowledgments   \n",
              "2  [O, O, O, B-Person, I-Person, B-Person, I-Pers...  acknowledgments   \n",
              "\n",
              "                                              tokens  \\\n",
              "0  [Whilst, a, reasonable, harmonic, fit, to, the...   \n",
              "1  [ACKNOWLEDGEMENTS, The, authors, thank, an, an...   \n",
              "2  [ACKNOWLEDGEMENTS, We, thank, Dougal, Mackey,,...   \n",
              "\n",
              "                                  unique_id  \n",
              "0          fulltext_487_2019MNRAS.486.5558S  \n",
              "1  acknowledgments_1086_2018MNRAS.480.3062L  \n",
              "2   acknowledgments_559_2019MNRAS.482L...9B  "
            ],
            "text/html": [
              "\n",
              "  <div id=\"df-1f88727d-235d-4c07-bb11-b529c1285072\">\n",
              "    <div class=\"colab-df-container\">\n",
              "      <div>\n",
              "<style scoped>\n",
              "    .dataframe tbody tr th:only-of-type {\n",
              "        vertical-align: middle;\n",
              "    }\n",
              "\n",
              "    .dataframe tbody tr th {\n",
              "        vertical-align: top;\n",
              "    }\n",
              "\n",
              "    .dataframe thead th {\n",
              "        text-align: right;\n",
              "    }\n",
              "</style>\n",
              "<table border=\"1\" class=\"dataframe\">\n",
              "  <thead>\n",
              "    <tr style=\"text-align: right;\">\n",
              "      <th></th>\n",
              "      <th>ner_tags</th>\n",
              "      <th>section</th>\n",
              "      <th>tokens</th>\n",
              "      <th>unique_id</th>\n",
              "    </tr>\n",
              "  </thead>\n",
              "  <tbody>\n",
              "    <tr>\n",
              "      <th>0</th>\n",
              "      <td>[O, O, O, O, O, O, O, B-Instrument, O, O, O, O...</td>\n",
              "      <td>fulltext</td>\n",
              "      <td>[Whilst, a, reasonable, harmonic, fit, to, the...</td>\n",
              "      <td>fulltext_487_2019MNRAS.486.5558S</td>\n",
              "    </tr>\n",
              "    <tr>\n",
              "      <th>1</th>\n",
              "      <td>[O, O, O, O, O, O, O, O, O, O, O, O, O, O, O, ...</td>\n",
              "      <td>acknowledgments</td>\n",
              "      <td>[ACKNOWLEDGEMENTS, The, authors, thank, an, an...</td>\n",
              "      <td>acknowledgments_1086_2018MNRAS.480.3062L</td>\n",
              "    </tr>\n",
              "    <tr>\n",
              "      <th>2</th>\n",
              "      <td>[O, O, O, B-Person, I-Person, B-Person, I-Pers...</td>\n",
              "      <td>acknowledgments</td>\n",
              "      <td>[ACKNOWLEDGEMENTS, We, thank, Dougal, Mackey,,...</td>\n",
              "      <td>acknowledgments_559_2019MNRAS.482L...9B</td>\n",
              "    </tr>\n",
              "  </tbody>\n",
              "</table>\n",
              "</div>\n",
              "      <button class=\"colab-df-convert\" onclick=\"convertToInteractive('df-1f88727d-235d-4c07-bb11-b529c1285072')\"\n",
              "              title=\"Convert this dataframe to an interactive table.\"\n",
              "              style=\"display:none;\">\n",
              "        \n",
              "  <svg xmlns=\"http://www.w3.org/2000/svg\" height=\"24px\"viewBox=\"0 0 24 24\"\n",
              "       width=\"24px\">\n",
              "    <path d=\"M0 0h24v24H0V0z\" fill=\"none\"/>\n",
              "    <path d=\"M18.56 5.44l.94 2.06.94-2.06 2.06-.94-2.06-.94-.94-2.06-.94 2.06-2.06.94zm-11 1L8.5 8.5l.94-2.06 2.06-.94-2.06-.94L8.5 2.5l-.94 2.06-2.06.94zm10 10l.94 2.06.94-2.06 2.06-.94-2.06-.94-.94-2.06-.94 2.06-2.06.94z\"/><path d=\"M17.41 7.96l-1.37-1.37c-.4-.4-.92-.59-1.43-.59-.52 0-1.04.2-1.43.59L10.3 9.45l-7.72 7.72c-.78.78-.78 2.05 0 2.83L4 21.41c.39.39.9.59 1.41.59.51 0 1.02-.2 1.41-.59l7.78-7.78 2.81-2.81c.8-.78.8-2.07 0-2.86zM5.41 20L4 18.59l7.72-7.72 1.47 1.35L5.41 20z\"/>\n",
              "  </svg>\n",
              "      </button>\n",
              "      \n",
              "  <style>\n",
              "    .colab-df-container {\n",
              "      display:flex;\n",
              "      flex-wrap:wrap;\n",
              "      gap: 12px;\n",
              "    }\n",
              "\n",
              "    .colab-df-convert {\n",
              "      background-color: #E8F0FE;\n",
              "      border: none;\n",
              "      border-radius: 50%;\n",
              "      cursor: pointer;\n",
              "      display: none;\n",
              "      fill: #1967D2;\n",
              "      height: 32px;\n",
              "      padding: 0 0 0 0;\n",
              "      width: 32px;\n",
              "    }\n",
              "\n",
              "    .colab-df-convert:hover {\n",
              "      background-color: #E2EBFA;\n",
              "      box-shadow: 0px 1px 2px rgba(60, 64, 67, 0.3), 0px 1px 3px 1px rgba(60, 64, 67, 0.15);\n",
              "      fill: #174EA6;\n",
              "    }\n",
              "\n",
              "    [theme=dark] .colab-df-convert {\n",
              "      background-color: #3B4455;\n",
              "      fill: #D2E3FC;\n",
              "    }\n",
              "\n",
              "    [theme=dark] .colab-df-convert:hover {\n",
              "      background-color: #434B5C;\n",
              "      box-shadow: 0px 1px 3px 1px rgba(0, 0, 0, 0.15);\n",
              "      filter: drop-shadow(0px 1px 2px rgba(0, 0, 0, 0.3));\n",
              "      fill: #FFFFFF;\n",
              "    }\n",
              "  </style>\n",
              "\n",
              "      <script>\n",
              "        const buttonEl =\n",
              "          document.querySelector('#df-1f88727d-235d-4c07-bb11-b529c1285072 button.colab-df-convert');\n",
              "        buttonEl.style.display =\n",
              "          google.colab.kernel.accessAllowed ? 'block' : 'none';\n",
              "\n",
              "        async function convertToInteractive(key) {\n",
              "          const element = document.querySelector('#df-1f88727d-235d-4c07-bb11-b529c1285072');\n",
              "          const dataTable =\n",
              "            await google.colab.kernel.invokeFunction('convertToInteractive',\n",
              "                                                     [key], {});\n",
              "          if (!dataTable) return;\n",
              "\n",
              "          const docLinkHtml = 'Like what you see? Visit the ' +\n",
              "            '<a target=\"_blank\" href=https://colab.research.google.com/notebooks/data_table.ipynb>data table notebook</a>'\n",
              "            + ' to learn more about interactive tables.';\n",
              "          element.innerHTML = '';\n",
              "          dataTable['output_type'] = 'display_data';\n",
              "          await google.colab.output.renderOutput(dataTable, element);\n",
              "          const docLink = document.createElement('div');\n",
              "          docLink.innerHTML = docLinkHtml;\n",
              "          element.appendChild(docLink);\n",
              "        }\n",
              "      </script>\n",
              "    </div>\n",
              "  </div>\n",
              "  "
            ]
          },
          "metadata": {},
          "execution_count": 21
        }
      ]
    },
    {
      "cell_type": "markdown",
      "source": [
        "\n",
        "Now let's do the same of the training dataset.\n",
        "#### Idea 1\n",
        "\n",
        "tokens ------> sentence\n",
        "\n",
        "\n",
        "unique_id_1 | section | sentence_1 | token_1_1 | ner_tags_1_1 | ner_tag_dict =>  label"
      ],
      "metadata": {
        "id": "77SqJPj0FHWD"
      }
    },
    {
      "cell_type": "code",
      "source": [
        "df_train = pd.DataFrame(wiesp_train_json)\n",
        "df_train.drop(columns=[\"bibcode\",\t\"label_studio_id\",\t\"ner_ids\"], inplace=True)\n",
        "df_train.head(3)"
      ],
      "metadata": {
        "colab": {
          "base_uri": "https://localhost:8080/",
          "height": 254
        },
        "id": "iS-bMR1Sxb9V",
        "outputId": "68fbf714-757f-4d6c-ae25-fd186ea81350"
      },
      "execution_count": null,
      "outputs": [
        {
          "output_type": "execute_result",
          "data": {
            "text/plain": [
              "                                            ner_tags          section  \\\n",
              "0  [O, O, O, O, O, O, O, B-Instrument, O, O, O, O...         fulltext   \n",
              "1  [O, O, O, O, O, O, O, O, O, O, O, O, O, O, O, ...         fulltext   \n",
              "2  [O, O, O, O, O, O, O, O, O, O, O, O, O, O, O, ...  acknowledgments   \n",
              "\n",
              "                                              tokens  \\\n",
              "0  [Whilst, a, reasonable, harmonic, fit, to, the...   \n",
              "1  [comparison, once, the, angular, positions, of...   \n",
              "2  [ACKNOWLEDGEMENTS, The, authors, thank, an, an...   \n",
              "\n",
              "                                  unique_id  \n",
              "0          fulltext_487_2019MNRAS.486.5558S  \n",
              "1         fulltext_1129_2018MNRAS.478.5533F  \n",
              "2  acknowledgments_1086_2018MNRAS.480.3062L  "
            ],
            "text/html": [
              "\n",
              "  <div id=\"df-6ba4637c-fdec-42c1-9b66-e9873c29d73d\">\n",
              "    <div class=\"colab-df-container\">\n",
              "      <div>\n",
              "<style scoped>\n",
              "    .dataframe tbody tr th:only-of-type {\n",
              "        vertical-align: middle;\n",
              "    }\n",
              "\n",
              "    .dataframe tbody tr th {\n",
              "        vertical-align: top;\n",
              "    }\n",
              "\n",
              "    .dataframe thead th {\n",
              "        text-align: right;\n",
              "    }\n",
              "</style>\n",
              "<table border=\"1\" class=\"dataframe\">\n",
              "  <thead>\n",
              "    <tr style=\"text-align: right;\">\n",
              "      <th></th>\n",
              "      <th>ner_tags</th>\n",
              "      <th>section</th>\n",
              "      <th>tokens</th>\n",
              "      <th>unique_id</th>\n",
              "    </tr>\n",
              "  </thead>\n",
              "  <tbody>\n",
              "    <tr>\n",
              "      <th>0</th>\n",
              "      <td>[O, O, O, O, O, O, O, B-Instrument, O, O, O, O...</td>\n",
              "      <td>fulltext</td>\n",
              "      <td>[Whilst, a, reasonable, harmonic, fit, to, the...</td>\n",
              "      <td>fulltext_487_2019MNRAS.486.5558S</td>\n",
              "    </tr>\n",
              "    <tr>\n",
              "      <th>1</th>\n",
              "      <td>[O, O, O, O, O, O, O, O, O, O, O, O, O, O, O, ...</td>\n",
              "      <td>fulltext</td>\n",
              "      <td>[comparison, once, the, angular, positions, of...</td>\n",
              "      <td>fulltext_1129_2018MNRAS.478.5533F</td>\n",
              "    </tr>\n",
              "    <tr>\n",
              "      <th>2</th>\n",
              "      <td>[O, O, O, O, O, O, O, O, O, O, O, O, O, O, O, ...</td>\n",
              "      <td>acknowledgments</td>\n",
              "      <td>[ACKNOWLEDGEMENTS, The, authors, thank, an, an...</td>\n",
              "      <td>acknowledgments_1086_2018MNRAS.480.3062L</td>\n",
              "    </tr>\n",
              "  </tbody>\n",
              "</table>\n",
              "</div>\n",
              "      <button class=\"colab-df-convert\" onclick=\"convertToInteractive('df-6ba4637c-fdec-42c1-9b66-e9873c29d73d')\"\n",
              "              title=\"Convert this dataframe to an interactive table.\"\n",
              "              style=\"display:none;\">\n",
              "        \n",
              "  <svg xmlns=\"http://www.w3.org/2000/svg\" height=\"24px\"viewBox=\"0 0 24 24\"\n",
              "       width=\"24px\">\n",
              "    <path d=\"M0 0h24v24H0V0z\" fill=\"none\"/>\n",
              "    <path d=\"M18.56 5.44l.94 2.06.94-2.06 2.06-.94-2.06-.94-.94-2.06-.94 2.06-2.06.94zm-11 1L8.5 8.5l.94-2.06 2.06-.94-2.06-.94L8.5 2.5l-.94 2.06-2.06.94zm10 10l.94 2.06.94-2.06 2.06-.94-2.06-.94-.94-2.06-.94 2.06-2.06.94z\"/><path d=\"M17.41 7.96l-1.37-1.37c-.4-.4-.92-.59-1.43-.59-.52 0-1.04.2-1.43.59L10.3 9.45l-7.72 7.72c-.78.78-.78 2.05 0 2.83L4 21.41c.39.39.9.59 1.41.59.51 0 1.02-.2 1.41-.59l7.78-7.78 2.81-2.81c.8-.78.8-2.07 0-2.86zM5.41 20L4 18.59l7.72-7.72 1.47 1.35L5.41 20z\"/>\n",
              "  </svg>\n",
              "      </button>\n",
              "      \n",
              "  <style>\n",
              "    .colab-df-container {\n",
              "      display:flex;\n",
              "      flex-wrap:wrap;\n",
              "      gap: 12px;\n",
              "    }\n",
              "\n",
              "    .colab-df-convert {\n",
              "      background-color: #E8F0FE;\n",
              "      border: none;\n",
              "      border-radius: 50%;\n",
              "      cursor: pointer;\n",
              "      display: none;\n",
              "      fill: #1967D2;\n",
              "      height: 32px;\n",
              "      padding: 0 0 0 0;\n",
              "      width: 32px;\n",
              "    }\n",
              "\n",
              "    .colab-df-convert:hover {\n",
              "      background-color: #E2EBFA;\n",
              "      box-shadow: 0px 1px 2px rgba(60, 64, 67, 0.3), 0px 1px 3px 1px rgba(60, 64, 67, 0.15);\n",
              "      fill: #174EA6;\n",
              "    }\n",
              "\n",
              "    [theme=dark] .colab-df-convert {\n",
              "      background-color: #3B4455;\n",
              "      fill: #D2E3FC;\n",
              "    }\n",
              "\n",
              "    [theme=dark] .colab-df-convert:hover {\n",
              "      background-color: #434B5C;\n",
              "      box-shadow: 0px 1px 3px 1px rgba(0, 0, 0, 0.15);\n",
              "      filter: drop-shadow(0px 1px 2px rgba(0, 0, 0, 0.3));\n",
              "      fill: #FFFFFF;\n",
              "    }\n",
              "  </style>\n",
              "\n",
              "      <script>\n",
              "        const buttonEl =\n",
              "          document.querySelector('#df-6ba4637c-fdec-42c1-9b66-e9873c29d73d button.colab-df-convert');\n",
              "        buttonEl.style.display =\n",
              "          google.colab.kernel.accessAllowed ? 'block' : 'none';\n",
              "\n",
              "        async function convertToInteractive(key) {\n",
              "          const element = document.querySelector('#df-6ba4637c-fdec-42c1-9b66-e9873c29d73d');\n",
              "          const dataTable =\n",
              "            await google.colab.kernel.invokeFunction('convertToInteractive',\n",
              "                                                     [key], {});\n",
              "          if (!dataTable) return;\n",
              "\n",
              "          const docLinkHtml = 'Like what you see? Visit the ' +\n",
              "            '<a target=\"_blank\" href=https://colab.research.google.com/notebooks/data_table.ipynb>data table notebook</a>'\n",
              "            + ' to learn more about interactive tables.';\n",
              "          element.innerHTML = '';\n",
              "          dataTable['output_type'] = 'display_data';\n",
              "          await google.colab.output.renderOutput(dataTable, element);\n",
              "          const docLink = document.createElement('div');\n",
              "          docLink.innerHTML = docLinkHtml;\n",
              "          element.appendChild(docLink);\n",
              "        }\n",
              "      </script>\n",
              "    </div>\n",
              "  </div>\n",
              "  "
            ]
          },
          "metadata": {},
          "execution_count": 22
        }
      ]
    },
    {
      "cell_type": "code",
      "source": [
        "ss= []\n",
        "for i in df_train.ner_tags:\n",
        "  ss.append(len(i))\n",
        "print(\"Maximum length of the sentence present in training dataset is :\",max(ss))"
      ],
      "metadata": {
        "colab": {
          "base_uri": "https://localhost:8080/"
        },
        "id": "aK4badpLS507",
        "outputId": "1938210b-2970-41ec-dd8e-f892e83a479b"
      },
      "execution_count": null,
      "outputs": [
        {
          "output_type": "stream",
          "name": "stdout",
          "text": [
            "Maximum length of the sentence present in training dataset is : 795\n"
          ]
        }
      ]
    },
    {
      "cell_type": "code",
      "source": [
        "def Average(lst):\n",
        "    return round(sum(lst) / len(lst))\n",
        "\n",
        "print(\"Average length of the sentence present in training dataset is :\",Average(ss))"
      ],
      "metadata": {
        "colab": {
          "base_uri": "https://localhost:8080/"
        },
        "id": "j_uIvJPWYUza",
        "outputId": "223f1827-7911-4480-f041-b45c2634d490"
      },
      "execution_count": null,
      "outputs": [
        {
          "output_type": "stream",
          "name": "stdout",
          "text": [
            "Average length of the sentence present in training dataset is : 327\n"
          ]
        }
      ]
    },
    {
      "cell_type": "markdown",
      "source": [
        "Finding the average sentence length as, we can not randomly truncate the sentences as most of ner tags are \" O's \" and they don't help much in training. In addition to it many sentences start with multitude of 'O' only after many number of such 'O's we have important NER tags which give value.\n",
        "\n",
        "Average sentence lenght is 327 approx, which will be a helpful parameter to select sequence lenght to get more value out of our data at less computational cost.\n",
        "\n",
        "We will set sequence lenght to 300 Based on the above obervation"
      ],
      "metadata": {
        "id": "Q4YHoUvKTnw3"
      }
    },
    {
      "cell_type": "code",
      "source": [
        "# First we need Vocabulary\n",
        "vocab = []\n",
        "for value in df_train.tokens:\n",
        "  vocab.extend(value)\n",
        "vocab_main = []\n",
        "for word in vocab:\n",
        "  words = word.lower()\n",
        "  vocab_main.append(words)\n",
        "tags = []\n",
        "for tag in df_train.ner_tags:\n",
        "  tags.append(tag)"
      ],
      "metadata": {
        "id": "hXSGMPNnx0Ri"
      },
      "execution_count": null,
      "outputs": []
    },
    {
      "cell_type": "code",
      "source": [
        "len(vocab_main)"
      ],
      "metadata": {
        "colab": {
          "base_uri": "https://localhost:8080/"
        },
        "id": "qfqdtSjsiu2H",
        "outputId": "ecd44f1c-57bb-4989-e1df-2c83fc9bde5e"
      },
      "execution_count": null,
      "outputs": [
        {
          "output_type": "execute_result",
          "data": {
            "text/plain": [
              "573132"
            ]
          },
          "metadata": {},
          "execution_count": 26
        }
      ]
    },
    {
      "cell_type": "code",
      "source": [
        "vocab_main = set(vocab_main)"
      ],
      "metadata": {
        "id": "DGXsFmBvjn_b"
      },
      "execution_count": null,
      "outputs": []
    },
    {
      "cell_type": "code",
      "source": [
        "len(vocab_main)"
      ],
      "metadata": {
        "colab": {
          "base_uri": "https://localhost:8080/"
        },
        "id": "1hw640IGjrVv",
        "outputId": "5d94088c-0cc7-4fb2-a8a3-df3efa98cfb4"
      },
      "execution_count": null,
      "outputs": [
        {
          "output_type": "execute_result",
          "data": {
            "text/plain": [
              "45753"
            ]
          },
          "metadata": {},
          "execution_count": 28
        }
      ]
    },
    {
      "cell_type": "code",
      "source": [
        "# let's test something for looking at the tokens and predictions later\n",
        "idx2tok = {(idx+2):tok for  idx, tok in enumerate(vocab_main)}\n",
        "tok2idx = {tok:(idx+2) for  idx, tok in enumerate(vocab_main)}"
      ],
      "metadata": {
        "id": "n2wU1KZRx7dF"
      },
      "execution_count": null,
      "outputs": []
    },
    {
      "cell_type": "code",
      "source": [
        "temp = df_train.tokens[0]"
      ],
      "metadata": {
        "id": "gXoVcUI2x7gl"
      },
      "execution_count": null,
      "outputs": []
    },
    {
      "cell_type": "code",
      "source": [
        "print(temp)"
      ],
      "metadata": {
        "colab": {
          "base_uri": "https://localhost:8080/"
        },
        "id": "G5CgnWasrWje",
        "outputId": "de6c647d-2633-4b24-8738-764159a55d0d"
      },
      "execution_count": null,
      "outputs": [
        {
          "output_type": "stream",
          "name": "stdout",
          "text": [
            "['Whilst', 'a', 'reasonable', 'harmonic', 'fit', 'to', 'the', 'ESPaDOnS', 'data', 'can', 'be', 'achieved', 'using', 'this', 'period,', 'it', 'does', 'not', 'produce', 'an', 'acceptable', 'phasing', 'of', 'all', 'available', '〈', 'B', 'z', '〉', 'measurements.', 'Figure', '1.', 'Photometric', '(', 'top', ')', 'and', 'magnetic', '〈', 'B', 'z', '〉', '(', 'bottom', ')', 'measurements,', 'phased', 'with', 'periods', 'determined', 'from', '(left', 'to', 'right)', 'K2', 'photometry,', 'all', '〈', 'B', 'z', '〉', 'measurements,', 'and', 'all', 'photometric', 'measurements.', '〈', 'B', 'z', '〉', 'measurements', 'were', 'obtained', 'from', 'ESPaDOnS', 'by', 'Shultz', 'et', 'al.', '(', '2018', ')', 'and', 'photopolarimetric', 'data', 'by', 'Borra', 'et', 'al.', '(', '1983', ',', 'BLT83)', 'and', 'Bohlender', 'et', 'al.', '(', '1993', ',', 'BLT93).', 'The', 'solid', 'and', 'dashed', 'curves', 'show,', 'respectively,', 'the', 'best', 'second-order', 'harmonic', 'fit', 'to', 'the', 'ESPaDOnS', '〈', 'B', 'z', '〉', 'data', 'and', 'the', '1σ', 'fit', 'uncertainty.', 'Photometric', 'data', 'are', 'from', 'K2,', 'SMEI,', 'Hipparcos', '(', 'H', 'p', '),', 'and', 'Strömgren', 'y', 'photometry', 'published', 'by', 'Sterken', 'et', 'al.', '(', '1995', ',', 'S95),', 'Manfroid', 'et', 'al.', '(', '1995', ',', 'M95),', 'and', 'Pedersen', 'Thomsen', '(', '1977', ',', 'P77).', 'For', 'clarity', 'the', 'K2', 'and', 'SMEI', 'data', 'have', 'been', 'binned', 'by', 'phase,', 'using', 'bin', 'sizes', 'of', '0.01', 'cycles.', 'The', 'mean', 'magnitude', 'of', 'each', 'data', 'set', 'was', 'subtracted', 'for', 'display', 'purposes.', 'All', 'of', 'the', 'periods', 'obtained', 'since', 'the', 'year', '2000', 'are', 'approximately', 'consistent', 'with', 'one', 'another;', 'the', 'two', 'periods', 'determined', 'using', 'photometric', 'data', 'obtained', 'prior', 'to', 'the', 'year', '2000', 'are', 'also', 'consistent', 'with', 'one', 'another.', 'At', 'the', 'same', 'time,', 'the', 'difference', 'between', 'the', 'Bowman', 'et', 'al.', '(', '2018', ')', 'and', 'Catalano', 'Leone', '(', '1996', ')', 'periods,', '0.00015', 'd,', 'is', 'almost', 'eight', 'times', 'larger', 'than', 'the', 'formal', 'uncertainty', 'in', 'the', 'Bowman', 'et', 'al.', 'period', '(the', 'less', 'precise', 'of', 'the', 'two).', 'This', 'suggests', 'that', 'the', 'period', 'may', 'have', 'changed.', '3.2', 'Period', 'analysis', 'We', 'now', 'turn', 'to', 'a', 're-examination', 'of', 'the', 'period', 'analysis', 'of', 'the', 'individual', 'data', 'sets;', 'the', 'results', 'are', 'summarized', 'in', 'Table', '2', '.', 'Period', 'analysis', 'was', 'performed', 'using', 'standard', 'Lomb–Scargle', 'statistics', '(Lomb', '1976', ';', 'Scargle', '1982', '),', 'utilizing', 'both', 'the', 'idl', 'program', 'periodogram', '4', 'and', 'the', 'period04', 'package', '(Lenz', 'Breger', '2005', ').', 'The', 'uncertainties', 'were', 'determined', 'in', 'the', 'same', 'manner', 'as', 'by', 'Shultz', 'et', 'al.', '(', '2018', '),', 'i.e.', 'according', 'to', 'the', 'analytic', 'method', 'described', 'by', 'Bloomfield', '(', '1976', ').', 'Examining', 'the', 'ESPaDOnS', 'data', 'in', 'isolation', 'yields', 'P', 'rot', '=', '0.97887(6)', 'd,', 'consistent', 'within', 'uncertainty', 'with', 'the', 'K2', 'period', '(Bowman', 'et', 'al.', '2018', ').', 'The', 'period', 'determined', 'from', 'all', 'available', 'magnetic', 'data', '(i.e.', 'including', 'the', 'previously', 'overlooked', '〈', 'B', 'z', '〉', 'measurements', 'of', 'Borra', 'et', 'al.', '1983', ')', 'is', '0.979855(5)', 'd.', 'The', 'photometric', 'and', 'magnetic', 'data', 'are', 'shown', 'phased', 'with', 'this', 'period', 'in', 'the', 'middle', 'panel', 'of', 'Fig.', '1', '.', 'Phasing', '〈', 'B', 'z', '〉', 'with', 'this', 'period', 'and', 'fitting', 'the', 'ESPaDOnS', 'data', 'with', 'a', 'second-order', 'sinusoid', 'yields', 'a', 'reduced', 'χ', '2', '=', '5,', 'i.e.', 'a', 'poor', 'fit.', 'This', 'period', 'also', 'does', 'not', 'provide', 'a', 'coherent', 'phasing', 'of', 'the', 'majority', 'of', 'the', 'photometric', 'data', 'set.', 'Notably,', 'the', 'variation', 'in', 'the', 'phase-binned', 'SMEI', 'data', 'almost', 'completely', 'disappears,', 'likely', 'because', 'observations', 'are', 'being', 'binned', 'as', 'though', 'they', 'were', 'at', 'the', 'same', 'phase', 'when,', 'in', 'fact,', 'they', 'are', 'not.', 'We', 'can', 'also', 'combine', 'all', 'available', 'photometric', 'data', '(shifted', 'to', 'the', 'mean', 'magnitude', 'of', 'each', 'data', 'set,', 'as', 'in', 'Fig.', '1', '),', 'which', 'yields', 'P', 'rot', '=']\n"
          ]
        }
      ]
    },
    {
      "cell_type": "code",
      "source": [
        "temp2 = [*map(tok2idx.get, temp)]"
      ],
      "metadata": {
        "id": "5EJ4Y05bIN8f"
      },
      "execution_count": null,
      "outputs": []
    },
    {
      "cell_type": "code",
      "source": [
        "print(temp2)"
      ],
      "metadata": {
        "id": "uxWa72PXKC8U",
        "colab": {
          "base_uri": "https://localhost:8080/"
        },
        "outputId": "0e1e7413-91da-4c68-c16a-ed98885d1d5b"
      },
      "execution_count": null,
      "outputs": [
        {
          "output_type": "stream",
          "name": "stdout",
          "text": [
            "[None, 20531, 25093, 392, 10744, 10404, 36208, None, 11313, 36986, 29363, 14366, 8239, 5382, 15213, 15243, 10728, 634, 21472, 26138, 26464, 38809, 42018, 32792, 37997, 42948, None, 29546, 31020, 21954, None, 22900, None, 45287, 33319, 41697, 15433, 37208, 42948, None, 29546, 31020, 45287, 5206, 41697, 2684, 15985, 41985, 20980, 5844, 3095, 2671, 10404, 12082, None, 16114, 32792, 42948, None, 29546, 31020, 2684, 15433, 32792, 42708, 21954, 42948, None, 29546, 31020, 13353, 19179, 25248, 3095, None, 6007, None, 13686, 35891, 45287, 15758, 41697, 15433, 14511, 11313, 6007, None, 13686, 35891, 45287, 37133, 12275, None, 15433, None, 13686, 35891, 45287, 2668, 12275, None, None, 24510, 15433, 14685, 20022, 43787, 20513, 36208, 20282, 9239, 392, 10744, 10404, 36208, None, 42948, None, 29546, 31020, 11313, 15433, 36208, 30943, 10744, 39842, None, 11313, 5135, 3095, None, None, None, 45287, None, 24224, 12227, 15433, None, 33478, 12440, 43691, 6007, None, 13686, 35891, 45287, 19565, 12275, None, None, 13686, 35891, 45287, 19565, 12275, None, 15433, None, None, 45287, 7762, 12275, None, None, 16402, 36208, None, 15433, None, 11313, 15075, 12922, 32957, 6007, 40756, 8239, 20673, 41495, 42018, 44545, 26524, None, 13147, 15394, 42018, 38995, 11313, 4959, 4440, 21510, 4904, 19400, 36234, None, 42018, 36208, 20980, 25248, 17989, 36208, 15341, 25536, 5135, 41936, 33648, 41985, 4750, 6721, 36208, 26286, 20980, 5844, 8239, 42708, 11313, 25248, 40679, 10404, 36208, 15341, 25536, 5135, 9774, 33648, 41985, 4750, 19217, None, 36208, 10075, 22688, 36208, 3208, 20835, 36208, None, 13686, 35891, 45287, 15758, 41697, 15433, None, None, 45287, 39345, 41697, 11078, 28617, 33455, 36229, 5645, 42947, 29854, 12696, 1575, 36208, 43168, 39064, 4242, 36208, None, 13686, 35891, 21450, 37458, 8678, 16135, 42018, 36208, 10823, None, 27541, 39268, 36208, 21450, 7995, 15075, 5800, 32679, None, 13060, None, 13393, 11214, 10404, 20531, 29537, 42018, 36208, 21450, 13060, 42018, 36208, 8766, 11313, 40745, 36208, 25622, 5135, 23774, 4242, None, 27245, 37752, None, 13060, 4440, 45203, 8239, 40011, None, 24847, None, 43658, 4199, None, 22166, 12227, 32847, 15904, 36208, 2864, 32705, 2487, 2602, 15433, 36208, 39598, 24215, None, None, 28641, 45190, None, 30369, 19179, 5844, 4242, 36208, 10075, 2400, 34627, 6007, None, 13686, 35891, 45287, 15758, 12227, 39708, 4968, 10404, 36208, 44875, 12455, 21501, 6007, None, 45287, 43658, 45190, None, 36208, None, 11313, 4242, 42949, 8900, None, 5990, 26602, 44084, 33455, 33648, 25525, 39064, 41985, 36208, None, 21450, None, 13686, 35891, 15758, 45190, None, 21450, 5844, 3095, 32792, 37997, 37208, 11313, 3578, 13907, 36208, 16847, 34542, 42948, None, 29546, 31020, 13353, 42018, None, 13686, 35891, 37133, 41697, 36229, 39850, 6205, None, 42708, 15433, 37208, 11313, 5135, 123, 15985, 41985, 5382, 21450, 4242, 36208, 26447, 33729, 42018, None, 6612, 37752, None, 42948, None, 29546, 31020, 41985, 5382, 21450, 15433, 44077, 36208, None, 11313, 41985, 20531, 9239, 40912, 8900, 20531, 29220, 20824, 27245, 26602, 35282, 39708, 20531, 17544, 3860, None, 21450, 9774, 10728, 634, 17836, 20531, 196, 38809, 42018, 36208, 27753, 42018, 36208, 42708, 11313, 14979, None, 36208, 20969, 4242, 36208, 24470, None, 11313, 5645, 157, 33249, 16304, 14114, 624, 5135, 10964, 32957, 34627, 11764, 18946, 19179, 18535, 36208, 10075, 32159, 2466, 4242, 14481, 18946, 5135, 5384, None, 36986, 9774, 10863, 32792, 37997, 42708, 11313, 39619, 10404, 36208, 13147, 15394, 42018, 38995, 11313, 38611, 34627, 4242, None, 6612, 12227, 37781, 8900, None, 5990, 26602]\n"
          ]
        }
      ]
    },
    {
      "cell_type": "code",
      "source": [
        "idx2tok[2]"
      ],
      "metadata": {
        "colab": {
          "base_uri": "https://localhost:8080/",
          "height": 58
        },
        "id": "ck4i5O1zwgNs",
        "outputId": "1508c2b7-c1de-4d24-89ce-580d44640db3"
      },
      "execution_count": null,
      "outputs": [
        {
          "output_type": "execute_result",
          "data": {
            "text/plain": [
              "'superwasp'"
            ],
            "application/vnd.google.colaboratory.intrinsic+json": {
              "type": "string"
            }
          },
          "metadata": {},
          "execution_count": 35
        }
      ]
    },
    {
      "cell_type": "code",
      "source": [
        "d = df_train.tokens\n",
        "t = df_train.ner_tags"
      ],
      "metadata": {
        "id": "fXQcuPwwaofg"
      },
      "execution_count": null,
      "outputs": []
    },
    {
      "cell_type": "code",
      "source": [
        "print(*d[0], sep=', ')\n",
        "print(*t[0], sep=', ')"
      ],
      "metadata": {
        "colab": {
          "base_uri": "https://localhost:8080/"
        },
        "id": "gftSpj88aoi_",
        "outputId": "269f5b30-615d-47fc-a9e7-870264a190d8"
      },
      "execution_count": null,
      "outputs": [
        {
          "output_type": "stream",
          "name": "stdout",
          "text": [
            "Whilst, a, reasonable, harmonic, fit, to, the, ESPaDOnS, data, can, be, achieved, using, this, period,, it, does, not, produce, an, acceptable, phasing, of, all, available, 〈, B, z, 〉, measurements., Figure, 1., Photometric, (, top, ), and, magnetic, 〈, B, z, 〉, (, bottom, ), measurements,, phased, with, periods, determined, from, (left, to, right), K2, photometry,, all, 〈, B, z, 〉, measurements,, and, all, photometric, measurements., 〈, B, z, 〉, measurements, were, obtained, from, ESPaDOnS, by, Shultz, et, al., (, 2018, ), and, photopolarimetric, data, by, Borra, et, al., (, 1983, ,, BLT83), and, Bohlender, et, al., (, 1993, ,, BLT93)., The, solid, and, dashed, curves, show,, respectively,, the, best, second-order, harmonic, fit, to, the, ESPaDOnS, 〈, B, z, 〉, data, and, the, 1σ, fit, uncertainty., Photometric, data, are, from, K2,, SMEI,, Hipparcos, (, H, p, ),, and, Strömgren, y, photometry, published, by, Sterken, et, al., (, 1995, ,, S95),, Manfroid, et, al., (, 1995, ,, M95),, and, Pedersen, Thomsen, (, 1977, ,, P77)., For, clarity, the, K2, and, SMEI, data, have, been, binned, by, phase,, using, bin, sizes, of, 0.01, cycles., The, mean, magnitude, of, each, data, set, was, subtracted, for, display, purposes., All, of, the, periods, obtained, since, the, year, 2000, are, approximately, consistent, with, one, another;, the, two, periods, determined, using, photometric, data, obtained, prior, to, the, year, 2000, are, also, consistent, with, one, another., At, the, same, time,, the, difference, between, the, Bowman, et, al., (, 2018, ), and, Catalano, Leone, (, 1996, ), periods,, 0.00015, d,, is, almost, eight, times, larger, than, the, formal, uncertainty, in, the, Bowman, et, al., period, (the, less, precise, of, the, two)., This, suggests, that, the, period, may, have, changed., 3.2, Period, analysis, We, now, turn, to, a, re-examination, of, the, period, analysis, of, the, individual, data, sets;, the, results, are, summarized, in, Table, 2, ., Period, analysis, was, performed, using, standard, Lomb–Scargle, statistics, (Lomb, 1976, ;, Scargle, 1982, ),, utilizing, both, the, idl, program, periodogram, 4, and, the, period04, package, (Lenz, Breger, 2005, )., The, uncertainties, were, determined, in, the, same, manner, as, by, Shultz, et, al., (, 2018, ),, i.e., according, to, the, analytic, method, described, by, Bloomfield, (, 1976, )., Examining, the, ESPaDOnS, data, in, isolation, yields, P, rot, =, 0.97887(6), d,, consistent, within, uncertainty, with, the, K2, period, (Bowman, et, al., 2018, )., The, period, determined, from, all, available, magnetic, data, (i.e., including, the, previously, overlooked, 〈, B, z, 〉, measurements, of, Borra, et, al., 1983, ), is, 0.979855(5), d., The, photometric, and, magnetic, data, are, shown, phased, with, this, period, in, the, middle, panel, of, Fig., 1, ., Phasing, 〈, B, z, 〉, with, this, period, and, fitting, the, ESPaDOnS, data, with, a, second-order, sinusoid, yields, a, reduced, χ, 2, =, 5,, i.e., a, poor, fit., This, period, also, does, not, provide, a, coherent, phasing, of, the, majority, of, the, photometric, data, set., Notably,, the, variation, in, the, phase-binned, SMEI, data, almost, completely, disappears,, likely, because, observations, are, being, binned, as, though, they, were, at, the, same, phase, when,, in, fact,, they, are, not., We, can, also, combine, all, available, photometric, data, (shifted, to, the, mean, magnitude, of, each, data, set,, as, in, Fig., 1, ),, which, yields, P, rot, =\n",
            "O, O, O, O, O, O, O, B-Instrument, O, O, O, O, O, O, O, O, O, O, O, O, O, O, O, O, O, O, O, O, O, O, O, O, O, O, O, O, O, O, O, O, O, O, O, O, O, O, O, O, O, O, O, O, O, O, B-Mission, O, O, O, O, O, O, O, O, O, O, O, O, O, O, O, O, O, O, O, B-Instrument, O, B-Citation, I-Citation, I-Citation, I-Citation, I-Citation, I-Citation, O, O, O, O, B-Citation, I-Citation, I-Citation, I-Citation, I-Citation, I-Citation, I-Citation, O, B-Citation, I-Citation, I-Citation, I-Citation, I-Citation, I-Citation, I-Citation, O, O, O, O, O, O, O, O, O, O, O, O, O, O, B-Instrument, O, O, O, O, O, O, O, O, O, O, O, O, O, O, B-Mission, B-Instrument, B-Telescope, O, B-Wavelength, I-Wavelength, O, O, B-Wavelength, I-Wavelength, O, O, O, B-Citation, I-Citation, I-Citation, I-Citation, I-Citation, I-Citation, I-Citation, B-Citation, I-Citation, I-Citation, I-Citation, I-Citation, I-Citation, I-Citation, O, B-Citation, I-Citation, I-Citation, I-Citation, I-Citation, I-Citation, O, O, O, B-Mission, O, B-Instrument, O, O, O, O, O, O, O, O, O, O, O, O, O, O, O, O, O, O, O, O, O, O, O, O, O, O, O, O, O, O, O, O, O, O, O, O, O, O, O, O, O, O, O, O, O, O, O, O, O, O, O, O, O, O, O, O, O, O, O, O, O, O, O, O, O, O, B-Citation, I-Citation, I-Citation, I-Citation, I-Citation, I-Citation, O, B-Citation, I-Citation, I-Citation, I-Citation, I-Citation, O, O, O, O, O, O, O, O, O, O, O, O, O, O, B-Citation, I-Citation, I-Citation, O, O, O, O, O, O, O, O, O, O, O, O, O, O, O, O, O, O, O, O, O, O, O, O, O, O, O, O, O, O, O, O, O, O, O, O, O, O, O, O, O, O, O, O, O, O, O, B-Model, I-Model, B-Citation, I-Citation, O, B-Citation, I-Citation, O, O, O, O, B-Software, O, B-Software, I-Software, O, O, B-Software, O, B-Citation, I-Citation, I-Citation, O, O, O, O, O, O, O, O, O, O, O, B-Citation, I-Citation, I-Citation, I-Citation, I-Citation, I-Citation, O, O, O, O, O, O, O, O, B-Citation, I-Citation, I-Citation, I-Citation, O, O, B-Instrument, O, O, O, O, B-Formula, I-Formula, I-Formula, I-Formula, I-Formula, O, O, O, O, O, B-Mission, O, B-Citation, I-Citation, I-Citation, I-Citation, O, O, O, O, O, O, O, O, O, O, O, O, O, O, O, O, O, O, O, O, B-Citation, I-Citation, I-Citation, I-Citation, O, O, O, O, O, O, O, O, O, O, O, O, O, O, O, O, O, O, O, O, O, O, O, O, O, O, O, O, O, O, O, O, O, O, B-Instrument, O, O, O, O, O, O, O, O, B-Formula, I-Formula, I-Formula, I-Formula, O, O, O, O, O, O, O, O, O, O, O, O, O, O, O, O, O, O, O, O, O, O, O, O, O, O, O, B-Instrument, O, O, O, O, O, O, O, O, O, O, O, O, O, O, O, O, O, O, O, O, O, O, O, O, O, O, O, O, O, O, O, O, O, O, O, O, O, O, O, O, O, O, O, O, O, O, O, O, O, O, O\n"
          ]
        }
      ]
    },
    {
      "cell_type": "code",
      "source": [
        "print(*d[1], sep=', ')\n",
        "print(*t[1], sep=', ')"
      ],
      "metadata": {
        "colab": {
          "base_uri": "https://localhost:8080/"
        },
        "id": "a-ayosnOdmFc",
        "outputId": "bed2714c-9a7f-4ed6-fb86-3783b5a4a728"
      },
      "execution_count": null,
      "outputs": [
        {
          "output_type": "stream",
          "name": "stdout",
          "text": [
            "comparison, once, the, angular, positions, of, the, satellites, are, randomized, around, this, point., From, this, tensor, we, compute, its, eigenvalues,, λ, 1, >, λ, 2, >, λ, 3, ,, and, corresponding, eigenvectors,, ,, ,, ., We, define, the, size, of, the, three, ellipsoidal, axis, as, a, =, λ, 1, ,, b, =, λ, 2, ,, and, c, =, λ, 3, ., We, also, define, as, the, vector, perpendicular, to, the, planar, satellite, distribution., We, also, define, the, RMS, plane, width, w, as, the, standard, deviation, of, the, satellite, distances, to, the, plane, defined, by, the, vector, ., To, summarize, we, characterize, the, satellite, distributionwith, the, following, quantities, obtained, from, the, inertia, tensor:, RMS, plane, width,, w, ., c, /, a, axis, ratio., b, /, a, axis, ratio., 3.3, Characterizing, asphericity, with, normalized, scalars, We, compare, each, satellite, distribution, against, its, own, spherically, randomized, distribution., We, keep, fixed, the, radial, position, of, every, satellite, with, respect, to, the, central, galaxy, and, then, randomize, its, angular, position., We, repeat, this, procedure, 10, 4, times, for, each, satellite, distribution, and, proceed, to, measure, the, quantities, mentioned, in, the, previous, section:, w, ,, c, /, a, ,, and, b, /, a, ., This, allows, us, to, build, a, normalized, version, of, all, quantities, of, interest, by, subtracting, the, mean, and, dividing, by, the, standard, deviation, of, the, values, from, randomized, samples., We, use, the, normalized, quantities, to, build, the, analytic, probability, distributions, for, the, scalars, describing, asphericity., 3.4, Building, an, analytic, asphericity, probability, distribution, After, building, the, normalized, variables, for, the, simulated, data, we, perform, a, Kolmogorov–Smirnov, test, with, the, null, hypothesis, of, belonging, to, a, normal, distribution, with, mean, and, standard, deviation, computed, from, the, mean, and, standard, deviation, estimated, from, the, data., Although, the, physical, quantities, of, interest, are, bound,, we, find, that, the, distributions, for, the, normalized, w, ,, c, /, a, ,, and, b, /, a, are, indeed, consistent, with, Gaussian, distributions., Based, on, this, result, we, build, a, multivariate, normal, distribution, for, the, joint, distributions, of, the, normalized, w, ,, c, /, a, ,, and, b, /, a, where, X, =, [, w, ,, c, /, a, ,, b, /, a, ], T, is, a, vector, variable, with, the, normalized, quantities,, μ, is, the, vector, mean,, and, the, Σ, is, the, covariance, matrix., We, compute, the, preferred, covariance, matrix, and, the, mean, distribution, values, with, a, jackknife, technique., That, is,, out, of, the, n, pairs, in, each, simulation,, we, perform, n, different, covariance, and, mean, value, measurements, using, only, n, −, 1, pairs., The, reported, covariance, and, mean, values, correspond, to, the, average, of, all, measurements,, the, corresponding, standard, deviation, also, helps, us, to, estimate, the, uncertainty, on, every, reported, coefficient., This, compact, description, allows, us, to, generate, samples, of, size, N, that, are, consistent, by, construction, with, their, parent, simulation., Finally,, we, use, the, generated, samples, to, estimate, how, common, are, the, deviations, from, sphericity, that, we, measure, in, the, observational, data., We, use, a, double-tailed, test, around, the, mean, in, this, comparison,, meaning, that, we, count, the, fraction, of\n",
            "O, O, O, O, O, O, O, O, O, O, O, O, O, O, O, O, O, O, O, O, B-Formula, I-Formula, I-Formula, I-Formula, I-Formula, I-Formula, I-Formula, I-Formula, O, O, O, O, O, O, O, O, O, O, O, O, O, O, O, O, O, B-Formula, I-Formula, I-Formula, I-Formula, O, B-Formula, I-Formula, I-Formula, I-Formula, O, O, B-Formula, I-Formula, I-Formula, I-Formula, O, O, O, O, O, O, O, O, O, O, O, O, O, O, O, O, O, O, O, O, O, O, O, O, O, O, O, O, O, O, O, O, O, O, O, O, O, O, O, O, O, O, O, O, O, O, O, O, O, O, O, O, O, O, O, O, O, O, O, O, O, O, O, O, O, O, O, O, O, O, O, O, O, O, O, O, O, O, O, O, O, O, O, O, O, O, O, O, O, O, O, O, O, O, O, O, O, O, O, O, O, O, O, O, O, O, O, O, O, O, O, O, O, O, O, O, O, O, O, O, O, O, O, O, O, O, O, O, O, O, O, O, O, O, O, O, O, O, O, O, O, O, O, O, O, O, O, O, O, O, O, O, O, O, O, O, O, O, O, O, O, O, O, O, O, O, O, O, O, O, O, O, O, O, O, O, O, O, O, O, O, O, O, O, O, O, O, O, O, O, O, O, O, O, O, O, O, O, O, O, O, O, O, O, O, O, O, O, O, O, O, O, O, O, O, O, O, O, O, O, O, O, O, O, O, O, O, O, O, O, O, O, O, O, O, O, O, O, O, O, O, O, O, O, O, O, O, O, O, O, O, O, O, O, O, O, O, O, O, O, O, O, O, O, O, O, O, O, O, O, O, O, O, O, O, O, O, O, O, O, O, O, O, O, O, O, O, O, O, O, B-Formula, I-Formula, I-Formula, I-Formula, I-Formula, I-Formula, I-Formula, I-Formula, I-Formula, I-Formula, I-Formula, I-Formula, I-Formula, I-Formula, O, O, O, O, O, O, O, O, O, O, O, O, O, O, O, O, O, O, O, O, O, O, O, O, O, O, O, O, O, O, O, O, O, O, O, O, O, O, O, O, O, O, O, O, O, O, O, O, O, O, O, O, O, O, O, O, O, O, O, O, O, O, O, O, O, O, O, O, O, O, O, O, O, O, O, O, O, O, O, O, O, O, O, O, O, O, O, O, O, O, O, O, O, O, O, O, O, O, O, O, O, O, O, O, O, O, O, O, O, O, O, O, O, O, O, O, O, O, O, O, O, O, O, O, O, O, O, O, O, O, O, O, O, O, O, O, O, O, O, O, O, O, O, O, O, O, O, O\n"
          ]
        }
      ]
    },
    {
      "cell_type": "code",
      "source": [
        "print(*d[2], sep=', ')\n",
        "print(*t[2], sep=', ')"
      ],
      "metadata": {
        "colab": {
          "base_uri": "https://localhost:8080/"
        },
        "id": "UwSmzrILdrP_",
        "outputId": "039fa146-10b6-4dd6-e288-8a22acfd0002"
      },
      "execution_count": null,
      "outputs": [
        {
          "output_type": "stream",
          "name": "stdout",
          "text": [
            "ACKNOWLEDGEMENTS, The, authors, thank, an, anonymous, reviewer, for, comments, and, suggestions, that, strengthened, our, manuscript., NWCL, gratefully, acknowledges, support, from, the, American, Museum, of, Natural, History, and, the, Richard, Guilder, Graduate, School,, specifically, the, Kalbfleisch, Fellowship, Program,, as, well, as, support, from, a, National, Science, Foundation, Award, No., AST, 11-09395.\n",
            "O, O, O, O, O, O, O, O, O, O, O, O, O, O, O, B-Person, O, O, O, O, O, B-Organization, I-Organization, I-Organization, I-Organization, I-Organization, O, O, B-Organization, I-Organization, I-Organization, I-Organization, O, O, B-Fellowship, I-Fellowship, I-Fellowship, O, O, O, O, O, O, B-Organization, I-Organization, I-Organization, O, O, B-Grant, I-Grant\n"
          ]
        }
      ]
    },
    {
      "cell_type": "code",
      "source": [
        "print(*d[3], sep=', ')\n",
        "print(*t[3], sep=', ')"
      ],
      "metadata": {
        "colab": {
          "base_uri": "https://localhost:8080/"
        },
        "id": "ZJg3XiaZeQZS",
        "outputId": "cd5ab691-14e0-4bdc-838f-2cc34a202042"
      },
      "execution_count": null,
      "outputs": [
        {
          "output_type": "stream",
          "name": "stdout",
          "text": [
            "BDM, gratefully, acknowledges, support, from, NASA, Fermi, grant, NNX14AQ68G,, NSF, grant, AST-1410950,, and, the, Alfred, P., Sloan, Foundation., We, thank, the, anonymous, reviewer, for, several, helpful, suggestions, and, for, emphasizing, the, applicability, of, our, results, to, Type, IIn, supernovae.\n",
            "B-Person, O, O, O, O, B-Organization, B-Grant, I-Grant, I-Grant, B-Organization, O, B-Grant, O, O, B-Organization, I-Organization, I-Organization, I-Organization, O, O, O, O, O, O, O, O, O, O, O, O, O, O, O, O, O, O, O, O, O\n"
          ]
        }
      ]
    },
    {
      "cell_type": "code",
      "source": [
        "# vocab_clean=[]\n",
        "# for word in vocab:\n",
        "#   words = word.lower().translate(str.maketrans('', '', string.punctuation))\n",
        "#   if len(words)>1:vocab_clean.append(words)  "
      ],
      "metadata": {
        "id": "bYvOa8KSwgP9"
      },
      "execution_count": null,
      "outputs": []
    },
    {
      "cell_type": "markdown",
      "source": [
        "Removing any words from the tokens will result mismatching of the NER tags associated with the words and will require re-mapping.\n",
        "\n",
        "**Looking into the data , the columns and the number of unique NER tags and Data Analysis**"
      ],
      "metadata": {
        "id": "W3-BESMreZgY"
      }
    },
    {
      "cell_type": "code",
      "source": [
        "counts = []\n",
        "for item in tags:\n",
        "  for j in item:\n",
        "    counts.append(j) "
      ],
      "metadata": {
        "id": "sXbYwfM-wgSk"
      },
      "execution_count": null,
      "outputs": []
    },
    {
      "cell_type": "markdown",
      "source": [
        "**Checking for tags which have maximum words assign to them so we don't miss them during data cleaning as it will affect our Model accuracy**"
      ],
      "metadata": {
        "id": "kViQm7RpgbJS"
      }
    },
    {
      "cell_type": "code",
      "source": [
        "from collections import Counter\n",
        "count_dict = Counter(counts)"
      ],
      "metadata": {
        "id": "drAqHG0_wgWC"
      },
      "execution_count": null,
      "outputs": []
    },
    {
      "cell_type": "code",
      "source": [
        "count_dict"
      ],
      "metadata": {
        "id": "EXlUIV1jwgYA",
        "colab": {
          "base_uri": "https://localhost:8080/"
        },
        "outputId": "dea71acc-b044-4375-bdc6-5ef1c2c6ad1c"
      },
      "execution_count": null,
      "outputs": [
        {
          "output_type": "execute_result",
          "data": {
            "text/plain": [
              "Counter({'B-Archive': 192,\n",
              "         'B-CelestialObject': 2940,\n",
              "         'B-CelestialObjectRegion': 265,\n",
              "         'B-CelestialRegion': 158,\n",
              "         'B-Citation': 6360,\n",
              "         'B-Collaboration': 306,\n",
              "         'B-ComputingFacility': 399,\n",
              "         'B-Database': 256,\n",
              "         'B-Dataset': 328,\n",
              "         'B-EntityOfFutureInterest': 61,\n",
              "         'B-Event': 45,\n",
              "         'B-Fellowship': 411,\n",
              "         'B-Formula': 2088,\n",
              "         'B-Grant': 3478,\n",
              "         'B-Identifier': 112,\n",
              "         'B-Instrument': 714,\n",
              "         'B-Location': 1404,\n",
              "         'B-Mission': 110,\n",
              "         'B-Model': 1800,\n",
              "         'B-ObservationalTechniques': 124,\n",
              "         'B-Observatory': 873,\n",
              "         'B-Organization': 7448,\n",
              "         'B-Person': 3916,\n",
              "         'B-Proposal': 100,\n",
              "         'B-Software': 1017,\n",
              "         'B-Survey': 885,\n",
              "         'B-Tag': 66,\n",
              "         'B-Telescope': 1573,\n",
              "         'B-TextGarbage': 52,\n",
              "         'B-URL': 294,\n",
              "         'B-Wavelength': 3384,\n",
              "         'I-Archive': 466,\n",
              "         'I-CelestialObject': 1691,\n",
              "         'I-CelestialObjectRegion': 223,\n",
              "         'I-CelestialRegion': 240,\n",
              "         'I-Citation': 18402,\n",
              "         'I-Collaboration': 598,\n",
              "         'I-ComputingFacility': 809,\n",
              "         'I-Database': 259,\n",
              "         'I-Dataset': 368,\n",
              "         'I-EntityOfFutureInterest': 16,\n",
              "         'I-Event': 176,\n",
              "         'I-Fellowship': 1015,\n",
              "         'I-Formula': 8433,\n",
              "         'I-Grant': 4080,\n",
              "         'I-Identifier': 31,\n",
              "         'I-Instrument': 140,\n",
              "         'I-Location': 467,\n",
              "         'I-Mission': 27,\n",
              "         'I-Model': 1244,\n",
              "         'I-ObservationalTechniques': 74,\n",
              "         'I-Observatory': 1035,\n",
              "         'I-Organization': 14211,\n",
              "         'I-Person': 2206,\n",
              "         'I-Proposal': 100,\n",
              "         'I-Software': 472,\n",
              "         'I-Survey': 573,\n",
              "         'I-Tag': 54,\n",
              "         'I-Telescope': 607,\n",
              "         'I-TextGarbage': 54,\n",
              "         'I-URL': 12,\n",
              "         'I-Wavelength': 1583,\n",
              "         'O': 472307})"
            ]
          },
          "metadata": {},
          "execution_count": 44
        }
      ]
    },
    {
      "cell_type": "code",
      "source": [
        "# Majority of the tokens have \"O\" as their tag so it skews the result by a lot\n",
        "data = count_dict\n",
        "names = list(data.keys())\n",
        "values = list(data.values())\n",
        "fig,ax=plt.subplots(figsize=(15,6))\n",
        "plt.bar(range(len(data)), values, tick_label=names)\n",
        "plt.xticks(rotation=90)\n",
        "plt.show()"
      ],
      "metadata": {
        "id": "5U6tZZ5owgbd",
        "colab": {
          "base_uri": "https://localhost:8080/",
          "height": 520
        },
        "outputId": "1cdd3ba8-8703-401d-968c-7d903691d2c1"
      },
      "execution_count": null,
      "outputs": [
        {
          "output_type": "display_data",
          "data": {
            "text/plain": [
              "<Figure size 1080x432 with 1 Axes>"
            ],
            "image/png": "[encoded data removed]"
          },
          "metadata": {
            "needs_background": "light"
          }
        }
      ]
    },
    {
      "cell_type": "code",
      "source": [
        "# After removing 'O' from the dictioanry\n",
        "del count_dict['O']\n",
        "data = count_dict\n",
        "names = list(data.keys())\n",
        "values = list(data.values())\n",
        "fig,ax=plt.subplots(figsize=(15,6))\n",
        "plt.bar(range(len(data)), values, tick_label=names)\n",
        "plt.xticks(rotation=90)\n",
        "plt.show()"
      ],
      "metadata": {
        "colab": {
          "base_uri": "https://localhost:8080/",
          "height": 520
        },
        "id": "bqIfuwUTi98O",
        "outputId": "b7ecf747-2786-48fb-fc30-39d649bd6e0c"
      },
      "execution_count": null,
      "outputs": [
        {
          "output_type": "display_data",
          "data": {
            "text/plain": [
              "<Figure size 1080x432 with 1 Axes>"
            ],
            "image/png": "[encoded data removed]"
          },
          "metadata": {
            "needs_background": "light"
          }
        }
      ]
    },
    {
      "cell_type": "code",
      "source": [
        "Tokenizer = tf.keras.preprocessing.text.Tokenizer(\n",
        "        num_words=len(vocab_main),\n",
        "        filters= None,\n",
        "        lower=True,\n",
        "        char_level=False,\n",
        "        oov_token=None)"
      ],
      "metadata": {
        "id": "X_1u14m9jCBD"
      },
      "execution_count": null,
      "outputs": []
    },
    {
      "cell_type": "code",
      "source": [
        "Tokenizer.fit_on_texts(df_train.tokens)"
      ],
      "metadata": {
        "id": "zBJAW6f4j1FQ"
      },
      "execution_count": null,
      "outputs": []
    },
    {
      "cell_type": "code",
      "source": [
        "word2idx = Tokenizer.word_index\n",
        "idx2word = Tokenizer.index_word\n",
        "vocab_size = Tokenizer.num_words"
      ],
      "metadata": {
        "id": "w82yagHYmi-3"
      },
      "execution_count": null,
      "outputs": []
    },
    {
      "cell_type": "code",
      "source": [
        "#show the 20 first words\n",
        "for i in range(1,20):\n",
        "    print(idx2word[i])"
      ],
      "metadata": {
        "colab": {
          "base_uri": "https://localhost:8080/"
        },
        "id": "YAEvIXM9nOgb",
        "outputId": "2710c618-44e2-4f85-a631-9a2d81b294db"
      },
      "execution_count": null,
      "outputs": [
        {
          "output_type": "stream",
          "name": "stdout",
          "text": [
            "the\n",
            "of\n",
            "and\n",
            "in\n",
            "to\n",
            "a\n",
            "for\n",
            "is\n",
            "we\n",
            "by\n",
            "with\n",
            "this\n",
            "from\n",
            "that\n",
            "et\n",
            "al.\n",
            "are\n",
            "(\n",
            "at\n"
          ]
        }
      ]
    },
    {
      "cell_type": "markdown",
      "source": [
        "Notice How we have ( in our tags, we plan to work with dataset that is cleaner, currently the challenege is that they are all tagged so we will need to map all tokens first with ner_tags. Then clean the tokens and then use the respective tags only."
      ],
      "metadata": {
        "id": "TM5YGnfSnXia"
      }
    },
    {
      "cell_type": "code",
      "source": [
        "df_train.drop(columns=['section','unique_id'],inplace =True)\n",
        "df_train.head()"
      ],
      "metadata": {
        "colab": {
          "base_uri": "https://localhost:8080/",
          "height": 221
        },
        "id": "yP0-gYe5qQvx",
        "outputId": "f6e40ac3-ff4e-49c5-f14c-483156f521ce"
      },
      "execution_count": null,
      "outputs": [
        {
          "output_type": "execute_result",
          "data": {
            "text/plain": [
              "                                            ner_tags  \\\n",
              "0  [O, O, O, O, O, O, O, B-Instrument, O, O, O, O...   \n",
              "1  [O, O, O, O, O, O, O, O, O, O, O, O, O, O, O, ...   \n",
              "2  [O, O, O, O, O, O, O, O, O, O, O, O, O, O, O, ...   \n",
              "3  [B-Person, O, O, O, O, B-Organization, B-Grant...   \n",
              "4  [O, O, O, B-Person, I-Person, B-Person, I-Pers...   \n",
              "\n",
              "                                              tokens  \n",
              "0  [Whilst, a, reasonable, harmonic, fit, to, the...  \n",
              "1  [comparison, once, the, angular, positions, of...  \n",
              "2  [ACKNOWLEDGEMENTS, The, authors, thank, an, an...  \n",
              "3  [BDM, gratefully, acknowledges, support, from,...  \n",
              "4  [ACKNOWLEDGEMENTS, We, thank, Dougal, Mackey,,...  "
            ],
            "text/html": [
              "\n",
              "  <div id=\"df-23796c49-dd94-4367-8be6-6e3633aead82\">\n",
              "    <div class=\"colab-df-container\">\n",
              "      <div>\n",
              "<style scoped>\n",
              "    .dataframe tbody tr th:only-of-type {\n",
              "        vertical-align: middle;\n",
              "    }\n",
              "\n",
              "    .dataframe tbody tr th {\n",
              "        vertical-align: top;\n",
              "    }\n",
              "\n",
              "    .dataframe thead th {\n",
              "        text-align: right;\n",
              "    }\n",
              "</style>\n",
              "<table border=\"1\" class=\"dataframe\">\n",
              "  <thead>\n",
              "    <tr style=\"text-align: right;\">\n",
              "      <th></th>\n",
              "      <th>ner_tags</th>\n",
              "      <th>tokens</th>\n",
              "    </tr>\n",
              "  </thead>\n",
              "  <tbody>\n",
              "    <tr>\n",
              "      <th>0</th>\n",
              "      <td>[O, O, O, O, O, O, O, B-Instrument, O, O, O, O...</td>\n",
              "      <td>[Whilst, a, reasonable, harmonic, fit, to, the...</td>\n",
              "    </tr>\n",
              "    <tr>\n",
              "      <th>1</th>\n",
              "      <td>[O, O, O, O, O, O, O, O, O, O, O, O, O, O, O, ...</td>\n",
              "      <td>[comparison, once, the, angular, positions, of...</td>\n",
              "    </tr>\n",
              "    <tr>\n",
              "      <th>2</th>\n",
              "      <td>[O, O, O, O, O, O, O, O, O, O, O, O, O, O, O, ...</td>\n",
              "      <td>[ACKNOWLEDGEMENTS, The, authors, thank, an, an...</td>\n",
              "    </tr>\n",
              "    <tr>\n",
              "      <th>3</th>\n",
              "      <td>[B-Person, O, O, O, O, B-Organization, B-Grant...</td>\n",
              "      <td>[BDM, gratefully, acknowledges, support, from,...</td>\n",
              "    </tr>\n",
              "    <tr>\n",
              "      <th>4</th>\n",
              "      <td>[O, O, O, B-Person, I-Person, B-Person, I-Pers...</td>\n",
              "      <td>[ACKNOWLEDGEMENTS, We, thank, Dougal, Mackey,,...</td>\n",
              "    </tr>\n",
              "  </tbody>\n",
              "</table>\n",
              "</div>\n",
              "      <button class=\"colab-df-convert\" onclick=\"convertToInteractive('df-23796c49-dd94-4367-8be6-6e3633aead82')\"\n",
              "              title=\"Convert this dataframe to an interactive table.\"\n",
              "              style=\"display:none;\">\n",
              "        \n",
              "  <svg xmlns=\"http://www.w3.org/2000/svg\" height=\"24px\"viewBox=\"0 0 24 24\"\n",
              "       width=\"24px\">\n",
              "    <path d=\"M0 0h24v24H0V0z\" fill=\"none\"/>\n",
              "    <path d=\"M18.56 5.44l.94 2.06.94-2.06 2.06-.94-2.06-.94-.94-2.06-.94 2.06-2.06.94zm-11 1L8.5 8.5l.94-2.06 2.06-.94-2.06-.94L8.5 2.5l-.94 2.06-2.06.94zm10 10l.94 2.06.94-2.06 2.06-.94-2.06-.94-.94-2.06-.94 2.06-2.06.94z\"/><path d=\"M17.41 7.96l-1.37-1.37c-.4-.4-.92-.59-1.43-.59-.52 0-1.04.2-1.43.59L10.3 9.45l-7.72 7.72c-.78.78-.78 2.05 0 2.83L4 21.41c.39.39.9.59 1.41.59.51 0 1.02-.2 1.41-.59l7.78-7.78 2.81-2.81c.8-.78.8-2.07 0-2.86zM5.41 20L4 18.59l7.72-7.72 1.47 1.35L5.41 20z\"/>\n",
              "  </svg>\n",
              "      </button>\n",
              "      \n",
              "  <style>\n",
              "    .colab-df-container {\n",
              "      display:flex;\n",
              "      flex-wrap:wrap;\n",
              "      gap: 12px;\n",
              "    }\n",
              "\n",
              "    .colab-df-convert {\n",
              "      background-color: #E8F0FE;\n",
              "      border: none;\n",
              "      border-radius: 50%;\n",
              "      cursor: pointer;\n",
              "      display: none;\n",
              "      fill: #1967D2;\n",
              "      height: 32px;\n",
              "      padding: 0 0 0 0;\n",
              "      width: 32px;\n",
              "    }\n",
              "\n",
              "    .colab-df-convert:hover {\n",
              "      background-color: #E2EBFA;\n",
              "      box-shadow: 0px 1px 2px rgba(60, 64, 67, 0.3), 0px 1px 3px 1px rgba(60, 64, 67, 0.15);\n",
              "      fill: #174EA6;\n",
              "    }\n",
              "\n",
              "    [theme=dark] .colab-df-convert {\n",
              "      background-color: #3B4455;\n",
              "      fill: #D2E3FC;\n",
              "    }\n",
              "\n",
              "    [theme=dark] .colab-df-convert:hover {\n",
              "      background-color: #434B5C;\n",
              "      box-shadow: 0px 1px 3px 1px rgba(0, 0, 0, 0.15);\n",
              "      filter: drop-shadow(0px 1px 2px rgba(0, 0, 0, 0.3));\n",
              "      fill: #FFFFFF;\n",
              "    }\n",
              "  </style>\n",
              "\n",
              "      <script>\n",
              "        const buttonEl =\n",
              "          document.querySelector('#df-23796c49-dd94-4367-8be6-6e3633aead82 button.colab-df-convert');\n",
              "        buttonEl.style.display =\n",
              "          google.colab.kernel.accessAllowed ? 'block' : 'none';\n",
              "\n",
              "        async function convertToInteractive(key) {\n",
              "          const element = document.querySelector('#df-23796c49-dd94-4367-8be6-6e3633aead82');\n",
              "          const dataTable =\n",
              "            await google.colab.kernel.invokeFunction('convertToInteractive',\n",
              "                                                     [key], {});\n",
              "          if (!dataTable) return;\n",
              "\n",
              "          const docLinkHtml = 'Like what you see? Visit the ' +\n",
              "            '<a target=\"_blank\" href=https://colab.research.google.com/notebooks/data_table.ipynb>data table notebook</a>'\n",
              "            + ' to learn more about interactive tables.';\n",
              "          element.innerHTML = '';\n",
              "          dataTable['output_type'] = 'display_data';\n",
              "          await google.colab.output.renderOutput(dataTable, element);\n",
              "          const docLink = document.createElement('div');\n",
              "          docLink.innerHTML = docLinkHtml;\n",
              "          element.appendChild(docLink);\n",
              "        }\n",
              "      </script>\n",
              "    </div>\n",
              "  </div>\n",
              "  "
            ]
          },
          "metadata": {},
          "execution_count": 51
        }
      ]
    },
    {
      "cell_type": "code",
      "source": [
        "tag_list = []\n",
        "for element in df_train.ner_tags:\n",
        "    for i in element:\n",
        "        if i not in tag_list:\n",
        "            tag_list.append(i)"
      ],
      "metadata": {
        "id": "2DiyhSVlq0Ae"
      },
      "execution_count": null,
      "outputs": []
    },
    {
      "cell_type": "code",
      "source": [
        "Tokenizer_2 = tf.keras.preprocessing.text.Tokenizer(num_words=len(tag_list))\n",
        "Tokenizer_2.fit_on_texts(df_train.ner_tags)\n",
        "word2idx_tag = Tokenizer_2.word_index\n",
        "idx2word_tag = Tokenizer_2.index_word\n",
        "vocab_size_tag = Tokenizer_2.num_words\n",
        "word2idx_tag"
      ],
      "metadata": {
        "colab": {
          "base_uri": "https://localhost:8080/"
        },
        "id": "p99d47uDnVd1",
        "outputId": "115d68fd-90f6-4734-9866-7f75708c6b86"
      },
      "execution_count": null,
      "outputs": [
        {
          "output_type": "execute_result",
          "data": {
            "text/plain": [
              "{'b-archive': 44,\n",
              " 'b-celestialobject': 11,\n",
              " 'b-celestialobjectregion': 39,\n",
              " 'b-celestialregion': 46,\n",
              " 'b-citation': 6,\n",
              " 'b-collaboration': 37,\n",
              " 'b-computingfacility': 34,\n",
              " 'b-database': 41,\n",
              " 'b-dataset': 36,\n",
              " 'b-entityoffutureinterest': 55,\n",
              " 'b-event': 59,\n",
              " 'b-fellowship': 33,\n",
              " 'b-formula': 13,\n",
              " 'b-grant': 9,\n",
              " 'b-identifier': 49,\n",
              " 'b-instrument': 26,\n",
              " 'b-location': 18,\n",
              " 'b-mission': 50,\n",
              " 'b-model': 14,\n",
              " 'b-observationaltechniques': 48,\n",
              " 'b-observatory': 24,\n",
              " 'b-organization': 5,\n",
              " 'b-person': 8,\n",
              " 'b-proposal': 51,\n",
              " 'b-software': 21,\n",
              " 'b-survey': 23,\n",
              " 'b-tag': 54,\n",
              " 'b-telescope': 17,\n",
              " 'b-textgarbage': 58,\n",
              " 'b-url': 38,\n",
              " 'b-wavelength': 10,\n",
              " 'i-archive': 32,\n",
              " 'i-celestialobject': 15,\n",
              " 'i-celestialobjectregion': 43,\n",
              " 'i-celestialregion': 42,\n",
              " 'i-citation': 2,\n",
              " 'i-collaboration': 28,\n",
              " 'i-computingfacility': 25,\n",
              " 'i-database': 40,\n",
              " 'i-dataset': 35,\n",
              " 'i-entityoffutureinterest': 62,\n",
              " 'i-event': 45,\n",
              " 'i-fellowship': 22,\n",
              " 'i-formula': 4,\n",
              " 'i-grant': 7,\n",
              " 'i-identifier': 60,\n",
              " 'i-instrument': 47,\n",
              " 'i-location': 31,\n",
              " 'i-mission': 61,\n",
              " 'i-model': 19,\n",
              " 'i-observationaltechniques': 53,\n",
              " 'i-observatory': 20,\n",
              " 'i-organization': 3,\n",
              " 'i-person': 12,\n",
              " 'i-proposal': 52,\n",
              " 'i-software': 30,\n",
              " 'i-survey': 29,\n",
              " 'i-tag': 57,\n",
              " 'i-telescope': 27,\n",
              " 'i-textgarbage': 56,\n",
              " 'i-url': 63,\n",
              " 'i-wavelength': 16,\n",
              " 'o': 1}"
            ]
          },
          "metadata": {},
          "execution_count": 53
        }
      ]
    },
    {
      "cell_type": "code",
      "source": [
        "vocab = [str(item).lower() for element in df_train.tokens for item in element]\n",
        "vocab = list(set(vocab))\n",
        "len_vocab = len(vocab)\n",
        "print('Number of different words : ',len_vocab)\n",
        "vocab[:10]"
      ],
      "metadata": {
        "colab": {
          "base_uri": "https://localhost:8080/"
        },
        "id": "4iaCDfihxLy4",
        "outputId": "d5db4e8f-75d8-496a-fac1-7190b08fae4f"
      },
      "execution_count": null,
      "outputs": [
        {
          "output_type": "stream",
          "name": "stdout",
          "text": [
            "Number of different words :  45753\n"
          ]
        },
        {
          "output_type": "execute_result",
          "data": {
            "text/plain": [
              "['superwasp',\n",
              " 'matsuda,',\n",
              " '-11133006,',\n",
              " 'poleward',\n",
              " '(caastro),',\n",
              " '≤5%',\n",
              " \"gw190814's\",\n",
              " '1711',\n",
              " 'variances',\n",
              " 'matplotlib.org']"
            ]
          },
          "metadata": {},
          "execution_count": 54
        }
      ]
    },
    {
      "cell_type": "code",
      "source": [
        "X = Tokenizer.texts_to_sequences(df_train.tokens)\n",
        "y = Tokenizer_2.texts_to_sequences(df_train.ner_tags)\n",
        "print( X[0])\n",
        "print( y[0])"
      ],
      "metadata": {
        "colab": {
          "base_uri": "https://localhost:8080/"
        },
        "id": "1YU9-a8hq8Bu",
        "outputId": "14e3a945-af68-4ba2-8e5c-96dd9c9fb879"
      },
      "execution_count": null,
      "outputs": [
        {
          "output_type": "stream",
          "name": "stdout",
          "text": [
            "[4979, 6, 1411, 5410, 214, 5, 1, 5868, 32, 43, 25, 2672, 54, 12, 2065, 42, 368, 39, 653, 28, 6499, 10266, 2, 64, 430, 1865, 141, 101, 2124, 2066, 45, 510, 449, 18, 414, 24, 3, 93, 1865, 141, 101, 2124, 18, 546, 24, 2577, 6500, 11, 841, 465, 13, 2771, 5, 4593, 2772, 4980, 64, 1865, 141, 101, 2124, 2577, 3, 64, 449, 2066, 1865, 141, 101, 2124, 306, 61, 114, 13, 5868, 10, 13137, 15, 16, 18, 206, 24, 3, 19350, 32, 10, 13138, 15, 16, 18, 2673, 21, 19351, 3, 19352, 15, 16, 18, 1516, 21, 19353, 1, 527, 3, 436, 405, 7316, 741, 1, 512, 4981, 5410, 214, 5, 1, 5868, 1865, 141, 101, 2124, 32, 3, 1, 2773, 214, 4594, 449, 32, 17, 13, 19354, 19355, 13139, 18, 70, 202, 34, 3, 8494, 400, 643, 1257, 10, 13140, 15, 16, 18, 1633, 21, 19356, 19357, 15, 16, 18, 1633, 21, 19358, 3, 19359, 19360, 18, 3007, 21, 19361, 7, 2878, 1, 2772, 3, 13141, 32, 36, 86, 2181, 10, 2125, 54, 1412, 994, 2, 2479, 8495, 1, 238, 374, 2, 77, 32, 246, 33, 2578, 7, 2126, 5411, 64, 2, 1, 841, 114, 285, 1, 3275, 644, 17, 995, 267, 11, 102, 13142, 1, 60, 841, 465, 54, 449, 32, 114, 1275, 5, 1, 3275, 644, 17, 37, 267, 11, 102, 8496, 19, 1, 106, 890, 1, 312, 51, 1, 8497, 15, 16, 18, 206, 24, 3, 19362, 19363, 18, 1482, 24, 4595, 19364, 2774, 8, 722, 1738, 425, 230, 48, 1, 4033, 463, 4, 1, 8497, 15, 16, 410, 807, 369, 1866, 2, 1, 19365, 12, 786, 14, 1, 410, 129, 36, 13143, 925, 410, 148, 9, 794, 2394, 5, 6, 13144, 2, 1, 410, 148, 2, 1, 428, 32, 19366, 1, 84, 17, 1517, 4, 100, 38, 26, 410, 148, 33, 383, 54, 335, 7317, 1413, 13145, 3461, 31, 10267, 2674, 34, 3835, 99, 1, 8498, 247, 4034, 97, 3, 1, 13146, 1483, 13147, 13148, 446, 23, 1, 464, 61, 465, 4, 1, 106, 3276, 20, 10, 13137, 15, 16, 18, 206, 34, 913, 637, 5, 1, 2127, 344, 327, 10, 19367, 18, 3461, 23, 6501, 1, 5868, 32, 4, 7318, 1149, 202, 2579, 29, 19368, 2774, 267, 122, 463, 11, 1, 2772, 410, 19369, 15, 16, 206, 23, 1, 410, 465, 13, 64, 430, 93, 32, 1276, 429, 1, 996, 13149, 1865, 141, 101, 2124, 306, 2, 13138, 15, 16, 2673, 24, 8, 19370, 1708, 1, 449, 3, 93, 32, 17, 113, 6500, 11, 12, 410, 4, 1, 1210, 211, 2, 47, 53, 26, 10266, 1865, 141, 101, 2124, 11, 12, 410, 3, 467, 1, 5868, 32, 11, 6, 4981, 19371, 1149, 6, 787, 1168, 38, 29, 2395, 913, 6, 2396, 3155, 12, 410, 37, 368, 39, 701, 6, 3277, 10266, 2, 1, 1634, 2, 1, 449, 32, 3156, 10268, 1, 621, 4, 1, 13150, 13141, 32, 722, 1961, 19372, 412, 189, 75, 17, 454, 2181, 20, 891, 159, 61, 19, 1, 106, 376, 13151, 4, 1709, 159, 17, 4596, 9, 43, 37, 5412, 64, 430, 449, 32, 19373, 5, 1, 238, 374, 2, 77, 32, 3278, 20, 4, 47, 53, 34, 27, 1149, 202, 2579, 29]\n",
            "[1, 1, 1, 1, 1, 1, 1, 26, 1, 1, 1, 1, 1, 1, 1, 1, 1, 1, 1, 1, 1, 1, 1, 1, 1, 1, 1, 1, 1, 1, 1, 1, 1, 1, 1, 1, 1, 1, 1, 1, 1, 1, 1, 1, 1, 1, 1, 1, 1, 1, 1, 1, 1, 1, 50, 1, 1, 1, 1, 1, 1, 1, 1, 1, 1, 1, 1, 1, 1, 1, 1, 1, 1, 1, 26, 1, 6, 2, 2, 2, 2, 2, 1, 1, 1, 1, 6, 2, 2, 2, 2, 2, 2, 1, 6, 2, 2, 2, 2, 2, 2, 1, 1, 1, 1, 1, 1, 1, 1, 1, 1, 1, 1, 1, 1, 26, 1, 1, 1, 1, 1, 1, 1, 1, 1, 1, 1, 1, 1, 1, 50, 26, 17, 1, 10, 16, 1, 1, 10, 16, 1, 1, 1, 6, 2, 2, 2, 2, 2, 2, 6, 2, 2, 2, 2, 2, 2, 1, 6, 2, 2, 2, 2, 2, 1, 1, 1, 50, 1, 26, 1, 1, 1, 1, 1, 1, 1, 1, 1, 1, 1, 1, 1, 1, 1, 1, 1, 1, 1, 1, 1, 1, 1, 1, 1, 1, 1, 1, 1, 1, 1, 1, 1, 1, 1, 1, 1, 1, 1, 1, 1, 1, 1, 1, 1, 1, 1, 1, 1, 1, 1, 1, 1, 1, 1, 1, 1, 1, 1, 1, 1, 1, 1, 1, 1, 1, 6, 2, 2, 2, 2, 2, 1, 6, 2, 2, 2, 2, 1, 1, 1, 1, 1, 1, 1, 1, 1, 1, 1, 1, 1, 1, 6, 2, 2, 1, 1, 1, 1, 1, 1, 1, 1, 1, 1, 1, 1, 1, 1, 1, 1, 1, 1, 1, 1, 1, 1, 1, 1, 1, 1, 1, 1, 1, 1, 1, 1, 1, 1, 1, 1, 1, 1, 1, 1, 1, 1, 1, 1, 1, 1, 1, 14, 19, 6, 2, 1, 6, 2, 1, 1, 1, 1, 21, 1, 21, 30, 1, 1, 21, 1, 6, 2, 2, 1, 1, 1, 1, 1, 1, 1, 1, 1, 1, 1, 6, 2, 2, 2, 2, 2, 1, 1, 1, 1, 1, 1, 1, 1, 6, 2, 2, 2, 1, 1, 26, 1, 1, 1, 1, 13, 4, 4, 4, 4, 1, 1, 1, 1, 1, 50, 1, 6, 2, 2, 2, 1, 1, 1, 1, 1, 1, 1, 1, 1, 1, 1, 1, 1, 1, 1, 1, 1, 1, 1, 1, 6, 2, 2, 2, 1, 1, 1, 1, 1, 1, 1, 1, 1, 1, 1, 1, 1, 1, 1, 1, 1, 1, 1, 1, 1, 1, 1, 1, 1, 1, 1, 1, 1, 1, 1, 1, 1, 1, 26, 1, 1, 1, 1, 1, 1, 1, 1, 13, 4, 4, 4, 1, 1, 1, 1, 1, 1, 1, 1, 1, 1, 1, 1, 1, 1, 1, 1, 1, 1, 1, 1, 1, 1, 1, 1, 1, 1, 1, 26, 1, 1, 1, 1, 1, 1, 1, 1, 1, 1, 1, 1, 1, 1, 1, 1, 1, 1, 1, 1, 1, 1, 1, 1, 1, 1, 1, 1, 1, 1, 1, 1, 1, 1, 1, 1, 1, 1, 1, 1, 1, 1, 1, 1, 1, 1, 1, 1, 1, 1, 1]\n"
          ]
        }
      ]
    },
    {
      "cell_type": "code",
      "source": [
        "print( X[1])\n",
        "print( y[1])"
      ],
      "metadata": {
        "colab": {
          "base_uri": "https://localhost:8080/"
        },
        "id": "TIp3K1mWsHwg",
        "outputId": "94f40c3b-03cd-432f-87ca-ef9a92fec8da"
      },
      "execution_count": null,
      "outputs": [
        {
          "output_type": "stream",
          "name": "stdout",
          "text": [
            "[382, 1037, 1, 328, 1127, 2, 1, 2480, 17, 7319, 270, 12, 3640, 13, 12, 8499, 9, 1434, 105, 19374, 379, 53, 441, 379, 38, 441, 379, 62, 21, 3, 343, 19375, 21, 21, 26, 9, 1561, 1, 336, 2, 1, 235, 7320, 702, 20, 6, 29, 379, 53, 21, 141, 29, 379, 38, 21, 3, 166, 29, 379, 62, 26, 9, 37, 1561, 20, 1, 1326, 1302, 5, 1, 7321, 1239, 2067, 9, 37, 1561, 1, 931, 795, 695, 892, 20, 1, 335, 770, 2, 1, 1239, 961, 5, 1, 795, 654, 10, 1, 1326, 26, 5, 3008, 9, 3279, 1, 1239, 19376, 1, 313, 1189, 114, 13, 1, 7322, 19377, 931, 795, 8500, 892, 26, 166, 304, 6, 702, 3462, 141, 304, 6, 702, 3462, 1562, 8501, 13152, 11, 808, 8502, 9, 592, 77, 1239, 131, 1484, 105, 3836, 4982, 7319, 2067, 9, 2314, 745, 1, 227, 435, 2, 1190, 1239, 11, 682, 5, 1, 337, 142, 3, 200, 19378, 105, 328, 4597, 9, 4983, 12, 1128, 65, 97, 425, 7, 77, 1239, 131, 3, 4598, 5, 746, 1, 1189, 2013, 4, 1, 447, 19379, 892, 21, 166, 304, 6, 21, 3, 141, 304, 6, 26, 12, 914, 272, 5, 3009, 6, 808, 945, 2, 64, 1189, 2, 3010, 10, 2580, 1, 238, 3, 4310, 10, 1, 335, 770, 2, 1, 108, 13, 7319, 2315, 9, 72, 1, 808, 1189, 5, 3009, 1, 2127, 870, 455, 7, 1, 8502, 3157, 19380, 2879, 4311, 28, 2127, 13152, 870, 131, 252, 4311, 1, 808, 2581, 7, 1, 528, 32, 9, 1674, 6, 10269, 469, 11, 1, 1820, 2128, 2, 3837, 5, 6, 1376, 131, 11, 238, 3, 335, 770, 500, 13, 1, 238, 3, 335, 770, 341, 13, 1, 452, 352, 1, 540, 1189, 2, 3010, 17, 13153, 9, 192, 14, 1, 455, 7, 1, 808, 892, 21, 166, 304, 6, 21, 3, 141, 304, 6, 17, 1458, 267, 11, 538, 3280, 121, 22, 12, 334, 9, 3009, 6, 13154, 1376, 131, 7, 1, 522, 455, 2, 1, 808, 892, 21, 166, 304, 6, 21, 3, 141, 304, 6, 82, 279, 29, 3281, 892, 21, 166, 304, 6, 21, 141, 304, 6, 730, 96, 8, 6, 1326, 1129, 11, 1, 808, 5869, 501, 8, 1, 1326, 10270, 3, 1, 231, 8, 1, 2775, 5870, 9, 1434, 1, 3641, 2775, 1635, 3, 1, 238, 131, 108, 11, 6, 10271, 6502, 14, 1327, 228, 2, 1, 124, 1485, 4, 77, 2397, 9, 1674, 124, 78, 2775, 3, 238, 134, 306, 54, 88, 124, 353, 53, 8503, 1, 420, 2775, 3, 238, 108, 1130, 5, 1, 284, 2, 64, 2577, 1, 343, 335, 770, 37, 7323, 272, 5, 354, 1, 463, 22, 1190, 420, 5413, 12, 631, 1563, 914, 272, 5, 2316, 689, 2, 336, 124, 14, 17, 267, 10, 3838, 11, 55, 3011, 1710, 690, 9, 72, 1, 1258, 689, 5, 354, 504, 1150, 17, 1, 2129, 13, 19381, 14, 9, 746, 4, 1, 645, 452, 9, 72, 6, 19382, 469, 270, 1, 238, 4, 12, 2317, 2582, 14, 9, 1739, 1, 321, 2]\n",
            "[1, 1, 1, 1, 1, 1, 1, 1, 1, 1, 1, 1, 1, 1, 1, 1, 1, 1, 1, 1, 13, 4, 4, 4, 4, 4, 4, 4, 1, 1, 1, 1, 1, 1, 1, 1, 1, 1, 1, 1, 1, 1, 1, 1, 1, 13, 4, 4, 4, 1, 13, 4, 4, 4, 1, 1, 13, 4, 4, 4, 1, 1, 1, 1, 1, 1, 1, 1, 1, 1, 1, 1, 1, 1, 1, 1, 1, 1, 1, 1, 1, 1, 1, 1, 1, 1, 1, 1, 1, 1, 1, 1, 1, 1, 1, 1, 1, 1, 1, 1, 1, 1, 1, 1, 1, 1, 1, 1, 1, 1, 1, 1, 1, 1, 1, 1, 1, 1, 1, 1, 1, 1, 1, 1, 1, 1, 1, 1, 1, 1, 1, 1, 1, 1, 1, 1, 1, 1, 1, 1, 1, 1, 1, 1, 1, 1, 1, 1, 1, 1, 1, 1, 1, 1, 1, 1, 1, 1, 1, 1, 1, 1, 1, 1, 1, 1, 1, 1, 1, 1, 1, 1, 1, 1, 1, 1, 1, 1, 1, 1, 1, 1, 1, 1, 1, 1, 1, 1, 1, 1, 1, 1, 1, 1, 1, 1, 1, 1, 1, 1, 1, 1, 1, 1, 1, 1, 1, 1, 1, 1, 1, 1, 1, 1, 1, 1, 1, 1, 1, 1, 1, 1, 1, 1, 1, 1, 1, 1, 1, 1, 1, 1, 1, 1, 1, 1, 1, 1, 1, 1, 1, 1, 1, 1, 1, 1, 1, 1, 1, 1, 1, 1, 1, 1, 1, 1, 1, 1, 1, 1, 1, 1, 1, 1, 1, 1, 1, 1, 1, 1, 1, 1, 1, 1, 1, 1, 1, 1, 1, 1, 1, 1, 1, 1, 1, 1, 1, 1, 1, 1, 1, 1, 1, 1, 1, 1, 1, 1, 1, 1, 1, 1, 1, 1, 1, 1, 1, 1, 1, 1, 1, 1, 1, 1, 1, 1, 1, 1, 1, 1, 1, 1, 1, 1, 1, 1, 1, 1, 1, 1, 1, 1, 1, 1, 1, 1, 1, 1, 1, 1, 1, 1, 1, 1, 1, 1, 1, 1, 1, 1, 13, 4, 4, 4, 4, 4, 4, 4, 4, 4, 4, 4, 4, 4, 1, 1, 1, 1, 1, 1, 1, 1, 1, 1, 1, 1, 1, 1, 1, 1, 1, 1, 1, 1, 1, 1, 1, 1, 1, 1, 1, 1, 1, 1, 1, 1, 1, 1, 1, 1, 1, 1, 1, 1, 1, 1, 1, 1, 1, 1, 1, 1, 1, 1, 1, 1, 1, 1, 1, 1, 1, 1, 1, 1, 1, 1, 1, 1, 1, 1, 1, 1, 1, 1, 1, 1, 1, 1, 1, 1, 1, 1, 1, 1, 1, 1, 1, 1, 1, 1, 1, 1, 1, 1, 1, 1, 1, 1, 1, 1, 1, 1, 1, 1, 1, 1, 1, 1, 1, 1, 1, 1, 1, 1, 1, 1, 1, 1, 1, 1, 1, 1, 1, 1, 1, 1, 1, 1, 1, 1, 1, 1, 1, 1, 1, 1, 1, 1, 1, 1, 1, 1, 1, 1, 1, 1, 1, 1, 1, 1, 1, 1]\n"
          ]
        }
      ]
    },
    {
      "cell_type": "code",
      "source": [
        "print(X[2])\n",
        "print(y[2])"
      ],
      "metadata": {
        "colab": {
          "base_uri": "https://localhost:8080/"
        },
        "id": "CXvXeLb3s8M6",
        "outputId": "25831ef8-c469-4845-98aa-f40161e59a35"
      },
      "execution_count": null,
      "outputs": [
        {
          "output_type": "stream",
          "name": "stdout",
          "text": [
            "[290, 1, 265, 56, 28, 218, 2130, 7, 207, 3, 638, 14, 3642, 30, 565, 19383, 646, 81, 41, 13, 1, 3643, 5414, 2, 572, 1821, 3, 1, 4984, 19384, 2131, 13155, 4312, 1, 19385, 456, 1962, 20, 183, 20, 41, 13, 6, 52, 57, 175, 893, 184, 4985, 19386]\n",
            "[1, 1, 1, 1, 1, 1, 1, 1, 1, 1, 1, 1, 1, 1, 1, 8, 1, 1, 1, 1, 1, 5, 3, 3, 3, 3, 1, 1, 5, 3, 3, 3, 1, 1, 33, 22, 22, 1, 1, 1, 1, 1, 1, 5, 3, 3, 1, 1, 9, 7]\n"
          ]
        }
      ]
    },
    {
      "cell_type": "code",
      "source": [
        "X = tf.keras.preprocessing.sequence.pad_sequences(X, maxlen=300, padding='post', truncating='post').reshape((-1,300))\n",
        "y = tf.keras.preprocessing.sequence.pad_sequences(y, maxlen=300, padding='post', truncating='post').reshape((-1,300))"
      ],
      "metadata": {
        "id": "BAKbrNV-s-r_"
      },
      "execution_count": null,
      "outputs": []
    },
    {
      "cell_type": "code",
      "source": [
        "X_train, X_test, y_train, y_test = train_test_split(X, y, test_size=0.2)"
      ],
      "metadata": {
        "id": "63mCu-tUwIH7"
      },
      "execution_count": null,
      "outputs": []
    },
    {
      "cell_type": "code",
      "source": [
        "print(\"shape of X_train is:\",X_train.shape)\n",
        "print(\"shape of X_test is:\",X_test.shape)\n",
        "print(\"shape of y_train is:\",y_train.shape)\n",
        "print(\"shape of y_test is:\",y_test.shape)"
      ],
      "metadata": {
        "colab": {
          "base_uri": "https://localhost:8080/"
        },
        "id": "7cRQWsm8OgbT",
        "outputId": "df0339bf-17ff-4275-86dc-feb94abd9053"
      },
      "execution_count": null,
      "outputs": [
        {
          "output_type": "stream",
          "name": "stdout",
          "text": [
            "shape of X_train is: (1402, 300)\n",
            "shape of X_test is: (351, 300)\n",
            "shape of y_train is: (1402, 300)\n",
            "shape of y_test is: (351, 300)\n"
          ]
        }
      ]
    },
    {
      "cell_type": "code",
      "source": [
        "inputs=tf.keras.Input((300,))\n",
        "embedd=tf.keras.layers.Embedding(input_dim=len_vocab +1,output_dim=300,mask_zero=True)(inputs)\n",
        "rnnLayer=tf.keras.layers.SimpleRNN(300,return_sequences=True)(embedd)\n",
        "x=tf.keras.layers.Dropout(0.2)(rnnLayer)\n",
        "rnnLayer=tf.keras.layers.SimpleRNN(300,return_sequences=True)(x)\n",
        "x=tf.keras.layers.Dropout(0.2)(rnnLayer)\n",
        "x=tf.keras.layers.Dense(300,activation='relu')(x)\n",
        "x=tf.keras.layers.Dropout(0.2)(x)\n",
        "outputs=tf.keras.layers.Dense(300,activation='softmax')(x)\n",
        "model=tf.keras.Model(inputs,outputs)\n",
        "model.summary()"
      ],
      "metadata": {
        "colab": {
          "base_uri": "https://localhost:8080/"
        },
        "id": "6nMLJmT3E1vS",
        "outputId": "33304aba-a245-422a-a71b-40359cdd9db2"
      },
      "execution_count": null,
      "outputs": [
        {
          "output_type": "stream",
          "name": "stdout",
          "text": [
            "Model: \"model\"\n",
            "_________________________________________________________________\n",
            " Layer (type)                Output Shape              Param #   \n",
            "=================================================================\n",
            " input_1 (InputLayer)        [(None, 300)]             0         \n",
            "                                                                 \n",
            " embedding (Embedding)       (None, 300, 300)          13726200  \n",
            "                                                                 \n",
            " simple_rnn (SimpleRNN)      (None, 300, 300)          180300    \n",
            "                                                                 \n",
            " dropout (Dropout)           (None, 300, 300)          0         \n",
            "                                                                 \n",
            " simple_rnn_1 (SimpleRNN)    (None, 300, 300)          180300    \n",
            "                                                                 \n",
            " dropout_1 (Dropout)         (None, 300, 300)          0         \n",
            "                                                                 \n",
            " dense (Dense)               (None, 300, 300)          90300     \n",
            "                                                                 \n",
            " dropout_2 (Dropout)         (None, 300, 300)          0         \n",
            "                                                                 \n",
            " dense_1 (Dense)             (None, 300, 300)          90300     \n",
            "                                                                 \n",
            "=================================================================\n",
            "Total params: 14,267,400\n",
            "Trainable params: 14,267,400\n",
            "Non-trainable params: 0\n",
            "_________________________________________________________________\n"
          ]
        }
      ]
    },
    {
      "cell_type": "code",
      "source": [
        "model.compile(optimizer='adam', loss='sparse_categorical_crossentropy', metrics=['accuracy'])\n",
        "history = model.fit(X_train,y_train,validation_data=(X_test,y_test),epochs=30,batch_size=64)"
      ],
      "metadata": {
        "colab": {
          "base_uri": "https://localhost:8080/"
        },
        "id": "uM4KoAaiP4yA",
        "outputId": "dd478cc1-cf10-4b5d-b332-42498775c607"
      },
      "execution_count": null,
      "outputs": [
        {
          "output_type": "stream",
          "name": "stdout",
          "text": [
            "Epoch 1/30\n",
            "22/22 [==============================] - 27s 993ms/step - loss: 1.3564 - accuracy: 0.7325 - val_loss: 0.8759 - val_accuracy: 0.7881\n",
            "Epoch 2/30\n",
            "22/22 [==============================] - 23s 1s/step - loss: 0.8469 - accuracy: 0.8006 - val_loss: 0.8481 - val_accuracy: 0.7881\n",
            "Epoch 3/30\n",
            "22/22 [==============================] - 21s 934ms/step - loss: 0.8280 - accuracy: 0.8006 - val_loss: 0.8420 - val_accuracy: 0.7880\n",
            "Epoch 4/30\n",
            "22/22 [==============================] - 20s 920ms/step - loss: 0.8129 - accuracy: 0.8006 - val_loss: 0.8833 - val_accuracy: 0.7772\n",
            "Epoch 5/30\n",
            "22/22 [==============================] - 20s 927ms/step - loss: 0.7862 - accuracy: 0.7962 - val_loss: 0.6679 - val_accuracy: 0.7912\n",
            "Epoch 6/30\n",
            "22/22 [==============================] - 20s 914ms/step - loss: 0.5774 - accuracy: 0.8152 - val_loss: 0.5697 - val_accuracy: 0.8305\n",
            "Epoch 7/30\n",
            "22/22 [==============================] - 22s 999ms/step - loss: 0.4795 - accuracy: 0.8340 - val_loss: 0.5254 - val_accuracy: 0.8365\n",
            "Epoch 8/30\n",
            "22/22 [==============================] - 21s 956ms/step - loss: 0.4283 - accuracy: 0.8463 - val_loss: 0.4883 - val_accuracy: 0.8484\n",
            "Epoch 9/30\n",
            "22/22 [==============================] - 22s 993ms/step - loss: 0.3853 - accuracy: 0.8646 - val_loss: 0.4766 - val_accuracy: 0.8536\n",
            "Epoch 10/30\n",
            "22/22 [==============================] - 20s 931ms/step - loss: 0.3440 - accuracy: 0.8797 - val_loss: 0.4755 - val_accuracy: 0.8568\n",
            "Epoch 11/30\n",
            "22/22 [==============================] - 20s 917ms/step - loss: 0.3095 - accuracy: 0.8891 - val_loss: 0.4209 - val_accuracy: 0.8659\n",
            "Epoch 12/30\n",
            "22/22 [==============================] - 20s 923ms/step - loss: 0.2802 - accuracy: 0.8981 - val_loss: 0.4035 - val_accuracy: 0.8775\n",
            "Epoch 13/30\n",
            "22/22 [==============================] - 21s 961ms/step - loss: 0.2407 - accuracy: 0.9114 - val_loss: 0.3901 - val_accuracy: 0.8776\n",
            "Epoch 14/30\n",
            "22/22 [==============================] - 20s 923ms/step - loss: 0.2127 - accuracy: 0.9213 - val_loss: 0.3887 - val_accuracy: 0.8856\n",
            "Epoch 15/30\n",
            "22/22 [==============================] - 20s 924ms/step - loss: 0.1847 - accuracy: 0.9308 - val_loss: 0.4044 - val_accuracy: 0.8867\n",
            "Epoch 16/30\n",
            "22/22 [==============================] - 21s 958ms/step - loss: 0.1630 - accuracy: 0.9382 - val_loss: 0.4241 - val_accuracy: 0.8900\n",
            "Epoch 17/30\n",
            "22/22 [==============================] - 28s 1s/step - loss: 0.1441 - accuracy: 0.9454 - val_loss: 0.4242 - val_accuracy: 0.8953\n",
            "Epoch 18/30\n",
            "22/22 [==============================] - 23s 1s/step - loss: 0.1257 - accuracy: 0.9526 - val_loss: 0.4239 - val_accuracy: 0.8902\n",
            "Epoch 19/30\n",
            "22/22 [==============================] - 21s 969ms/step - loss: 0.1074 - accuracy: 0.9601 - val_loss: 0.4438 - val_accuracy: 0.8933\n",
            "Epoch 20/30\n",
            "22/22 [==============================] - 23s 989ms/step - loss: 0.0945 - accuracy: 0.9647 - val_loss: 0.4661 - val_accuracy: 0.8845\n",
            "Epoch 21/30\n",
            "22/22 [==============================] - 21s 940ms/step - loss: 0.0838 - accuracy: 0.9688 - val_loss: 0.4983 - val_accuracy: 0.8916\n",
            "Epoch 22/30\n",
            "22/22 [==============================] - 21s 966ms/step - loss: 0.0692 - accuracy: 0.9742 - val_loss: 0.5066 - val_accuracy: 0.8912\n",
            "Epoch 23/30\n",
            "22/22 [==============================] - 20s 926ms/step - loss: 0.0591 - accuracy: 0.9784 - val_loss: 0.5130 - val_accuracy: 0.8902\n",
            "Epoch 24/30\n",
            "22/22 [==============================] - 20s 905ms/step - loss: 0.0507 - accuracy: 0.9812 - val_loss: 0.5456 - val_accuracy: 0.8893\n",
            "Epoch 25/30\n",
            "22/22 [==============================] - 21s 963ms/step - loss: 0.0446 - accuracy: 0.9837 - val_loss: 0.5679 - val_accuracy: 0.8902\n",
            "Epoch 26/30\n",
            "22/22 [==============================] - 20s 922ms/step - loss: 0.0419 - accuracy: 0.9845 - val_loss: 0.5775 - val_accuracy: 0.8895\n",
            "Epoch 27/30\n",
            "22/22 [==============================] - 20s 926ms/step - loss: 0.0418 - accuracy: 0.9841 - val_loss: 0.6234 - val_accuracy: 0.8888\n",
            "Epoch 28/30\n",
            "22/22 [==============================] - 20s 907ms/step - loss: 0.0353 - accuracy: 0.9870 - val_loss: 0.6212 - val_accuracy: 0.8848\n",
            "Epoch 29/30\n",
            "22/22 [==============================] - 22s 1s/step - loss: 0.0314 - accuracy: 0.9883 - val_loss: 0.6252 - val_accuracy: 0.8843\n",
            "Epoch 30/30\n",
            "22/22 [==============================] - 21s 934ms/step - loss: 0.0274 - accuracy: 0.9899 - val_loss: 0.6596 - val_accuracy: 0.8857\n"
          ]
        }
      ]
    },
    {
      "cell_type": "code",
      "source": [
        "model.save('model1.h5')"
      ],
      "metadata": {
        "id": "mP5uh_1XJlgQ"
      },
      "execution_count": null,
      "outputs": []
    },
    {
      "cell_type": "code",
      "source": [
        "# Plot the MSE of the model\n",
        "plt.rcParams[\"figure.figsize\"] = (10,6)\n",
        "plt.title(\"Loss performance of 2 RNN model\",fontsize=20)\n",
        "plt.plot(history.history['loss'], label='Train loss')\n",
        "plt.plot(history.history['val_loss'],  label='Val loss')\n",
        "plt.legend()\n",
        "# Set the axes labels\n",
        "plt.xlabel('Epochs',fontsize=10)\n",
        "plt.legend(fontsize=8)\n",
        "plt.show()"
      ],
      "metadata": {
        "colab": {
          "base_uri": "https://localhost:8080/",
          "height": 430
        },
        "id": "fMIM4t9awC37",
        "outputId": "e9d2600e-0982-4846-d301-cb1743402791"
      },
      "execution_count": null,
      "outputs": [
        {
          "output_type": "display_data",
          "data": {
            "text/plain": [
              "<Figure size 720x432 with 1 Axes>"
            ],
            "image/png": "[encoded data removed]"
          },
          "metadata": {
            "needs_background": "light"
          }
        }
      ]
    },
    {
      "cell_type": "code",
      "source": [
        "model.evaluate(X_test, y_test, verbose = 1) "
      ],
      "metadata": {
        "colab": {
          "base_uri": "https://localhost:8080/"
        },
        "id": "L8dmFlp9UiFW",
        "outputId": "e643cf9a-1c52-4265-c509-3e88ce631256"
      },
      "execution_count": null,
      "outputs": [
        {
          "output_type": "stream",
          "name": "stdout",
          "text": [
            "11/11 [==============================] - 1s 82ms/step - loss: 0.6596 - accuracy: 0.8857\n"
          ]
        },
        {
          "output_type": "execute_result",
          "data": {
            "text/plain": [
              "[0.6596238613128662, 0.8856816291809082]"
            ]
          },
          "metadata": {},
          "execution_count": 67
        }
      ]
    },
    {
      "cell_type": "code",
      "source": [
        "for i in range(10):\n",
        "  y_pred = model.predict(np.array([X_test[i]]))\n",
        "  pred = np.argmax(np.array(y_pred), axis=-1)\n",
        "  print(\"Original  : \",[*map(idx2word_tag.get, y_test[i])])\n",
        "  print(\"predicted : \",[*map(idx2word_tag.get, pred[0])])\n",
        "  print(\"-\"*100)"
      ],
      "metadata": {
        "colab": {
          "base_uri": "https://localhost:8080/"
        },
        "id": "ryO3slR4kceB",
        "outputId": "9ee5f829-3f65-4e62-d84b-df96bf36d93f"
      },
      "execution_count": null,
      "outputs": [
        {
          "output_type": "stream",
          "name": "stdout",
          "text": [
            "Original  :  ['o', 'o', 'o', 'o', 'o', 'o', 'o', 'o', 'o', 'o', 'o', 'o', 'o', 'o', 'o', 'o', 'o', 'o', 'o', 'o', 'o', 'o', 'o', 'o', 'o', 'o', 'o', 'o', 'o', 'o', 'o', 'o', 'o', 'o', 'o', 'o', 'o', 'o', 'o', 'o', 'o', 'o', 'o', 'o', 'o', 'o', 'o', 'o', 'o', 'o', 'o', 'o', 'o', 'o', 'o', 'o', 'o', 'o', 'o', 'o', 'o', 'o', 'o', 'o', 'o', 'o', 'o', 'o', 'o', 'o', 'o', 'o', 'o', 'o', 'o', 'o', 'o', 'o', 'o', 'o', 'o', 'o', 'o', 'o', 'o', 'o', 'o', 'o', 'o', 'o', 'o', 'o', 'o', 'o', 'o', 'o', 'o', 'o', 'o', 'o', 'o', 'o', 'o', 'o', 'o', 'o', 'o', 'o', 'o', 'o', 'o', 'o', 'o', 'o', 'o', 'o', 'o', 'o', 'o', 'o', 'o', 'o', 'o', 'b-citation', 'i-citation', 'o', 'o', 'o', 'o', 'o', 'o', 'o', 'o', 'o', 'o', 'o', 'o', 'o', 'o', 'o', 'o', 'o', 'o', 'o', 'o', 'o', 'o', 'o', 'o', 'o', 'o', 'o', 'o', 'o', 'o', 'o', 'o', 'o', 'o', 'o', 'o', 'o', 'o', 'o', 'o', 'o', 'o', 'o', 'o', 'o', 'o', 'o', 'o', 'o', 'o', 'o', 'o', 'o', 'o', 'o', 'o', 'o', 'o', 'o', 'o', 'o', 'o', 'o', 'o', 'o', 'o', 'o', 'o', 'o', 'o', 'o', 'o', 'o', 'o', 'o', 'o', 'o', 'o', 'o', 'o', 'o', 'o', 'o', 'o', 'o', 'o', 'o', 'o', 'o', 'o', 'o', 'o', 'o', 'o', 'o', 'o', 'o', 'o', 'o', 'o', 'o', 'o', 'o', 'o', 'o', 'o', 'o', 'o', 'o', 'o', 'o', 'o', 'o', 'o', 'o', 'o', 'o', 'o', 'o', 'o', 'o', 'o', 'o', 'o', 'o', 'o', 'o', 'o', 'o', 'o', 'o', 'o', 'o', 'o', 'o', 'o', 'o', 'o', 'o', 'o', 'o', 'o', 'o', 'o', 'o', 'o', 'o', 'o', 'o', 'o', 'o', 'o', 'o', 'o', 'o', 'o', 'o', 'o', 'o', 'o', 'o', 'o', 'o', 'o', 'o', 'o', 'o', 'o', 'o', 'o', 'o', 'o', 'o', 'o', 'o']\n",
            "predicted :  ['o', 'o', 'o', 'o', 'b-grant', 'o', 'o', 'o', 'o', 'o', 'o', 'o', 'o', 'o', 'o', 'o', 'o', 'o', 'o', 'o', 'o', 'o', 'o', 'o', 'o', 'o', 'o', 'o', 'o', 'o', 'o', 'o', 'o', 'o', 'o', 'o', 'o', 'o', 'o', 'o', 'o', 'o', 'o', 'o', 'o', 'o', 'o', 'o', 'o', 'o', 'o', 'o', 'o', 'o', 'o', 'o', 'o', 'o', 'o', 'o', 'o', 'o', 'o', 'o', 'o', 'o', 'o', 'o', 'o', 'o', 'o', 'o', 'o', 'o', 'o', 'o', 'o', 'o', 'o', 'o', 'o', 'o', 'o', 'o', 'o', 'o', 'o', 'o', 'o', 'o', 'o', 'o', 'o', 'o', 'o', 'o', 'o', 'o', 'o', 'o', 'o', 'o', 'o', 'o', 'o', 'o', 'o', 'o', 'o', 'o', 'o', 'o', 'o', 'o', 'o', 'o', 'o', 'o', 'b-wavelength', 'o', 'o', 'o', 'o', 'b-observatory', 'i-citation', 'o', 'o', 'o', 'o', 'o', 'o', 'o', 'o', 'o', 'o', 'o', 'o', 'o', 'o', 'o', 'o', 'o', 'o', 'o', 'o', 'o', 'o', 'o', 'o', 'o', 'o', 'o', 'o', 'o', 'o', 'o', 'o', 'o', 'o', 'o', 'o', 'o', 'o', 'b-formula', 'o', 'o', 'o', 'o', 'o', 'o', 'o', 'o', 'o', 'o', 'o', 'o', 'o', 'o', 'o', 'o', 'o', 'o', 'o', 'o', 'o', 'o', 'o', 'o', 'o', 'o', 'o', 'o', 'o', 'o', 'o', 'o', 'o', 'o', 'o', 'o', 'o', 'o', 'o', 'o', 'o', 'o', 'o', 'o', 'o', 'o', 'o', 'o', 'o', 'o', 'o', 'o', 'o', 'o', 'o', 'o', 'o', 'o', 'o', 'o', 'o', 'o', 'o', 'o', 'o', 'o', 'o', 'o', 'o', 'o', 'o', 'o', 'o', 'o', 'o', 'o', 'o', 'o', 'o', 'o', 'o', 'o', 'o', 'o', 'o', 'o', 'o', 'o', 'o', 'o', 'o', 'o', 'o', 'o', 'o', 'o', 'o', 'o', 'o', 'o', 'o', 'o', 'o', 'o', 'o', 'o', 'o', 'o', 'o', 'o', 'o', 'o', 'o', 'o', 'o', 'o', 'b-computingfacility', 'o', 'o', 'o', 'o', 'o', 'o', 'o', 'o', 'o', 'o', 'o', 'o', 'o', 'o', 'o', 'o', 'o', 'o', 'o']\n",
            "----------------------------------------------------------------------------------------------------\n",
            "Original  :  ['o', 'o', 'o', 'o', 'o', 'o', 'o', 'o', 'o', 'o', 'o', 'o', 'o', 'o', 'o', 'o', 'o', 'o', 'o', 'o', 'o', 'o', 'o', 'o', 'o', 'o', 'o', 'o', 'o', 'o', 'o', 'o', 'o', 'o', 'o', 'o', 'b-wavelength', 'o', 'o', 'o', 'o', 'o', 'o', 'o', 'o', 'o', 'o', 'o', 'o', 'o', 'o', 'o', 'o', 'o', 'o', 'o', 'o', 'o', 'o', 'b-observatory', 'o', 'o', 'o', 'o', 'o', 'o', 'o', 'o', 'o', 'o', 'o', 'o', 'o', 'o', 'o', 'o', 'o', 'o', 'o', 'o', 'o', 'o', 'o', 'o', 'o', 'o', 'o', 'o', 'o', 'o', 'o', 'b-wavelength', 'o', 'o', 'o', 'o', 'o', 'o', 'o', 'o', 'o', 'o', 'o', 'b-model', 'i-model', 'o', 'o', 'o', 'o', 'o', 'o', 'o', 'o', 'o', 'o', 'o', 'o', 'o', 'o', 'o', 'o', 'o', 'o', 'o', 'o', 'o', 'o', 'o', 'b-wavelength', 'i-wavelength', 'b-wavelength', 'o', 'b-wavelength', 'i-wavelength', 'o', 'o', 'o', 'o', 'o', 'o', 'o', 'o', 'o', 'o', 'o', 'o', 'o', 'o', 'o', 'o', 'o', 'o', 'o', 'o', 'o', 'o', 'o', 'o', 'o', 'b-citation', 'i-citation', 'i-citation', 'i-citation', 'o', 'o', 'o', 'o', 'o', 'o', 'o', 'o', 'o', 'o', 'o', 'o', 'o', 'o', 'o', 'o', 'o', 'o', 'o', 'o', 'o', 'o', 'o', 'o', 'o', 'o', 'o', 'o', 'o', 'o', 'o', 'o', 'o', 'o', 'o', 'o', 'b-citation', 'i-citation', 'i-citation', 'o', 'o', 'o', 'o', 'b-citation', 'i-citation', 'i-citation', 'o', 'o', 'o', 'o', 'b-citation', 'i-citation', 'i-citation', 'o', 'b-citation', 'o', 'o', 'o', 'o', 'o', 'o', 'o', 'o', 'b-citation', 'i-citation', 'i-citation', 'i-citation', 'o', 'o', 'o', 'o', 'o', 'o', 'o', 'o', 'o', 'o', 'o', 'o', 'o', 'o', 'o', 'o', 'o', 'b-citation', 'i-citation', 'i-citation', 'i-citation', 'o', 'o', 'o', 'o', 'o', 'o', 'o', 'o', 'o', 'o', 'o', 'o', 'o', 'o', 'o', 'o', 'o', 'o', 'o', 'b-telescope', 'b-observatory', 'o', 'b-telescope', 'b-citation', 'i-citation', 'i-citation', 'i-citation', 'i-citation', 'i-citation', 'o', 'o', 'o', 'o', 'o', 'o', 'o', 'o', 'o', 'o', 'o', 'o', 'o', 'o', 'o', 'o', 'o', 'o', 'o', 'o']\n",
            "predicted :  ['o', 'o', 'o', 'o', 'o', 'o', 'o', 'o', 'o', 'o', 'o', 'o', 'o', 'o', 'o', 'o', 'o', 'o', 'o', 'o', 'o', 'o', 'o', 'o', 'o', 'b-formula', 'o', 'o', 'b-wavelength', 'o', 'o', 'o', 'o', 'o', 'o', 'o', 'b-formula', 'o', 'o', 'o', 'o', 'o', 'o', 'o', 'o', 'o', 'o', 'o', 'o', 'o', 'o', 'o', 'o', 'o', 'o', 'o', 'b-model', 'o', 'o', 'o', 'o', 'o', 'o', 'b-wavelength', 'i-wavelength', 'o', 'o', 'o', 'o', 'o', 'o', 'o', 'o', 'o', 'b-wavelength', 'o', 'o', 'o', 'o', 'o', 'o', 'o', 'o', 'o', 'o', 'o', 'o', 'o', 'o', 'o', 'o', 'b-wavelength', 'o', 'o', 'o', 'o', 'o', 'o', 'o', 'o', 'o', 'o', 'o', 'o', 'o', 'o', 'o', 'o', 'o', 'o', 'o', 'o', 'o', 'o', 'o', 'o', 'o', 'o', 'o', 'o', 'o', 'o', 'o', 'o', 'o', 'o', 'o', 'o', 'o', 'b-wavelength', 'o', 'o', 'o', 'b-wavelength', 'o', 'o', 'o', 'o', 'o', 'o', 'o', 'o', 'o', 'o', 'o', 'o', 'o', 'o', 'o', 'o', 'o', 'o', 'o', 'o', 'o', 'o', 'o', 'o', 'o', 'o', 'b-model', 'i-citation', 'i-citation', 'i-model', 'o', 'o', 'o', 'o', 'o', 'o', 'o', 'o', 'o', 'o', 'o', 'o', 'o', 'o', 'o', 'o', 'o', 'o', 'o', 'o', 'o', 'o', 'o', 'o', 'o', 'o', 'o', 'o', 'o', 'o', 'o', 'o', 'o', 'o', 'o', 'o', 'o', 'b-model', 'o', 'o', 'o', 'o', 'o', 'o', 'i-model', 'o', 'o', 'o', 'o', 'o', 'o', 'b-model', 'o', 'b-model', 'o', 'o', 'o', 'o', 'o', 'o', 'o', 'o', 'b-model', 'i-citation', 'i-citation', 'i-citation', 'o', 'o', 'o', 'o', 'o', 'o', 'o', 'o', 'o', 'o', 'o', 'o', 'o', 'o', 'o', 'o', 'o', 'o', 'i-model', 'i-citation', 'i-citation', 'o', 'o', 'o', 'b-mission', 'o', 'o', 'o', 'o', 'o', 'o', 'o', 'o', 'o', 'o', 'o', 'o', 'o', 'b-model', 'o', 'b-dataset', 'i-dataset', 'o', 'b-url', 'b-citation', 'i-citation', 'i-archive', 'i-citation', 'i-citation', 'i-citation', 'o', 'o', 'o', 'o', 'o', 'o', 'o', 'o', 'o', 'o', 'o', 'o', 'o', 'o', 'o', 'o', 'o', 'o', 'o', 'o']\n",
            "----------------------------------------------------------------------------------------------------\n",
            "Original  :  ['o', 'o', 'o', 'o', 'o', 'o', 'o', 'o', 'o', 'o', 'o', 'o', 'o', 'o', 'o', 'o', 'o', 'o', 'o', 'o', 'o', 'o', 'o', 'o', 'o', 'o', 'b-wavelength', 'b-wavelength', 'i-wavelength', 'o', 'o', 'o', 'o', 'o', 'o', 'o', 'o', 'o', 'o', 'o', 'o', 'o', 'o', 'o', 'o', 'o', 'o', 'o', 'o', 'o', 'o', 'o', 'o', 'o', 'o', 'o', 'o', 'o', 'o', 'o', 'o', 'b-wavelength', 'o', 'b-wavelength', 'o', 'o', 'o', 'o', 'o', 'o', 'o', 'o', 'o', 'o', 'o', 'o', 'o', 'o', 'o', 'o', 'o', 'o', 'o', 'o', 'o', 'o', 'o', 'b-citation', 'i-citation', 'i-citation', 'i-citation', 'i-citation', 'o', 'o', 'o', 'o', 'o', 'o', 'o', 'o', 'o', 'o', 'o', 'o', 'o', 'o', 'o', 'o', 'o', 'o', 'o', 'o', 'o', 'o', 'o', 'o', 'o', 'o', 'o', 'o', 'o', 'o', 'o', 'o', 'o', 'o', 'o', 'o', 'o', 'o', 'o', 'o', 'o', 'o', 'o', 'o', 'o', 'o', 'o', 'o', 'o', 'o', 'o', 'o', 'o', 'o', 'o', 'o', 'o', 'o', 'o', 'o', 'o', 'o', 'o', 'o', 'o', 'o', 'o', 'o', 'o', 'o', 'o', 'o', 'o', 'o', 'o', 'o', 'o', 'o', 'o', 'o', 'o', 'o', 'o', 'o', 'o', 'b-wavelength', 'i-wavelength', 'b-wavelength', 'i-wavelength', 'i-wavelength', 'o', 'o', 'b-citation', 'i-citation', 'i-citation', 'i-citation', 'i-citation', 'o', 'o', 'o', 'o', 'o', 'o', 'o', 'o', 'o', 'o', 'o', 'o', 'o', 'o', 'o', 'o', 'o', 'o', 'o', 'o', 'o', 'o', 'o', 'b-wavelength', 'i-wavelength', 'i-wavelength', 'i-wavelength', 'i-wavelength', 'o', 'o', 'o', 'o', 'o', 'o', 'o', 'o', 'b-database', 'i-database', 'i-database', 'b-citation', 'i-citation', 'i-citation', 'i-citation', 'o', 'o', 'o', 'o', 'o', 'o', 'o', 'o', 'o', 'o', 'o', 'o', 'o', 'o', 'o', 'o', 'o', 'o', 'o', 'o', 'o', 'o', 'o', 'o', 'o', 'o', 'o', 'o', 'o', 'o', 'o', 'o', 'o', 'o', 'o', 'o', 'o', 'o', 'o', 'o', 'o', 'o', 'o', 'o', 'o', 'o', 'o', 'o', 'o', 'o', 'o', 'o', 'o', 'o', 'o', 'o', 'o', 'o', 'o', 'o', 'o', 'o', 'o', 'o', 'o', 'o', 'o', 'o']\n",
            "predicted :  ['o', 'o', 'o', 'o', 'o', 'o', 'o', 'o', 'o', 'o', 'o', 'o', 'o', 'o', 'o', 'o', 'o', 'o', 'o', 'o', 'o', 'o', 'o', 'o', 'o', 'o', 'o', 'o', 'o', 'o', 'o', 'o', 'o', 'o', 'o', 'o', 'o', 'o', 'o', 'o', 'o', 'o', 'o', 'o', 'o', 'o', 'i-wavelength', 'o', 'o', 'o', 'o', 'o', 'o', 'o', 'o', 'o', 'o', 'o', 'o', 'o', 'o', 'o', 'o', 'o', 'o', 'o', 'o', 'o', 'o', 'o', 'o', 'o', 'o', 'o', 'i-computingfacility', 'i-computingfacility', 'o', 'o', 'o', 'o', 'o', 'o', 'o', 'o', 'o', 'o', 'o', 'o', 'b-dataset', 'o', 'b-citation', 'o', 'o', 'o', 'o', 'o', 'o', 'b-model', 'o', 'o', 'o', 'o', 'o', 'o', 'o', 'o', 'o', 'o', 'o', 'o', 'o', 'o', 'o', 'o', 'b-model', 'b-model', 'o', 'o', 'o', 'o', 'o', 'o', 'o', 'o', 'o', 'o', 'o', 'o', 'o', 'o', 'o', 'o', 'o', 'o', 'o', 'o', 'o', 'o', 'o', 'o', 'o', 'o', 'o', 'o', 'o', 'o', 'o', 'o', 'o', 'o', 'o', 'o', 'o', 'o', 'o', 'o', 'o', 'o', 'o', 'o', 'o', 'o', 'o', 'o', 'o', 'o', 'o', 'o', 'o', 'o', 'b-wavelength', 'o', 'o', 'o', 'o', 'o', 'o', 'o', 'o', 'o', 'o', 'o', 'o', 'o', 'o', 'o', 'o', 'b-model', 'i-model', 'o', 'o', 'o', 'o', 'i-model', 'o', 'o', 'b-model', 'o', 'o', 'o', 'o', 'o', 'o', 'o', 'o', 'o', 'o', 'o', 'o', 'o', 'o', 'o', 'o', 'o', 'o', 'o', 'o', 'o', 'o', 'o', 'o', 'o', 'o', 'o', 'o', 'o', 'o', 'o', 'o', 'o', 'b-citation', 'i-citation', 'o', 'o', 'o', 'o', 'o', 'o', 'o', 'o', 'o', 'o', 'o', 'o', 'o', 'o', 'o', 'o', 'o', 'o', 'o', 'o', 'o', 'o', 'o', 'o', 'o', 'o', 'o', 'o', 'o', 'o', 'o', 'o', 'o', 'o', 'o', 'o', 'o', 'o', 'o', 'o', 'o', 'o', 'o', 'o', 'o', 'o', 'o', 'o', 'o', 'o', 'o', 'o', 'o', 'o', 'o', 'o', 'o', 'o', 'o', 'o', 'o', 'o', 'o', 'o', 'o', 'o', 'o', 'o']\n",
            "----------------------------------------------------------------------------------------------------\n",
            "Original  :  ['o', 'b-person', 'o', 'o', 'o', 'o', 'o', 'o', 'o', 'b-organization', 'i-organization', 'i-organization', 'b-person', 'b-person', 'o', 'b-person', 'o', 'o', 'o', 'o', 'b-organization', 'i-organization', 'i-organization', 'i-organization', 'i-organization', 'b-organization', 'b-location', 'o', 'o', 'o', 'o', 'o', 'o', 'o', 'o', 'o', 'o', 'o', 'o', 'o', 'o', 'o', 'o', 'o', 'o', 'o', 'o', 'b-database', 'i-database', 'i-database', 'i-database', 'o', 'o', 'o', 'b-location', 'b-organization', 'o', 'o', 'b-grant', 'o', 'o', 'o', 'o', 'o', 'o', 'b-organization', 'i-organization', 'i-organization', 'o', 'b-organization', 'i-organization', 'i-organization', 'o', 'b-archive', 'i-archive', 'i-archive', 'i-archive', None, None, None, None, None, None, None, None, None, None, None, None, None, None, None, None, None, None, None, None, None, None, None, None, None, None, None, None, None, None, None, None, None, None, None, None, None, None, None, None, None, None, None, None, None, None, None, None, None, None, None, None, None, None, None, None, None, None, None, None, None, None, None, None, None, None, None, None, None, None, None, None, None, None, None, None, None, None, None, None, None, None, None, None, None, None, None, None, None, None, None, None, None, None, None, None, None, None, None, None, None, None, None, None, None, None, None, None, None, None, None, None, None, None, None, None, None, None, None, None, None, None, None, None, None, None, None, None, None, None, None, None, None, None, None, None, None, None, None, None, None, None, None, None, None, None, None, None, None, None, None, None, None, None, None, None, None, None, None, None, None, None, None, None, None, None, None, None, None, None, None, None, None, None, None, None, None, None, None, None, None, None, None, None, None, None, None, None, None, None, None, None, None, None, None, None, None, None, None, None, None, None, None, None, None, None, None, None, None, None, None, None, None, None, None, None, None, None, None, None, None, None, None]\n",
            "predicted :  ['o', 'b-person', 'o', 'o', 'o', 'b-fellowship', 'i-grant', 'o', 'o', 'b-grant', 'i-fellowship', 'i-organization', 'i-fellowship', 'o', 'o', 'b-person', 'o', 'o', 'o', 'o', 'b-organization', 'i-organization', 'i-organization', 'i-organization', 'i-organization', 'i-organization', 'b-location', 'o', 'o', 'o', 'o', 'o', 'o', 'o', 'o', 'o', 'o', 'o', 'o', 'o', 'o', 'o', 'o', 'o', 'o', 'o', 'o', 'b-software', 'i-software', 'i-software', 'i-software', 'o', 'o', 'o', 'b-location', 'b-organization', 'o', 'o', 'b-grant', 'o', 'o', 'o', 'o', 'o', 'o', 'b-software', 'o', 'o', 'o', 'b-software', 'i-event', 'i-archive', 'o', 'b-organization', 'i-organization', 'i-organization', 'i-organization', 'i-organization', 'i-organization', 'i-organization', 'i-organization', 'i-organization', 'i-organization', 'i-organization', 'i-organization', 'i-organization', 'i-organization', 'i-organization', 'i-organization', 'i-organization', 'i-organization', 'i-organization', 'i-organization', 'i-organization', 'i-organization', 'i-organization', 'i-organization', 'i-organization', 'i-organization', 'i-organization', 'i-organization', 'i-organization', 'i-organization', 'i-organization', 'i-organization', 'i-organization', 'i-organization', 'i-organization', 'i-organization', 'i-organization', 'i-organization', 'i-organization', 'i-organization', 'i-organization', 'i-organization', 'i-organization', 'i-organization', 'i-organization', 'i-organization', 'i-organization', 'i-organization', 'i-organization', 'i-organization', 'i-organization', 'i-organization', 'i-organization', 'i-organization', 'i-organization', 'i-organization', 'i-organization', 'i-organization', 'i-organization', 'i-organization', 'i-organization', 'i-organization', 'i-organization', 'i-organization', 'i-organization', 'i-organization', 'i-organization', 'i-organization', 'i-organization', 'i-organization', 'i-organization', 'i-organization', 'i-organization', 'i-organization', 'i-organization', 'i-organization', 'i-organization', 'i-organization', 'i-organization', 'i-organization', 'i-organization', 'i-organization', 'i-organization', 'i-organization', 'i-organization', 'i-organization', 'i-organization', 'i-organization', 'i-organization', 'i-organization', 'i-organization', 'i-organization', 'i-organization', 'i-organization', 'i-organization', 'i-organization', 'i-organization', 'i-organization', 'i-organization', 'i-organization', 'i-organization', 'i-organization', 'i-organization', 'i-organization', 'i-organization', 'i-organization', 'i-organization', 'i-organization', 'i-organization', 'i-organization', 'i-organization', 'i-organization', 'i-organization', 'i-organization', 'i-organization', 'i-organization', 'i-organization', 'i-organization', 'i-organization', 'i-organization', 'i-organization', 'i-organization', 'i-organization', 'i-organization', 'i-organization', 'i-organization', 'i-organization', 'i-organization', 'i-organization', 'i-organization', 'i-organization', 'i-organization', 'i-organization', 'i-organization', 'i-organization', 'i-organization', 'i-organization', 'i-organization', 'i-organization', 'i-organization', 'i-organization', 'i-organization', 'i-organization', 'i-organization', 'i-organization', 'i-organization', 'i-organization', 'i-organization', 'i-organization', 'i-organization', 'i-organization', 'i-organization', 'i-organization', 'i-organization', 'i-organization', 'i-organization', 'i-organization', 'i-organization', 'i-organization', 'i-organization', 'i-organization', 'i-organization', 'i-organization', 'i-organization', 'i-organization', 'i-organization', 'i-organization', 'i-organization', 'i-organization', 'i-organization', 'i-organization', 'i-organization', 'i-organization', 'i-organization', 'i-organization', 'i-organization', 'i-organization', 'i-organization', 'i-organization', 'i-organization', 'i-organization', 'i-organization', 'i-organization', 'i-organization', 'i-organization', 'i-organization', 'i-organization', 'i-organization', 'i-organization', 'i-organization', 'i-organization', 'i-organization', 'i-organization', 'i-organization', 'i-organization', 'i-organization', 'i-organization', 'i-organization', 'i-organization', 'i-organization', 'i-organization', 'i-organization', 'i-organization', 'i-organization', 'i-organization', 'i-organization', 'i-organization', 'i-organization', 'i-organization', 'i-organization', 'i-organization', 'i-organization', 'i-organization', 'i-organization', 'i-organization', 'i-organization', 'i-organization', 'i-organization', 'i-organization', 'i-organization', 'i-organization', 'i-organization', 'i-organization', 'i-organization', 'i-organization', 'i-organization', 'i-organization']\n",
            "----------------------------------------------------------------------------------------------------\n",
            "Original  :  ['b-person', 'o', 'b-person', 'o', 'o', 'o', 'b-organization', 'o', 'b-grant', 'b-person', 'o', 'o', 'o', 'o', 'o', 'b-organization', 'i-organization', 'o', 'b-grant', 'b-person', 'o', 'b-person', 'o', 'o', 'o', 'b-organization', 'o', 'b-grant', 'b-person', 'b-person', 'b-person', 'o', 'b-person', 'o', 'o', 'o', 'o', 'b-organization', 'i-organization', 'i-organization', 'i-organization', 'o', 'o', 'o', 'b-grant', 'b-person', 'o', 'o', 'o', 'o', 'b-fellowship', 'i-fellowship', 'i-fellowship', 'i-fellowship', 'i-fellowship', 'i-fellowship', 'i-fellowship', 'o', 'o', 'o', 'o', 'o', 'o', 'b-computingfacility', 'i-computingfacility', 'i-computingfacility', 'i-computingfacility', 'i-computingfacility', 'i-computingfacility', 'o', 'b-organization', 'i-organization', 'i-organization', 'i-organization', 'i-organization', 'i-organization', 'o', 'o', 'o', 'b-organization', 'i-organization', 'i-organization', 'i-organization', 'i-organization', 'i-organization', 'i-organization', 'i-organization', 'i-organization', 'o', 'o', 'o', 'b-grant', 'o', 'b-software', 'b-software', 'b-citation', 'i-citation', 'o', 'b-software', 'b-citation', 'i-citation', 'i-citation', 'i-citation', 'i-citation', 'i-citation', 'o', 'b-software', 'b-citation', 'i-citation', 'i-citation', 'i-citation', 'o', 'b-software', 'b-citation', 'i-citation', 'i-citation', 'i-citation', 'o', 'b-software', 'b-citation', 'i-citation', 'i-citation', 'i-citation', 'o', 'b-software', 'b-citation', 'i-citation', 'i-citation', 'o', 'b-software', 'b-citation', 'i-citation', 'o', 'b-software', 'b-citation', 'i-citation', 'i-citation', 'i-citation', 'o', 'b-software', 'b-citation', 'i-citation', 'o', 'b-software', 'b-citation', 'i-citation', 'i-citation', 'i-citation', 'o', None, None, None, None, None, None, None, None, None, None, None, None, None, None, None, None, None, None, None, None, None, None, None, None, None, None, None, None, None, None, None, None, None, None, None, None, None, None, None, None, None, None, None, None, None, None, None, None, None, None, None, None, None, None, None, None, None, None, None, None, None, None, None, None, None, None, None, None, None, None, None, None, None, None, None, None, None, None, None, None, None, None, None, None, None, None, None, None, None, None, None, None, None, None, None, None, None, None, None, None, None, None, None, None, None, None, None, None, None, None, None, None, None, None, None, None, None, None, None, None, None, None, None, None, None, None, None, None, None, None, None, None, None, None, None, None, None, None, None, None, None, None, None, None, None, None, None, None, None, None, None]\n",
            "predicted :  ['b-url', 'o', 'b-person', 'o', 'o', 'o', 'b-organization', 'o', 'b-grant', 'b-person', 'o', 'o', 'o', 'o', 'o', 'b-location', 'i-organization', 'o', 'o', 'i-grant', 'o', 'b-grant', 'o', 'o', 'o', 'b-organization', 'o', 'b-grant', 'i-grant', 'i-grant', 'i-grant', 'o', 'b-grant', 'o', 'o', 'o', 'o', 'b-location', 'b-organization', 'i-organization', 'i-organization', 'o', 'o', 'o', 'b-grant', 'i-grant', 'o', 'o', 'o', 'o', 'b-organization', 'i-fellowship', 'i-fellowship', 'i-organization', 'i-organization', 'i-fellowship', 'i-fellowship', 'o', 'o', 'o', 'o', 'o', 'o', 'b-computingfacility', 'i-computingfacility', 'i-computingfacility', 'i-computingfacility', 'i-computingfacility', 'i-computingfacility', 'o', 'b-organization', 'i-organization', 'i-organization', 'i-organization', 'i-organization', 'i-organization', 'o', 'o', 'o', 'b-organization', 'i-organization', 'i-organization', 'i-organization', 'i-organization', 'b-organization', 'i-organization', 'i-organization', 'i-organization', 'o', 'o', 'o', 'b-grant', 'o', 'b-software', 'b-person', 'b-citation', 'i-citation', 'o', 'b-software', 'b-citation', 'i-citation', 'i-citation', 'i-citation', 'i-citation', 'i-citation', 'o', 'b-software', 'b-citation', 'i-citation', 'i-citation', 'i-citation', 'o', 'b-software', 'b-citation', 'i-citation', 'i-citation', 'i-citation', 'o', 'b-citation', 'i-citation', 'i-citation', 'i-citation', 'i-citation', 'o', 'b-software', 'i-dataset', 'b-citation', 'i-citation', 'o', 'o', 'o', 'b-dataset', 'o', 'o', 'o', 'b-citation', 'i-citation', 'i-citation', 'o', 'b-software', 'i-citation', 'i-citation', 'o', 'o', 'i-dataset', 'i-citation', 'i-citation', 'i-citation', 'o', 'o', 'o', 'o', 'o', 'o', 'o', 'o', 'o', 'o', 'o', 'o', 'o', 'o', 'o', 'o', 'o', 'o', 'o', 'o', 'o', 'o', 'o', 'o', 'o', 'o', 'o', 'o', 'o', 'o', 'o', 'o', 'o', 'o', 'o', 'o', 'o', 'o', 'o', 'o', 'o', 'o', 'o', 'o', 'o', 'o', 'o', 'o', 'o', 'o', 'o', 'o', 'o', 'o', 'o', 'o', 'o', 'o', 'o', 'o', 'o', 'o', 'o', 'o', 'o', 'o', 'o', 'o', 'o', 'o', 'o', 'o', 'o', 'o', 'o', 'o', 'o', 'o', 'o', 'o', 'o', 'o', 'o', 'o', 'o', 'o', 'o', 'o', 'o', 'o', 'o', 'o', 'o', 'o', 'o', 'o', 'o', 'o', 'o', 'o', 'o', 'o', 'o', 'o', 'o', 'o', 'o', 'o', 'o', 'o', 'o', 'o', 'o', 'o', 'o', 'o', 'o', 'o', 'o', 'o', 'o', 'o', 'o', 'o', 'o', 'o', 'o', 'o', 'o', 'o', 'o', 'o', 'o', 'o', 'o', 'o', 'o', 'o', 'o', 'o', 'o', 'o', 'o', 'o', 'o', 'o', 'o', 'o', 'o', 'o', 'o', 'o']\n",
            "----------------------------------------------------------------------------------------------------\n",
            "Original  :  ['o', 'o', 'b-person', 'i-person', 'o', 'o', 'b-mission', 'o', 'o', 'b-person', 'i-person', 'o', 'o', 'b-mission', 'o', 'o', 'o', 'b-person', 'i-person', 'o', 'o', 'o', 'o', 'o', 'o', 'o', 'o', 'o', 'o', 'b-person', 'o', 'b-person', 'i-person', 'b-person', 'i-person', 'b-person', 'i-person', 'b-person', 'i-person', 'b-person', 'i-person', 'b-person', 'i-person', 'o', 'b-person', 'i-person', 'o', 'o', 'o', 'o', 'o', 'o', 'o', 'o', 'o', 'b-organization', 'i-organization', 'i-organization', 'o', 'o', 'o', 'o', 'b-grant', 'i-grant', 'i-grant', 'b-grant', 'b-person', 'i-person', 'o', 'b-person', 'i-person', 'o', 'o', 'o', 'b-grant', 'o', 'o', 'b-organization', 'i-organization', 'o', 'o', 'b-organization', 'i-organization', 'i-organization', 'i-organization', 'i-organization', 'b-organization', 'o', 'o', 'o', 'o', 'o', 'o', 'o', 'b-organization', 'b-organization', 'o', 'b-organization', 'o', 'o', 'o', 'o', 'o', 'o', 'o', 'o', 'b-person', 'o', 'o', 'b-organization', 'o', 'o', 'o', 'b-organization', 'o', 'o', 'b-grant', 'i-grant', None, None, None, None, None, None, None, None, None, None, None, None, None, None, None, None, None, None, None, None, None, None, None, None, None, None, None, None, None, None, None, None, None, None, None, None, None, None, None, None, None, None, None, None, None, None, None, None, None, None, None, None, None, None, None, None, None, None, None, None, None, None, None, None, None, None, None, None, None, None, None, None, None, None, None, None, None, None, None, None, None, None, None, None, None, None, None, None, None, None, None, None, None, None, None, None, None, None, None, None, None, None, None, None, None, None, None, None, None, None, None, None, None, None, None, None, None, None, None, None, None, None, None, None, None, None, None, None, None, None, None, None, None, None, None, None, None, None, None, None, None, None, None, None, None, None, None, None, None, None, None, None, None, None, None, None, None, None, None, None, None, None, None, None, None, None, None, None, None, None, None, None, None, None, None, None, None, None, None, None, None, None]\n",
            "predicted :  ['o', 'o', 'b-person', 'i-person', 'o', 'o', 'b-organization', 'i-organization', 'i-collaboration', 'i-collaboration', 'o', 'o', 'o', 'b-observatory', 'o', 'o', 'o', 'b-dataset', 'i-software', 'o', 'o', 'o', 'o', 'o', 'o', 'o', 'o', 'b-model', 'o', 'o', 'o', 'b-software', 'i-dataset', 'i-dataset', 'i-dataset', 'b-person', 'i-person', 'b-person', 'i-person', 'b-person', 'i-person', 'i-person', 'i-person', 'o', 'b-person', 'i-person', 'o', 'o', 'o', 'o', 'o', 'b-software', 'o', 'o', 'o', 'b-organization', 'i-organization', 'i-organization', 'o', 'o', 'o', 'o', 'o', 'o', 'o', 'o', 'b-person', 'i-person', 'o', 'b-person', 'i-person', 'o', 'o', 'o', 'b-dataset', 'i-software', 'o', 'o', 'b-citation', 'o', 'b-model', 'i-organization', 'i-organization', 'i-computingfacility', 'o', 'b-computingfacility', 'i-archive', 'o', 'o', 'o', 'o', 'o', 'o', 'o', 'o', 'b-model', 'o', 'b-dataset', 'o', 'o', 'o', 'o', 'o', 'o', 'o', 'o', 'b-computingfacility', 'o', 'o', 'b-event', 'o', 'o', 'o', 'b-organization', 'o', 'o', 'b-grant', 'i-grant', 'i-grant', 'i-grant', 'i-grant', 'i-grant', 'i-grant', 'i-grant', 'i-grant', 'i-grant', 'i-grant', 'i-grant', 'i-grant', 'i-grant', 'i-grant', 'i-grant', 'i-grant', 'i-grant', 'i-grant', 'i-grant', 'i-grant', 'i-grant', 'i-grant', 'i-grant', 'i-grant', 'i-grant', 'i-grant', 'i-grant', 'i-grant', 'i-grant', 'i-grant', 'i-grant', 'i-grant', 'i-grant', 'i-grant', 'i-grant', 'i-grant', 'i-grant', 'i-grant', 'i-grant', 'i-grant', 'i-grant', 'i-grant', 'i-grant', 'i-grant', 'i-grant', 'i-grant', 'i-grant', 'i-grant', 'i-grant', 'i-grant', 'i-grant', 'i-grant', 'i-grant', 'i-grant', 'i-grant', 'i-grant', 'i-grant', 'i-grant', 'i-grant', 'i-grant', 'i-grant', 'i-grant', 'i-grant', 'i-grant', 'i-grant', 'i-grant', 'i-grant', 'i-grant', 'i-grant', 'i-grant', 'i-grant', 'i-grant', 'i-grant', 'i-grant', 'i-grant', 'i-grant', 'i-grant', 'i-grant', 'i-grant', 'i-grant', 'i-grant', 'i-grant', 'i-grant', 'i-grant', 'i-grant', 'i-grant', 'i-grant', 'i-grant', 'i-grant', 'i-grant', 'i-grant', 'i-grant', 'i-grant', 'i-grant', 'i-grant', 'i-grant', 'i-grant', 'i-grant', 'i-grant', 'i-grant', 'i-grant', 'i-grant', 'i-grant', 'i-grant', 'i-grant', 'i-grant', 'i-grant', 'i-grant', 'i-grant', 'i-grant', 'i-grant', 'i-grant', 'i-grant', 'i-grant', 'i-grant', 'i-grant', 'i-grant', 'i-grant', 'i-grant', 'i-grant', 'i-grant', 'i-grant', 'i-grant', 'i-grant', 'i-grant', 'i-grant', 'i-grant', 'i-grant', 'i-grant', 'i-grant', 'i-grant', 'i-grant', 'i-grant', 'i-grant', 'i-grant', 'i-grant', 'i-grant', 'i-grant', 'i-grant', 'i-grant', 'i-grant', 'i-grant', 'i-grant', 'i-grant', 'i-grant', 'i-grant', 'i-grant', 'i-grant', 'i-grant', 'i-grant', 'i-grant', 'i-grant', 'i-grant', 'i-grant', 'i-grant', 'i-grant', 'i-grant', 'i-grant', 'i-grant', 'i-grant', 'i-grant', 'i-grant', 'i-grant', 'i-grant', 'i-grant', 'i-grant', 'i-grant', 'i-grant', 'i-grant', 'i-grant', 'i-grant', 'i-grant', 'i-grant', 'i-grant', 'i-grant', 'i-grant', 'i-grant', 'i-grant', 'i-grant', 'i-grant', 'i-grant', 'i-grant', 'i-grant']\n",
            "----------------------------------------------------------------------------------------------------\n",
            "Original  :  ['o', 'b-formula', 'i-formula', 'i-formula', 'i-formula', 'i-formula', 'i-formula', 'i-formula', 'i-formula', 'i-formula', 'i-formula', 'o', 'o', 'o', 'b-instrument', 'o', 'o', 'b-instrument', 'o', 'o', 'o', 'o', 'o', 'o', 'o', 'o', 'o', 'o', 'o', 'o', 'o', 'o', 'o', 'o', 'o', 'o', 'o', 'o', 'o', 'o', 'o', 'o', 'b-instrument', 'o', 'o', 'o', 'o', 'o', 'o', 'o', 'o', 'o', 'o', 'o', 'o', 'o', 'o', 'o', 'o', 'o', 'o', 'o', 'o', 'o', 'o', 'b-instrument', 'o', 'o', 'o', 'o', 'o', 'b-instrument', 'o', 'o', 'o', 'o', 'o', 'o', 'o', 'o', 'b-instrument', 'o', 'o', 'o', 'o', 'o', 'o', 'o', 'b-instrument', 'o', 'o', 'o', 'o', 'o', 'o', 'o', 'o', 'o', 'o', 'o', 'o', 'o', 'o', 'o', 'o', 'o', 'o', 'o', 'o', 'o', 'o', 'o', 'o', 'o', 'o', 'o', 'o', 'o', 'o', 'b-instrument', 'o', 'o', 'b-instrument', 'o', 'o', 'o', 'o', 'o', 'o', 'o', 'o', 'b-instrument', 'o', 'o', 'o', 'b-instrument', 'o', 'o', 'o', 'o', 'o', 'o', 'o', 'o', 'o', 'o', 'o', 'o', 'o', 'o', 'o', 'o', 'o', 'o', 'o', 'o', 'o', 'o', 'o', 'o', 'o', 'o', 'o', 'o', 'o', 'o', 'o', 'o', 'o', 'o', 'o', 'o', 'o', 'o', 'o', 'b-formula', 'i-formula', 'i-formula', 'i-formula', 'i-formula', 'o', 'o', 'o', 'o', 'o', 'o', 'o', 'o', 'o', 'o', 'b-formula', 'i-formula', 'i-formula', 'i-formula', 'o', 'o', 'o', 'o', 'o', 'o', 'o', 'o', 'o', 'o', 'o', 'o', 'o', 'o', 'o', 'o', 'o', 'o', 'o', 'o', 'o', 'o', 'o', 'o', 'o', 'o', 'o', 'o', 'o', 'o', 'o', 'o', 'o', 'o', 'o', 'o', 'o', 'o', 'o', 'o', 'o', 'o', 'o', 'o', 'o', 'o', 'o', 'o', 'o', 'o', 'o', 'o', 'o', 'o', 'o', 'o', 'o', 'o', 'o', 'o', 'o', 'o', 'o', 'o', 'o', 'o', 'o', 'o', 'o', 'o', 'o', 'o', 'o', 'o', 'o', 'o', 'b-instrument', 'o', 'o', 'o', 'o', 'o', 'b-instrument', 'o', 'o', 'o', 'o', 'o', 'o', 'o', 'o', 'o', 'o', 'o', 'o', 'o', 'o', 'o', 'o', 'o', 'o', 'o', 'o', 'o', 'o', 'o']\n",
            "predicted :  ['o', 'b-formula', 'i-formula', 'i-formula', 'i-formula', 'i-formula', 'i-formula', 'i-formula', 'i-formula', 'i-formula', 'i-formula', 'o', 'o', 'o', 'b-wavelength', 'o', 'o', 'b-survey', 'i-celestialregion', 'o', 'o', 'o', 'o', 'o', 'o', 'o', 'o', 'b-formula', 'i-formula', 'i-formula', 'i-formula', 'i-formula', 'o', 'o', 'o', 'o', 'o', 'o', 'o', 'o', 'o', 'o', 'b-instrument', 'o', 'o', 'o', 'b-formula', 'i-formula', 'i-formula', 'o', 'o', 'b-formula', 'o', 'o', 'o', 'o', 'o', 'o', 'o', 'o', 'o', 'o', 'o', 'o', 'o', 'b-instrument', 'o', 'o', 'o', 'o', 'o', 'b-telescope', 'i-survey', 'i-survey', 'i-survey', 'i-formula', 'i-formula', 'o', 'o', 'o', 'o', 'o', 'b-wavelength', 'i-formula', 'i-formula', 'o', 'o', 'o', 'b-formula', 'o', 'o', 'o', 'o', 'o', 'o', 'o', 'i-formula', 'i-formula', 'o', 'o', 'o', 'o', 'o', 'o', 'o', 'o', 'o', 'o', 'o', 'o', 'o', 'o', 'o', 'o', 'o', 'o', 'o', 'o', 'o', 'o', 'o', 'o', 'b-survey', 'i-instrument', 'o', 'o', 'o', 'o', 'o', 'o', 'o', 'b-survey', 'i-instrument', 'o', 'o', 'o', 'o', 'o', 'b-celestialobjectregion', 'i-model', 'o', 'o', 'o', 'o', 'o', 'o', 'o', 'o', 'o', 'o', 'o', 'o', 'o', 'o', 'o', 'o', 'o', 'o', 'o', 'o', 'o', 'o', 'o', 'o', 'o', 'o', 'o', 'o', 'o', 'o', 'o', 'o', 'o', 'o', 'o', 'o', 'o', 'o', 'o', 'b-formula', 'o', 'o', 'o', 'o', 'o', 'o', 'o', 'o', 'o', 'o', 'o', 'o', 'b-wavelength', 'o', 'o', 'o', 'o', 'o', 'o', 'o', 'o', 'o', 'o', 'o', 'o', 'o', 'o', 'o', 'o', 'o', 'o', 'o', 'o', 'o', 'o', 'o', 'o', 'o', 'o', 'o', 'o', 'o', 'o', 'o', 'o', 'o', 'o', 'o', 'o', 'o', 'o', 'o', 'o', 'o', 'o', 'o', 'o', 'o', 'o', 'o', 'o', 'o', 'o', 'o', 'o', 'o', 'o', 'o', 'o', 'o', 'o', 'o', 'o', 'o', 'o', 'o', 'o', 'o', 'o', 'o', 'o', 'o', 'o', 'o', 'o', 'o', 'o', 'o', 'o', 'o', 'b-survey', 'i-survey', 'i-survey', 'o', 'o', 'o', 'b-celestialobjectregion', 'o', 'o', 'o', 'o', 'o', 'o', 'o', 'o', 'o', 'o', 'o', 'o', 'o', 'o', 'o', 'o', 'o', 'o', 'o', 'o', 'o', 'o', 'o']\n",
            "----------------------------------------------------------------------------------------------------\n",
            "Original  :  ['o', 'o', 'o', 'o', 'o', 'o', 'o', 'b-organization', 'i-organization', 'i-organization', 'b-organization', 'b-grant', 'i-grant', 'i-grant', 'i-grant', 'o', 'b-grant', 'i-grant', 'i-grant', 'i-grant', 'i-grant', 'i-grant', 'i-grant', 'o', 'o', 'o', 'b-organization', 'i-organization', 'i-organization', 'i-organization', 'b-organization', 'o', 'o', 'o', 'o', 'o', 'o', 'o', 'b-organization', 'i-organization', 'o', 'b-person', 'i-person', 'i-person', 'o', 'o', 'o', 'o', 'o', 'o', 'o', 'o', 'o', 'o', 'o', 'o', 'o', 'o', 'o', 'o', 'o', 'o', 'o', 'o', 'o', 'o', 'o', 'o', 'o', 'o', 'o', 'o', 'o', 'o', 'o', 'o', 'b-organization', 'i-organization', 'i-organization', 'b-organization', 'b-mission', 'i-mission', 'o', 'b-url', 'o', 'o', 'o', 'o', 'b-organization', 'i-organization', 'i-organization', 'i-organization', 'i-organization', 'i-organization', 'b-organization', 'b-url', 'o', 'o', 'o', 'o', 'b-organization', 'o', 'o', 'o', 'o', 'o', 'o', 'o', 'o', 'o', 'o', 'o', 'o', 'o', 'b-collaboration', 'i-collaboration', 'i-collaboration', 'o', 'o', 'o', 'o', 'o', 'o', 'o', 'o', 'o', 'b-survey', 'i-survey', 'i-survey', 'i-survey', 'i-survey', 'o', 'o', 'o', 'o', 'o', 'o', 'o', 'b-organization', 'i-organization', 'i-organization', 'o', 'o', 'b-organization', 'i-organization', 'i-organization', 'i-organization', 'i-organization', 'b-organization', 'i-organization', 'i-organization', 'o', 'o', 'o', 'b-organization', 'i-organization', 'i-organization', 'i-organization', 'i-organization', 'o', 'o', 'b-organization', 'i-organization', 'i-organization', None, None, None, None, None, None, None, None, None, None, None, None, None, None, None, None, None, None, None, None, None, None, None, None, None, None, None, None, None, None, None, None, None, None, None, None, None, None, None, None, None, None, None, None, None, None, None, None, None, None, None, None, None, None, None, None, None, None, None, None, None, None, None, None, None, None, None, None, None, None, None, None, None, None, None, None, None, None, None, None, None, None, None, None, None, None, None, None, None, None, None, None, None, None, None, None, None, None, None, None, None, None, None, None, None, None, None, None, None, None, None, None, None, None, None, None, None, None, None, None, None, None, None, None, None, None, None, None, None, None, None, None, None, None, None, None]\n",
            "predicted :  ['o', 'o', 'o', 'o', 'o', 'o', 'o', 'b-organization', 'i-organization', 'i-organization', 'b-organization', 'b-grant', 'b-grant', 'o', 'o', 'o', 'b-grant', 'o', 'o', 'o', 'o', 'o', 'b-grant', 'o', 'o', 'o', 'b-organization', 'i-organization', 'i-organization', 'i-organization', 'b-organization', 'o', 'o', 'o', 'o', 'o', 'o', 'o', 'o', 'o', 'o', 'b-computingfacility', 'b-citation', 'i-person', 'o', 'o', 'o', 'o', 'b-person', 'o', 'o', 'o', 'o', 'o', 'o', 'o', 'o', 'o', 'o', 'o', 'o', 'o', 'o', 'o', 'o', 'o', 'o', 'o', 'o', 'o', 'o', 'o', 'o', 'o', 'o', 'o', 'b-organization', 'i-organization', 'i-organization', 'b-organization', 'o', 'b-telescope', 'o', 'b-url', 'o', 'o', 'o', 'o', 'b-organization', 'i-organization', 'i-organization', 'i-organization', 'i-organization', 'i-organization', 'b-organization', 'b-url', 'o', 'o', 'o', 'o', 'b-organization', 'o', 'o', 'o', 'o', 'o', 'o', 'o', 'o', 'o', 'o', 'o', 'o', 'o', 'b-collaboration', 'i-collaboration', 'i-collaboration', 'o', 'o', 'o', 'o', 'o', 'o', 'o', 'o', 'o', 'b-survey', 'i-survey', 'i-survey', 'i-survey', 'i-survey', 'o', 'o', 'o', 'o', 'o', 'o', 'o', 'b-organization', 'i-organization', 'i-organization', 'o', 'o', 'b-organization', 'i-organization', 'i-organization', 'i-organization', 'i-organization', 'b-organization', 'i-organization', 'i-organization', 'o', 'o', 'o', 'b-organization', 'i-organization', 'i-organization', 'i-organization', 'i-organization', 'o', 'o', 'b-organization', 'i-organization', 'i-organization', 'i-organization', 'i-organization', 'i-organization', 'i-organization', 'i-organization', 'i-organization', 'i-organization', 'i-organization', 'i-organization', 'i-organization', 'i-organization', 'i-organization', 'i-organization', 'i-organization', 'i-organization', 'i-organization', 'i-organization', 'i-organization', 'i-organization', 'i-organization', 'i-organization', 'i-organization', 'i-organization', 'i-organization', 'i-organization', 'i-organization', 'i-organization', 'i-organization', 'i-organization', 'i-organization', 'i-organization', 'i-organization', 'i-organization', 'i-organization', 'i-organization', 'i-organization', 'i-organization', 'i-organization', 'i-organization', 'i-organization', 'i-organization', 'i-organization', 'i-organization', 'i-organization', 'i-organization', 'i-organization', 'i-organization', 'i-organization', 'i-organization', 'i-organization', 'i-organization', 'i-organization', 'i-organization', 'i-organization', 'i-organization', 'i-organization', 'i-organization', 'i-organization', 'i-organization', 'i-organization', 'i-organization', 'i-organization', 'i-organization', 'i-organization', 'i-organization', 'i-organization', 'i-organization', 'i-organization', 'i-organization', 'i-organization', 'i-organization', 'i-organization', 'i-organization', 'i-organization', 'i-organization', 'i-organization', 'i-organization', 'i-organization', 'i-organization', 'i-organization', 'i-organization', 'i-organization', 'i-organization', 'i-organization', 'i-organization', 'i-organization', 'i-organization', 'i-organization', 'i-organization', 'i-organization', 'i-organization', 'i-organization', 'i-organization', 'i-organization', 'i-organization', 'i-organization', 'i-organization', 'i-organization', 'i-organization', 'i-organization', 'i-organization', 'i-organization', 'i-organization', 'i-organization', 'i-organization', 'i-organization', 'i-organization', 'i-organization', 'i-organization', 'i-organization', 'i-organization', 'i-organization', 'i-organization', 'i-organization', 'i-organization', 'i-organization', 'i-organization', 'i-organization', 'i-organization', 'i-organization', 'i-organization', 'i-organization', 'i-organization', 'i-organization', 'i-organization', 'i-organization', 'i-organization', 'i-organization', 'i-organization', 'i-organization', 'i-organization', 'i-organization', 'i-organization', 'i-organization', 'i-organization', 'i-organization']\n",
            "----------------------------------------------------------------------------------------------------\n",
            "Original  :  ['o', 'o', 'o', 'o', 'o', 'o', 'o', 'o', 'o', 'b-location', 'b-organization', 'i-organization', 'i-organization', 'i-organization', 'i-organization', 'i-organization', 'o', 'o', 'b-grant', None, None, None, None, None, None, None, None, None, None, None, None, None, None, None, None, None, None, None, None, None, None, None, None, None, None, None, None, None, None, None, None, None, None, None, None, None, None, None, None, None, None, None, None, None, None, None, None, None, None, None, None, None, None, None, None, None, None, None, None, None, None, None, None, None, None, None, None, None, None, None, None, None, None, None, None, None, None, None, None, None, None, None, None, None, None, None, None, None, None, None, None, None, None, None, None, None, None, None, None, None, None, None, None, None, None, None, None, None, None, None, None, None, None, None, None, None, None, None, None, None, None, None, None, None, None, None, None, None, None, None, None, None, None, None, None, None, None, None, None, None, None, None, None, None, None, None, None, None, None, None, None, None, None, None, None, None, None, None, None, None, None, None, None, None, None, None, None, None, None, None, None, None, None, None, None, None, None, None, None, None, None, None, None, None, None, None, None, None, None, None, None, None, None, None, None, None, None, None, None, None, None, None, None, None, None, None, None, None, None, None, None, None, None, None, None, None, None, None, None, None, None, None, None, None, None, None, None, None, None, None, None, None, None, None, None, None, None, None, None, None, None, None, None, None, None, None, None, None, None, None, None, None, None, None, None, None, None, None, None, None, None, None, None, None, None, None, None, None, None, None, None, None, None, None, None, None, None, None, None, None]\n",
            "predicted :  ['o', 'o', 'o', 'o', 'o', 'o', 'o', 'o', 'o', 'b-grant', 'b-fellowship', 'i-fellowship', 'i-organization', 'i-organization', 'i-organization', 'i-organization', 'o', 'o', 'o', 'o', 'o', 'o', 'o', 'o', 'o', 'o', 'o', 'o', 'o', 'o', 'o', 'o', 'o', 'o', 'o', 'o', 'o', 'o', 'o', 'o', 'o', 'o', 'o', 'o', 'o', 'o', 'o', 'o', 'o', 'o', 'o', 'o', 'o', 'o', 'o', 'o', 'o', 'o', 'o', 'o', 'o', 'o', 'o', 'o', 'o', 'o', 'o', 'o', 'o', 'o', 'o', 'o', 'o', 'o', 'o', 'o', 'o', 'o', 'o', 'o', 'o', 'o', 'o', 'o', 'o', 'o', 'o', 'o', 'o', 'o', 'o', 'o', 'o', 'o', 'o', 'o', 'o', 'o', 'o', 'o', 'o', 'o', 'o', 'o', 'o', 'o', 'o', 'o', 'o', 'o', 'o', 'o', 'o', 'o', 'o', 'o', 'o', 'o', 'o', 'o', 'o', 'o', 'o', 'o', 'o', 'o', 'o', 'o', 'o', 'o', 'o', 'o', 'o', 'o', 'o', 'o', 'o', 'o', 'o', 'o', 'o', 'o', 'o', 'o', 'o', 'o', 'o', 'o', 'o', 'o', 'o', 'o', 'o', 'o', 'o', 'o', 'o', 'o', 'o', 'o', 'o', 'o', 'o', 'o', 'o', 'o', 'o', 'o', 'o', 'o', 'o', 'o', 'o', 'o', 'o', 'o', 'o', 'o', 'o', 'o', 'o', 'o', 'o', 'o', 'o', 'o', 'o', 'o', 'o', 'o', 'o', 'o', 'o', 'o', 'o', 'o', 'o', 'o', 'o', 'o', 'o', 'o', 'o', 'o', 'o', 'o', 'o', 'o', 'o', 'o', 'o', 'o', 'o', 'o', 'o', 'o', 'o', 'o', 'o', 'o', 'o', 'o', 'o', 'o', 'o', 'o', 'o', 'o', 'o', 'o', 'o', 'o', 'o', 'o', 'o', 'o', 'o', 'o', 'o', 'o', 'o', 'o', 'o', 'o', 'o', 'o', 'o', 'o', 'o', 'o', 'o', 'o', 'o', 'o', 'o', 'o', 'o', 'o', 'o', 'o', 'o', 'o', 'o', 'o', 'o', 'o', 'o', 'o', 'o', 'o', 'o', 'o', 'o', 'o', 'o', 'o', 'o', 'o', 'o', 'o', 'o', 'o', 'o', 'o', 'o', 'o', 'o', 'o', 'o', 'o', 'o', 'o', 'o', 'o', 'o', 'o', 'o', 'o', 'o', 'o']\n",
            "----------------------------------------------------------------------------------------------------\n",
            "Original  :  ['o', 'o', 'o', 'o', 'o', 'b-person', 'o', 'o', 'o', 'b-person', 'i-person', 'i-person', 'i-person', 'o', 'o', 'o', 'o', 'o', 'b-telescope', 'o', 'o', 'o', 'o', 'o', 'o', 'o', 'b-location', 'i-location', 'i-location', 'i-location', 'i-location', 'i-location', 'i-location', 'b-location', 'o', 'o', 'b-organization', 'i-organization', 'o', 'o', 'o', 'b-organization', 'i-organization', 'i-organization', 'i-organization', 'i-organization', 'i-organization', 'i-organization', 'i-organization', 'i-organization', 'i-organization', 'b-location', 'o', 'o', 'b-grant', 'b-grant', 'b-grant', 'b-grant', None, None, None, None, None, None, None, None, None, None, None, None, None, None, None, None, None, None, None, None, None, None, None, None, None, None, None, None, None, None, None, None, None, None, None, None, None, None, None, None, None, None, None, None, None, None, None, None, None, None, None, None, None, None, None, None, None, None, None, None, None, None, None, None, None, None, None, None, None, None, None, None, None, None, None, None, None, None, None, None, None, None, None, None, None, None, None, None, None, None, None, None, None, None, None, None, None, None, None, None, None, None, None, None, None, None, None, None, None, None, None, None, None, None, None, None, None, None, None, None, None, None, None, None, None, None, None, None, None, None, None, None, None, None, None, None, None, None, None, None, None, None, None, None, None, None, None, None, None, None, None, None, None, None, None, None, None, None, None, None, None, None, None, None, None, None, None, None, None, None, None, None, None, None, None, None, None, None, None, None, None, None, None, None, None, None, None, None, None, None, None, None, None, None, None, None, None, None, None, None, None, None, None, None, None, None, None, None, None, None, None, None, None, None, None, None, None, None, None, None, None, None, None, None, None, None, None, None, None, None, None, None, None, None, None, None, None, None, None, None, None, None]\n",
            "predicted :  ['o', 'o', 'o', 'o', 'o', 'o', 'o', 'o', 'o', 'b-person', 'i-person', 'i-person', 'i-person', 'o', 'o', 'o', 'o', 'o', 'b-dataset', 'o', 'i-collaboration', 'o', 'o', 'o', 'o', 'o', 'o', 'b-organization', 'i-organization', 'i-organization', 'i-organization', 'i-organization', 'i-organization', 'i-organization', 'o', 'o', 'b-organization', 'i-organization', 'o', 'o', 'o', 'b-organization', 'i-organization', 'i-organization', 'i-organization', 'i-organization', 'i-organization', 'o', 'b-organization', 'i-location', 'i-organization', 'b-location', 'o', 'o', 'b-grant', 'i-grant', 'b-grant', 'i-grant', 'i-grant', 'i-grant', 'i-grant', 'i-grant', 'i-grant', 'i-grant', 'i-grant', 'i-grant', 'i-grant', 'i-grant', 'i-grant', 'i-grant', 'i-grant', 'i-grant', 'i-grant', 'i-grant', 'i-grant', 'i-grant', 'i-grant', 'i-grant', 'i-grant', 'i-grant', 'i-grant', 'i-grant', 'i-grant', 'i-grant', 'i-grant', 'i-grant', 'i-grant', 'i-grant', 'i-grant', 'i-grant', 'i-grant', 'i-grant', 'i-grant', 'i-grant', 'i-grant', 'i-grant', 'i-grant', 'i-grant', 'i-grant', 'i-grant', 'i-grant', 'i-grant', 'i-grant', 'i-grant', 'i-grant', 'i-grant', 'i-grant', 'i-grant', 'i-grant', 'i-grant', 'i-grant', 'i-grant', 'i-grant', 'i-grant', 'i-grant', 'i-grant', 'i-grant', 'i-grant', 'i-grant', 'i-grant', 'i-grant', 'i-grant', 'i-grant', 'i-grant', 'i-grant', 'i-grant', 'i-grant', 'i-grant', 'i-grant', 'i-grant', 'i-grant', 'i-grant', 'i-grant', 'i-grant', 'i-grant', 'i-grant', 'i-grant', 'i-grant', 'i-grant', 'i-grant', 'i-grant', 'i-grant', 'i-grant', 'i-grant', 'i-grant', 'i-grant', 'i-grant', 'i-grant', 'i-grant', 'i-grant', 'i-grant', 'i-grant', 'i-grant', 'i-grant', 'i-grant', 'i-grant', 'i-grant', 'i-grant', 'i-grant', 'i-grant', 'i-grant', 'i-grant', 'i-grant', 'i-grant', 'i-grant', 'i-grant', 'i-grant', 'i-grant', 'i-grant', 'i-grant', 'i-grant', 'i-grant', 'i-grant', 'i-grant', 'i-grant', 'i-grant', 'i-grant', 'i-grant', 'i-grant', 'i-grant', 'i-grant', 'i-grant', 'i-grant', 'i-grant', 'i-grant', 'i-grant', 'i-grant', 'i-grant', 'i-grant', 'i-grant', 'i-grant', 'i-grant', 'i-grant', 'i-grant', 'i-grant', 'i-grant', 'i-grant', 'i-grant', 'i-grant', 'i-grant', 'i-grant', 'i-grant', 'i-grant', 'i-grant', 'i-grant', 'i-grant', 'i-grant', 'i-grant', 'i-grant', 'i-grant', 'i-grant', 'i-grant', 'i-grant', 'i-grant', 'i-grant', 'i-grant', 'i-grant', 'i-grant', 'i-grant', 'i-grant', 'i-grant', 'i-grant', 'i-grant', 'i-grant', 'i-grant', 'i-grant', 'i-grant', 'i-grant', 'i-grant', 'i-grant', 'i-grant', 'i-grant', 'i-grant', 'i-grant', 'i-grant', 'i-grant', 'i-grant', 'i-grant', 'i-grant', 'i-grant', 'i-grant', 'i-grant', 'i-grant', 'i-grant', 'i-grant', 'i-grant', 'i-grant', 'i-grant', 'i-grant', 'i-grant', 'i-grant', 'i-grant', 'i-grant', 'i-grant', 'i-grant', 'i-grant', 'i-grant', 'i-grant', 'i-grant', 'i-grant', 'i-grant', 'i-grant', 'i-grant', 'i-grant', 'i-grant', 'i-grant', 'i-grant', 'i-grant', 'i-grant', 'i-grant', 'i-grant', 'i-grant', 'i-grant', 'i-grant', 'i-grant', 'i-grant', 'i-grant', 'i-grant', 'i-grant', 'i-grant', 'i-grant', 'i-grant', 'i-grant', 'i-grant', 'i-grant', 'i-grant', 'i-grant', 'i-grant', 'i-grant', 'i-grant', 'i-grant', 'i-grant', 'i-grant', 'i-grant', 'i-grant', 'i-grant', 'i-grant', 'i-grant', 'i-grant', 'i-grant']\n",
            "----------------------------------------------------------------------------------------------------\n"
          ]
        }
      ]
    },
    {
      "cell_type": "code",
      "source": [
        "# Model RNN2\n",
        "from tensorflow.keras.models import Model\n",
        "from tensorflow.keras.layers import Input,Dense\n",
        "from keras.layers import SimpleRNN\n",
        "\n",
        "inputs = Input(shape = (None,))\n",
        "embeddings = Embedding(input_dim=len_vocab+1, \n",
        "                    output_dim=len(tag_list),\n",
        "                    input_length=300,\n",
        "                    mask_zero = True,)(inputs)\n",
        "RNN = SimpleRNN(300,return_sequences=True, recurrent_dropout=0.1, activation=\"tanh\")(embeddings)\n",
        "RNN = SimpleRNN(300,return_sequences=True, recurrent_dropout=0.1, activation=\"tanh\")(RNN)\n",
        "output = Dense(len(tag_list),activation='softmax')(RNN)\n",
        "model2 = Model(inputs = inputs,outputs = output)\n",
        "model2.summary()"
      ],
      "metadata": {
        "colab": {
          "base_uri": "https://localhost:8080/"
        },
        "id": "vqxSGuY-8SCH",
        "outputId": "fbe77562-3040-4fc9-911c-deb53559dfda"
      },
      "execution_count": null,
      "outputs": [
        {
          "output_type": "stream",
          "name": "stdout",
          "text": [
            "Model: \"model_7\"\n",
            "_________________________________________________________________\n",
            " Layer (type)                Output Shape              Param #   \n",
            "=================================================================\n",
            " input_8 (InputLayer)        [(None, None)]            0         \n",
            "                                                                 \n",
            " embedding_7 (Embedding)     (None, None, 63)          2882502   \n",
            "                                                                 \n",
            " simple_rnn_14 (SimpleRNN)   (None, None, 300)         109200    \n",
            "                                                                 \n",
            " simple_rnn_15 (SimpleRNN)   (None, None, 300)         180300    \n",
            "                                                                 \n",
            " dense_12 (Dense)            (None, None, 63)          18963     \n",
            "                                                                 \n",
            "=================================================================\n",
            "Total params: 3,190,965\n",
            "Trainable params: 3,190,965\n",
            "Non-trainable params: 0\n",
            "_________________________________________________________________\n"
          ]
        }
      ]
    },
    {
      "cell_type": "code",
      "source": [
        "model2.compile(loss='sparse_categorical_crossentropy',optimizer='Adam',metrics=['accuracy'])\n",
        "history2 = model2.fit(X_train,y_train,validation_data=(X_test,y_test),epochs=30,batch_size=64)"
      ],
      "metadata": {
        "colab": {
          "base_uri": "https://localhost:8080/"
        },
        "id": "1NR1Zh0v9Uo9",
        "outputId": "e0b9cc25-ce97-4bfe-c50e-0d28b11f3110"
      },
      "execution_count": null,
      "outputs": [
        {
          "output_type": "stream",
          "name": "stdout",
          "text": [
            "Epoch 1/30\n",
            "22/22 [==============================] - 25s 1s/step - loss: 1.1333 - accuracy: 0.7214 - val_loss: 0.7976 - val_accuracy: 0.8037\n",
            "Epoch 2/30\n",
            "22/22 [==============================] - 22s 987ms/step - loss: 0.8318 - accuracy: 0.7967 - val_loss: 0.7830 - val_accuracy: 0.8037\n",
            "Epoch 3/30\n",
            "22/22 [==============================] - 22s 993ms/step - loss: 0.8231 - accuracy: 0.7967 - val_loss: 0.7820 - val_accuracy: 0.8037\n",
            "Epoch 4/30\n",
            "22/22 [==============================] - 22s 1s/step - loss: 0.8246 - accuracy: 0.7958 - val_loss: 0.7799 - val_accuracy: 0.8037\n",
            "Epoch 5/30\n",
            "22/22 [==============================] - 22s 987ms/step - loss: 0.8211 - accuracy: 0.7959 - val_loss: 0.7722 - val_accuracy: 0.8037\n",
            "Epoch 6/30\n",
            "22/22 [==============================] - 23s 1s/step - loss: 0.8244 - accuracy: 0.7950 - val_loss: 0.7697 - val_accuracy: 0.8038\n",
            "Epoch 7/30\n",
            "22/22 [==============================] - 23s 1s/step - loss: 0.8126 - accuracy: 0.7959 - val_loss: 0.7657 - val_accuracy: 0.8037\n",
            "Epoch 8/30\n",
            "22/22 [==============================] - 21s 979ms/step - loss: 0.8232 - accuracy: 0.7928 - val_loss: 0.7085 - val_accuracy: 0.8033\n",
            "Epoch 9/30\n",
            "22/22 [==============================] - 22s 980ms/step - loss: 0.6846 - accuracy: 0.8005 - val_loss: 0.5567 - val_accuracy: 0.8224\n",
            "Epoch 10/30\n",
            "22/22 [==============================] - 22s 993ms/step - loss: 0.5421 - accuracy: 0.8211 - val_loss: 0.5101 - val_accuracy: 0.8388\n",
            "Epoch 11/30\n",
            "22/22 [==============================] - 22s 988ms/step - loss: 0.4719 - accuracy: 0.8433 - val_loss: 0.5164 - val_accuracy: 0.8507\n",
            "Epoch 12/30\n",
            "22/22 [==============================] - 21s 971ms/step - loss: 0.4288 - accuracy: 0.8570 - val_loss: 0.4902 - val_accuracy: 0.8512\n",
            "Epoch 13/30\n",
            "22/22 [==============================] - 21s 960ms/step - loss: 0.4135 - accuracy: 0.8633 - val_loss: 0.4848 - val_accuracy: 0.8552\n",
            "Epoch 14/30\n",
            "22/22 [==============================] - 22s 986ms/step - loss: 0.3592 - accuracy: 0.8793 - val_loss: 0.4694 - val_accuracy: 0.8614\n",
            "Epoch 15/30\n",
            "22/22 [==============================] - 22s 994ms/step - loss: 0.3477 - accuracy: 0.8813 - val_loss: 0.5238 - val_accuracy: 0.8616\n",
            "Epoch 16/30\n",
            "22/22 [==============================] - 22s 1s/step - loss: 0.3362 - accuracy: 0.8858 - val_loss: 0.4005 - val_accuracy: 0.8661\n",
            "Epoch 17/30\n",
            "22/22 [==============================] - 21s 973ms/step - loss: 0.2975 - accuracy: 0.8963 - val_loss: 0.3873 - val_accuracy: 0.8733\n",
            "Epoch 18/30\n",
            "22/22 [==============================] - 22s 982ms/step - loss: 0.3852 - accuracy: 0.8708 - val_loss: 0.4854 - val_accuracy: 0.8618\n",
            "Epoch 19/30\n",
            "22/22 [==============================] - 21s 978ms/step - loss: 0.3584 - accuracy: 0.8821 - val_loss: 0.4357 - val_accuracy: 0.8674\n",
            "Epoch 20/30\n",
            "22/22 [==============================] - 21s 958ms/step - loss: 0.2977 - accuracy: 0.8992 - val_loss: 0.4326 - val_accuracy: 0.8705\n",
            "Epoch 21/30\n",
            "22/22 [==============================] - 21s 974ms/step - loss: 0.2679 - accuracy: 0.9077 - val_loss: 0.3841 - val_accuracy: 0.8766\n",
            "Epoch 22/30\n",
            "22/22 [==============================] - 22s 991ms/step - loss: 0.2505 - accuracy: 0.9127 - val_loss: 0.3894 - val_accuracy: 0.8791\n",
            "Epoch 23/30\n",
            "22/22 [==============================] - 21s 970ms/step - loss: 0.2357 - accuracy: 0.9172 - val_loss: 0.3653 - val_accuracy: 0.8824\n",
            "Epoch 24/30\n",
            "22/22 [==============================] - 21s 972ms/step - loss: 0.2219 - accuracy: 0.9220 - val_loss: 0.3590 - val_accuracy: 0.8854\n",
            "Epoch 25/30\n",
            "22/22 [==============================] - 26s 1s/step - loss: 0.2095 - accuracy: 0.9252 - val_loss: 0.3573 - val_accuracy: 0.8874\n",
            "Epoch 26/30\n",
            "22/22 [==============================] - 22s 987ms/step - loss: 0.1989 - accuracy: 0.9292 - val_loss: 0.3566 - val_accuracy: 0.8886\n",
            "Epoch 27/30\n",
            "22/22 [==============================] - 22s 982ms/step - loss: 0.1898 - accuracy: 0.9316 - val_loss: 0.3441 - val_accuracy: 0.8910\n",
            "Epoch 28/30\n",
            "22/22 [==============================] - 21s 973ms/step - loss: 0.1806 - accuracy: 0.9345 - val_loss: 0.3475 - val_accuracy: 0.8891\n",
            "Epoch 29/30\n",
            "22/22 [==============================] - 22s 991ms/step - loss: 0.1720 - accuracy: 0.9376 - val_loss: 0.3502 - val_accuracy: 0.8911\n",
            "Epoch 30/30\n",
            "22/22 [==============================] - 22s 986ms/step - loss: 0.1620 - accuracy: 0.9417 - val_loss: 0.3421 - val_accuracy: 0.8946\n"
          ]
        }
      ]
    },
    {
      "cell_type": "code",
      "source": [
        "model2.save('model2.h5')"
      ],
      "metadata": {
        "id": "mZJb33QH9uts"
      },
      "execution_count": null,
      "outputs": []
    },
    {
      "cell_type": "code",
      "source": [
        "model2 = tf.keras.models.load_model('model2.h5')"
      ],
      "metadata": {
        "id": "d65F7RzgRJ1-"
      },
      "execution_count": null,
      "outputs": []
    },
    {
      "cell_type": "code",
      "source": [
        "# Plot the MSE of the model\n",
        "plt.rcParams[\"figure.figsize\"] = (8,6)\n",
        "plt.title(\"Change in loss per epoch\",fontsize=20)\n",
        "plt.plot(history2.history['loss'], label='Train loss')\n",
        "plt.plot(history2.history['val_loss'],  label='Val loss')\n",
        "plt.legend()\n",
        "# Set the axes labels\n",
        "plt.xlabel('Epochs',fontsize=10)\n",
        "plt.ylabel('Loss',fontsize=10)\n",
        "plt.legend(fontsize=8)\n",
        "plt.show()"
      ],
      "metadata": {
        "colab": {
          "base_uri": "https://localhost:8080/",
          "height": 430
        },
        "id": "qmS0J4ou9_Bg",
        "outputId": "74d4ae7a-439c-41c1-a992-ae7ee3ecb482"
      },
      "execution_count": null,
      "outputs": [
        {
          "output_type": "display_data",
          "data": {
            "text/plain": [
              "<Figure size 576x432 with 1 Axes>"
            ],
            "image/png": "[encoded data removed]"
          },
          "metadata": {
            "needs_background": "light"
          }
        }
      ]
    },
    {
      "cell_type": "code",
      "source": [
        "for i in range(10):\n",
        "  y_pred = model2.predict(np.array([X_test[i]]))\n",
        "  pred = np.argmax(np.array(y_pred), axis=-1)\n",
        "  print(\"Original  : \",[*map(idx2word_tag.get, y_test[i])])\n",
        "  print(\"predicted : \",[*map(idx2word_tag.get, pred[0])])\n",
        "  print(\"-\"*100)"
      ],
      "metadata": {
        "colab": {
          "base_uri": "https://localhost:8080/"
        },
        "id": "Y9g95smB_ctI",
        "outputId": "f7e5986e-cc04-4f13-fd44-0ac701fed580"
      },
      "execution_count": null,
      "outputs": [
        {
          "output_type": "stream",
          "name": "stdout",
          "text": [
            "Original  :  ['o', 'o', 'o', 'o', 'o', 'o', 'o', 'o', 'o', 'o', 'o', 'o', 'o', 'o', 'o', 'o', 'o', 'o', 'o', 'o', 'o', 'o', 'o', 'o', 'o', 'o', 'o', 'o', 'o', 'o', 'o', 'o', 'o', 'o', 'o', 'o', 'o', 'o', 'o', 'o', 'o', 'o', 'o', 'o', 'o', 'o', 'o', 'o', 'o', 'o', 'o', 'o', 'o', 'o', 'o', 'o', 'o', 'o', 'o', 'o', 'o', 'o', 'o', 'o', 'o', 'o', 'o', 'o', 'o', 'o', 'o', 'o', 'o', 'o', 'o', 'o', 'o', 'o', 'o', 'o', 'o', 'o', 'o', 'o', 'o', 'o', 'o', 'o', 'o', 'o', 'o', 'o', 'o', 'o', 'o', 'o', 'o', 'o', 'o', 'o', 'o', 'o', 'o', 'o', 'o', 'o', 'o', 'o', 'o', 'o', 'o', 'o', 'o', 'o', 'o', 'o', 'o', 'o', 'o', 'o', 'o', 'o', 'o', 'b-citation', 'i-citation', 'o', 'o', 'o', 'o', 'o', 'o', 'o', 'o', 'o', 'o', 'o', 'o', 'o', 'o', 'o', 'o', 'o', 'o', 'o', 'o', 'o', 'o', 'o', 'o', 'o', 'o', 'o', 'o', 'o', 'o', 'o', 'o', 'o', 'o', 'o', 'o', 'o', 'o', 'o', 'o', 'o', 'o', 'o', 'o', 'o', 'o', 'o', 'o', 'o', 'o', 'o', 'o', 'o', 'o', 'o', 'o', 'o', 'o', 'o', 'o', 'o', 'o', 'o', 'o', 'o', 'o', 'o', 'o', 'o', 'o', 'o', 'o', 'o', 'o', 'o', 'o', 'o', 'o', 'o', 'o', 'o', 'o', 'o', 'o', 'o', 'o', 'o', 'o', 'o', 'o', 'o', 'o', 'o', 'o', 'o', 'o', 'o', 'o', 'o', 'o', 'o', 'o', 'o', 'o', 'o', 'o', 'o', 'o', 'o', 'o', 'o', 'o', 'o', 'o', 'o', 'o', 'o', 'o', 'o', 'o', 'o', 'o', 'o', 'o', 'o', 'o', 'o', 'o', 'o', 'o', 'o', 'o', 'o', 'o', 'o', 'o', 'o', 'o', 'o', 'o', 'o', 'o', 'o', 'o', 'o', 'o', 'o', 'o', 'o', 'o', 'o', 'o', 'o', 'o', 'o', 'o', 'o', 'o', 'o', 'o', 'o', 'o', 'o', 'o', 'o', 'o', 'o', 'o', 'o', 'o', 'o', 'o', 'o', 'o', 'o']\n",
            "predicted :  ['o', 'o', 'o', 'o', 'o', 'o', 'o', 'o', 'o', 'o', 'o', 'o', 'o', 'o', 'o', 'o', 'o', 'o', 'o', 'o', 'o', 'o', 'o', 'o', 'o', 'o', 'o', 'o', 'o', 'o', 'o', 'o', 'o', 'o', 'o', 'o', 'o', 'o', 'o', 'o', 'o', 'o', 'o', 'o', 'o', 'o', 'o', 'o', 'o', 'o', 'o', 'o', 'o', 'o', 'o', 'o', 'o', 'o', 'o', 'o', 'o', 'o', 'o', 'o', 'o', 'o', 'o', 'o', 'o', 'o', 'o', 'o', 'o', 'o', 'o', 'o', 'o', 'o', 'o', 'o', 'o', 'o', 'o', 'o', 'o', 'o', 'o', 'o', 'o', 'o', 'o', 'o', 'o', 'o', 'o', 'o', 'o', 'o', 'o', 'o', 'o', 'o', 'o', 'o', 'o', 'o', 'o', 'o', 'o', 'o', 'o', 'o', 'o', 'o', 'o', 'o', 'o', 'o', 'b-wavelength', 'o', 'o', 'o', 'o', 'b-citation', 'i-citation', 'o', 'o', 'o', 'o', 'o', 'o', 'o', 'o', 'o', 'o', 'o', 'o', 'o', 'o', 'o', 'o', 'o', 'o', 'o', 'o', 'o', 'o', 'o', 'o', 'o', 'o', 'o', 'o', 'o', 'o', 'o', 'o', 'o', 'o', 'o', 'o', 'o', 'o', 'o', 'o', 'o', 'o', 'o', 'o', 'o', 'o', 'o', 'o', 'o', 'o', 'o', 'o', 'o', 'o', 'o', 'o', 'o', 'o', 'o', 'o', 'o', 'o', 'o', 'o', 'o', 'o', 'o', 'o', 'o', 'o', 'o', 'o', 'o', 'o', 'o', 'o', 'o', 'o', 'o', 'o', 'o', 'o', 'o', 'o', 'o', 'o', 'o', 'o', 'o', 'o', 'o', 'o', 'o', 'o', 'o', 'o', 'o', 'o', 'o', 'o', 'o', 'o', 'o', 'o', 'o', 'o', 'o', 'o', 'o', 'o', 'o', 'o', 'o', 'o', 'o', 'o', 'o', 'o', 'o', 'o', 'o', 'o', 'o', 'o', 'o', 'o', 'o', 'o', 'o', 'o', 'o', 'o', 'o', 'o', 'o', 'o', 'o', 'o', 'o', 'o', 'o', 'o', 'o', 'o', 'o', 'o', 'o', 'o', 'o', 'o', 'o', 'o', 'o', 'o', 'o', 'o', 'o', 'o', 'o', 'o', 'o', 'o', 'o', 'o', 'o', 'o', 'o', 'o', 'o', 'o', 'o', 'o', 'o', 'o', 'o']\n",
            "----------------------------------------------------------------------------------------------------\n",
            "Original  :  ['o', 'o', 'o', 'o', 'o', 'o', 'o', 'o', 'o', 'o', 'o', 'o', 'o', 'o', 'o', 'o', 'o', 'o', 'o', 'o', 'o', 'o', 'o', 'o', 'o', 'o', 'o', 'o', 'o', 'o', 'o', 'o', 'o', 'o', 'o', 'o', 'b-wavelength', 'o', 'o', 'o', 'o', 'o', 'o', 'o', 'o', 'o', 'o', 'o', 'o', 'o', 'o', 'o', 'o', 'o', 'o', 'o', 'o', 'o', 'o', 'b-observatory', 'o', 'o', 'o', 'o', 'o', 'o', 'o', 'o', 'o', 'o', 'o', 'o', 'o', 'o', 'o', 'o', 'o', 'o', 'o', 'o', 'o', 'o', 'o', 'o', 'o', 'o', 'o', 'o', 'o', 'o', 'o', 'b-wavelength', 'o', 'o', 'o', 'o', 'o', 'o', 'o', 'o', 'o', 'o', 'o', 'b-model', 'i-model', 'o', 'o', 'o', 'o', 'o', 'o', 'o', 'o', 'o', 'o', 'o', 'o', 'o', 'o', 'o', 'o', 'o', 'o', 'o', 'o', 'o', 'o', 'o', 'b-wavelength', 'i-wavelength', 'b-wavelength', 'o', 'b-wavelength', 'i-wavelength', 'o', 'o', 'o', 'o', 'o', 'o', 'o', 'o', 'o', 'o', 'o', 'o', 'o', 'o', 'o', 'o', 'o', 'o', 'o', 'o', 'o', 'o', 'o', 'o', 'o', 'b-citation', 'i-citation', 'i-citation', 'i-citation', 'o', 'o', 'o', 'o', 'o', 'o', 'o', 'o', 'o', 'o', 'o', 'o', 'o', 'o', 'o', 'o', 'o', 'o', 'o', 'o', 'o', 'o', 'o', 'o', 'o', 'o', 'o', 'o', 'o', 'o', 'o', 'o', 'o', 'o', 'o', 'o', 'b-citation', 'i-citation', 'i-citation', 'o', 'o', 'o', 'o', 'b-citation', 'i-citation', 'i-citation', 'o', 'o', 'o', 'o', 'b-citation', 'i-citation', 'i-citation', 'o', 'b-citation', 'o', 'o', 'o', 'o', 'o', 'o', 'o', 'o', 'b-citation', 'i-citation', 'i-citation', 'i-citation', 'o', 'o', 'o', 'o', 'o', 'o', 'o', 'o', 'o', 'o', 'o', 'o', 'o', 'o', 'o', 'o', 'o', 'b-citation', 'i-citation', 'i-citation', 'i-citation', 'o', 'o', 'o', 'o', 'o', 'o', 'o', 'o', 'o', 'o', 'o', 'o', 'o', 'o', 'o', 'o', 'o', 'o', 'o', 'b-telescope', 'b-observatory', 'o', 'b-telescope', 'b-citation', 'i-citation', 'i-citation', 'i-citation', 'i-citation', 'i-citation', 'o', 'o', 'o', 'o', 'o', 'o', 'o', 'o', 'o', 'o', 'o', 'o', 'o', 'o', 'o', 'o', 'o', 'o', 'o', 'o']\n",
            "predicted :  ['o', 'o', 'o', 'o', 'o', 'o', 'o', 'o', 'o', 'o', 'o', 'o', 'o', 'o', 'o', 'o', 'o', 'o', 'o', 'o', 'o', 'o', 'o', 'o', 'o', 'o', 'o', 'o', 'o', 'o', 'o', 'o', 'o', 'o', 'o', 'o', 'b-wavelength', 'o', 'o', 'o', 'o', 'o', 'o', 'o', 'o', 'o', 'o', 'o', 'o', 'o', 'o', 'o', 'o', 'o', 'o', 'o', 'o', 'o', 'o', 'b-observatory', 'o', 'o', 'o', 'o', 'o', 'o', 'o', 'o', 'o', 'o', 'o', 'o', 'o', 'o', 'o', 'o', 'o', 'o', 'o', 'o', 'o', 'o', 'o', 'o', 'o', 'o', 'o', 'o', 'o', 'o', 'o', 'b-wavelength', 'o', 'o', 'o', 'o', 'o', 'o', 'o', 'o', 'o', 'o', 'o', 'o', 'o', 'o', 'o', 'o', 'o', 'o', 'o', 'o', 'o', 'o', 'o', 'o', 'o', 'o', 'o', 'o', 'o', 'o', 'o', 'o', 'o', 'o', 'o', 'o', 'o', 'o', 'b-wavelength', 'o', 'b-wavelength', 'i-wavelength', 'o', 'o', 'o', 'o', 'o', 'o', 'o', 'o', 'o', 'o', 'o', 'o', 'o', 'o', 'o', 'o', 'o', 'o', 'o', 'o', 'o', 'o', 'o', 'o', 'o', 'b-citation', 'i-citation', 'i-citation', 'i-citation', 'o', 'o', 'o', 'o', 'o', 'o', 'o', 'o', 'o', 'o', 'o', 'o', 'o', 'o', 'o', 'o', 'o', 'o', 'o', 'o', 'o', 'o', 'o', 'o', 'o', 'o', 'o', 'o', 'o', 'o', 'o', 'o', 'o', 'o', 'o', 'o', 'b-citation', 'i-citation', 'i-citation', 'o', 'o', 'o', 'o', 'b-citation', 'i-citation', 'i-citation', 'o', 'o', 'o', 'o', 'b-citation', 'i-citation', 'i-citation', 'o', 'b-citation', 'o', 'o', 'o', 'o', 'o', 'o', 'o', 'o', 'b-citation', 'i-citation', 'i-citation', 'i-citation', 'o', 'o', 'o', 'o', 'o', 'o', 'o', 'o', 'o', 'o', 'o', 'o', 'o', 'o', 'o', 'o', 'o', 'b-citation', 'i-citation', 'i-citation', 'i-citation', 'o', 'o', 'o', 'b-wavelength', 'o', 'o', 'o', 'o', 'o', 'o', 'o', 'o', 'o', 'o', 'o', 'o', 'o', 'o', 'o', 'b-telescope', 'b-person', 'o', 'b-telescope', 'b-person', 'i-person', 'i-citation', 'i-citation', 'i-citation', 'i-citation', 'o', 'o', 'o', 'o', 'o', 'o', 'o', 'o', 'o', 'o', 'o', 'o', 'o', 'o', 'o', 'o', 'o', 'o', 'o', 'o']\n",
            "----------------------------------------------------------------------------------------------------\n",
            "Original  :  ['o', 'o', 'o', 'o', 'o', 'o', 'o', 'o', 'o', 'o', 'o', 'o', 'o', 'o', 'o', 'o', 'o', 'o', 'o', 'o', 'o', 'o', 'o', 'o', 'o', 'o', 'b-wavelength', 'b-wavelength', 'i-wavelength', 'o', 'o', 'o', 'o', 'o', 'o', 'o', 'o', 'o', 'o', 'o', 'o', 'o', 'o', 'o', 'o', 'o', 'o', 'o', 'o', 'o', 'o', 'o', 'o', 'o', 'o', 'o', 'o', 'o', 'o', 'o', 'o', 'b-wavelength', 'o', 'b-wavelength', 'o', 'o', 'o', 'o', 'o', 'o', 'o', 'o', 'o', 'o', 'o', 'o', 'o', 'o', 'o', 'o', 'o', 'o', 'o', 'o', 'o', 'o', 'o', 'b-citation', 'i-citation', 'i-citation', 'i-citation', 'i-citation', 'o', 'o', 'o', 'o', 'o', 'o', 'o', 'o', 'o', 'o', 'o', 'o', 'o', 'o', 'o', 'o', 'o', 'o', 'o', 'o', 'o', 'o', 'o', 'o', 'o', 'o', 'o', 'o', 'o', 'o', 'o', 'o', 'o', 'o', 'o', 'o', 'o', 'o', 'o', 'o', 'o', 'o', 'o', 'o', 'o', 'o', 'o', 'o', 'o', 'o', 'o', 'o', 'o', 'o', 'o', 'o', 'o', 'o', 'o', 'o', 'o', 'o', 'o', 'o', 'o', 'o', 'o', 'o', 'o', 'o', 'o', 'o', 'o', 'o', 'o', 'o', 'o', 'o', 'o', 'o', 'o', 'o', 'o', 'o', 'o', 'b-wavelength', 'i-wavelength', 'b-wavelength', 'i-wavelength', 'i-wavelength', 'o', 'o', 'b-citation', 'i-citation', 'i-citation', 'i-citation', 'i-citation', 'o', 'o', 'o', 'o', 'o', 'o', 'o', 'o', 'o', 'o', 'o', 'o', 'o', 'o', 'o', 'o', 'o', 'o', 'o', 'o', 'o', 'o', 'o', 'b-wavelength', 'i-wavelength', 'i-wavelength', 'i-wavelength', 'i-wavelength', 'o', 'o', 'o', 'o', 'o', 'o', 'o', 'o', 'b-database', 'i-database', 'i-database', 'b-citation', 'i-citation', 'i-citation', 'i-citation', 'o', 'o', 'o', 'o', 'o', 'o', 'o', 'o', 'o', 'o', 'o', 'o', 'o', 'o', 'o', 'o', 'o', 'o', 'o', 'o', 'o', 'o', 'o', 'o', 'o', 'o', 'o', 'o', 'o', 'o', 'o', 'o', 'o', 'o', 'o', 'o', 'o', 'o', 'o', 'o', 'o', 'o', 'o', 'o', 'o', 'o', 'o', 'o', 'o', 'o', 'o', 'o', 'o', 'o', 'o', 'o', 'o', 'o', 'o', 'o', 'o', 'o', 'o', 'o', 'o', 'o', 'o', 'o']\n",
            "predicted :  ['o', 'o', 'o', 'o', 'o', 'o', 'o', 'o', 'o', 'o', 'o', 'o', 'o', 'o', 'o', 'o', 'o', 'o', 'o', 'o', 'o', 'o', 'o', 'o', 'o', 'o', 'o', 'i-wavelength', 'o', 'o', 'o', 'o', 'o', 'o', 'o', 'o', 'o', 'o', 'o', 'o', 'o', 'o', 'o', 'o', 'o', 'o', 'o', 'o', 'o', 'o', 'o', 'o', 'o', 'o', 'o', 'o', 'o', 'o', 'o', 'o', 'o', 'b-wavelength', 'o', 'b-wavelength', 'o', 'o', 'o', 'o', 'o', 'o', 'o', 'o', 'o', 'o', 'o', 'o', 'o', 'o', 'o', 'o', 'o', 'o', 'o', 'o', 'o', 'o', 'o', 'b-citation', 'i-citation', 'i-citation', 'i-citation', 'i-citation', 'o', 'o', 'o', 'o', 'o', 'o', 'o', 'o', 'o', 'o', 'o', 'o', 'o', 'o', 'o', 'o', 'o', 'o', 'o', 'o', 'o', 'o', 'o', 'o', 'o', 'o', 'o', 'o', 'o', 'o', 'o', 'o', 'o', 'o', 'o', 'o', 'o', 'o', 'o', 'o', 'o', 'o', 'o', 'o', 'o', 'o', 'o', 'o', 'o', 'o', 'o', 'o', 'o', 'o', 'o', 'o', 'o', 'o', 'o', 'o', 'o', 'o', 'o', 'o', 'o', 'o', 'o', 'o', 'o', 'o', 'o', 'o', 'o', 'o', 'o', 'o', 'o', 'o', 'o', 'o', 'o', 'o', 'o', 'o', 'o', 'b-wavelength', 'i-wavelength', 'i-wavelength', 'i-wavelength', 'i-wavelength', 'o', 'o', 'b-citation', 'i-citation', 'i-citation', 'i-citation', 'i-citation', 'o', 'o', 'o', 'o', 'o', 'o', 'o', 'o', 'o', 'o', 'o', 'o', 'o', 'o', 'o', 'o', 'o', 'o', 'o', 'o', 'o', 'o', 'o', 'o', 'i-wavelength', 'i-wavelength', 'o', 'o', 'o', 'o', 'o', 'o', 'o', 'o', 'o', 'o', 'b-telescope', 'i-telescope', 'o', 'b-person', 'i-citation', 'i-citation', 'i-citation', 'o', 'o', 'o', 'o', 'o', 'o', 'o', 'o', 'o', 'o', 'o', 'o', 'o', 'o', 'o', 'o', 'o', 'o', 'o', 'o', 'o', 'o', 'o', 'o', 'o', 'o', 'o', 'o', 'o', 'o', 'o', 'o', 'o', 'o', 'o', 'o', 'o', 'o', 'o', 'o', 'o', 'o', 'o', 'o', 'o', 'o', 'o', 'o', 'o', 'o', 'o', 'o', 'o', 'o', 'o', 'o', 'o', 'o', 'o', 'o', 'o', 'o', 'o', 'o', 'o', 'o', 'o', 'o']\n",
            "----------------------------------------------------------------------------------------------------\n",
            "Original  :  ['o', 'b-person', 'o', 'o', 'o', 'o', 'o', 'o', 'o', 'b-organization', 'i-organization', 'i-organization', 'b-person', 'b-person', 'o', 'b-person', 'o', 'o', 'o', 'o', 'b-organization', 'i-organization', 'i-organization', 'i-organization', 'i-organization', 'b-organization', 'b-location', 'o', 'o', 'o', 'o', 'o', 'o', 'o', 'o', 'o', 'o', 'o', 'o', 'o', 'o', 'o', 'o', 'o', 'o', 'o', 'o', 'b-database', 'i-database', 'i-database', 'i-database', 'o', 'o', 'o', 'b-location', 'b-organization', 'o', 'o', 'b-grant', 'o', 'o', 'o', 'o', 'o', 'o', 'b-organization', 'i-organization', 'i-organization', 'o', 'b-organization', 'i-organization', 'i-organization', 'o', 'b-archive', 'i-archive', 'i-archive', 'i-archive', None, None, None, None, None, None, None, None, None, None, None, None, None, None, None, None, None, None, None, None, None, None, None, None, None, None, None, None, None, None, None, None, None, None, None, None, None, None, None, None, None, None, None, None, None, None, None, None, None, None, None, None, None, None, None, None, None, None, None, None, None, None, None, None, None, None, None, None, None, None, None, None, None, None, None, None, None, None, None, None, None, None, None, None, None, None, None, None, None, None, None, None, None, None, None, None, None, None, None, None, None, None, None, None, None, None, None, None, None, None, None, None, None, None, None, None, None, None, None, None, None, None, None, None, None, None, None, None, None, None, None, None, None, None, None, None, None, None, None, None, None, None, None, None, None, None, None, None, None, None, None, None, None, None, None, None, None, None, None, None, None, None, None, None, None, None, None, None, None, None, None, None, None, None, None, None, None, None, None, None, None, None, None, None, None, None, None, None, None, None, None, None, None, None, None, None, None, None, None, None, None, None, None, None, None, None, None, None, None, None, None, None, None, None, None, None, None, None, None, None, None, None, None]\n",
            "predicted :  ['o', 'b-person', 'o', 'o', 'o', 'o', 'o', 'o', 'o', 'b-organization', 'i-organization', 'i-organization', 'i-organization', 'b-person', 'o', 'b-person', 'o', 'o', 'o', 'o', 'b-organization', 'i-grant', 'i-organization', 'i-organization', 'i-organization', 'b-organization', 'b-location', 'o', 'o', 'o', 'o', 'o', 'o', 'o', 'o', 'o', 'o', 'o', 'o', 'o', 'o', 'o', 'o', 'o', 'o', 'o', 'o', 'b-telescope', 'i-survey', 'o', 'o', 'o', 'o', 'o', 'b-organization', 'b-organization', 'o', 'o', 'b-grant', 'o', 'o', 'o', 'o', 'o', 'o', 'b-organization', 'o', 'b-grant', 'o', 'o', 'i-organization', 'i-organization', 'o', 'b-organization', 'i-organization', 'i-organization', 'i-fellowship', 'i-fellowship', 'i-fellowship', 'i-fellowship', 'i-fellowship', 'i-fellowship', 'i-fellowship', 'i-fellowship', 'i-fellowship', 'i-fellowship', 'i-fellowship', 'i-fellowship', 'i-fellowship', 'i-fellowship', 'i-fellowship', 'i-fellowship', 'i-fellowship', 'i-fellowship', 'i-fellowship', 'i-fellowship', 'i-fellowship', 'i-fellowship', 'i-fellowship', 'i-fellowship', 'i-fellowship', 'i-fellowship', 'i-fellowship', 'i-fellowship', 'i-fellowship', 'i-fellowship', 'i-fellowship', 'i-fellowship', 'i-fellowship', 'i-fellowship', 'i-fellowship', 'i-fellowship', 'i-fellowship', 'i-fellowship', 'i-fellowship', 'i-fellowship', 'i-fellowship', 'i-fellowship', 'i-fellowship', 'i-fellowship', 'i-fellowship', 'i-fellowship', 'i-fellowship', 'i-fellowship', 'i-fellowship', 'i-fellowship', 'i-fellowship', 'i-fellowship', 'i-fellowship', 'i-fellowship', 'i-fellowship', 'i-fellowship', 'i-fellowship', 'i-fellowship', 'i-fellowship', 'i-fellowship', 'i-fellowship', 'i-fellowship', 'i-fellowship', 'i-fellowship', 'i-fellowship', 'i-fellowship', 'i-fellowship', 'i-fellowship', 'i-fellowship', 'i-fellowship', 'i-fellowship', 'i-fellowship', 'i-fellowship', 'i-fellowship', 'i-fellowship', 'i-fellowship', 'i-fellowship', 'i-fellowship', 'i-fellowship', 'i-fellowship', 'i-fellowship', 'i-fellowship', 'i-fellowship', 'i-fellowship', 'i-fellowship', 'i-fellowship', 'i-fellowship', 'i-fellowship', 'i-fellowship', 'i-fellowship', 'i-fellowship', 'i-fellowship', 'i-fellowship', 'i-fellowship', 'i-fellowship', 'i-fellowship', 'i-fellowship', 'i-fellowship', 'i-fellowship', 'i-fellowship', 'i-fellowship', 'i-fellowship', 'i-fellowship', 'i-fellowship', 'i-fellowship', 'i-fellowship', 'i-fellowship', 'i-fellowship', 'i-fellowship', 'i-fellowship', 'i-fellowship', 'i-fellowship', 'i-fellowship', 'i-fellowship', 'i-fellowship', 'i-fellowship', 'i-fellowship', 'i-fellowship', 'i-fellowship', 'i-fellowship', 'i-fellowship', 'i-fellowship', 'i-fellowship', 'i-fellowship', 'i-fellowship', 'i-fellowship', 'i-fellowship', 'i-fellowship', 'i-fellowship', 'i-fellowship', 'i-fellowship', 'i-fellowship', 'i-fellowship', 'i-fellowship', 'i-fellowship', 'i-fellowship', 'i-fellowship', 'i-fellowship', 'i-fellowship', 'i-fellowship', 'i-fellowship', 'i-fellowship', 'i-fellowship', 'i-fellowship', 'i-fellowship', 'i-fellowship', 'i-fellowship', 'i-fellowship', 'i-fellowship', 'i-fellowship', 'i-fellowship', 'i-fellowship', 'i-fellowship', 'i-fellowship', 'i-fellowship', 'i-fellowship', 'i-fellowship', 'i-fellowship', 'i-fellowship', 'i-fellowship', 'i-fellowship', 'i-fellowship', 'i-fellowship', 'i-fellowship', 'i-fellowship', 'i-fellowship', 'i-fellowship', 'i-fellowship', 'i-fellowship', 'i-fellowship', 'i-fellowship', 'i-fellowship', 'i-fellowship', 'i-fellowship', 'i-fellowship', 'i-fellowship', 'i-fellowship', 'i-fellowship', 'i-fellowship', 'i-fellowship', 'i-fellowship', 'i-fellowship', 'i-fellowship', 'i-fellowship', 'i-fellowship', 'i-fellowship', 'i-fellowship', 'i-fellowship', 'i-fellowship', 'i-fellowship', 'i-fellowship', 'i-fellowship', 'i-fellowship', 'i-fellowship', 'i-fellowship', 'i-fellowship', 'i-fellowship', 'i-fellowship', 'i-fellowship', 'i-fellowship', 'i-fellowship', 'i-fellowship', 'i-fellowship', 'i-fellowship', 'i-fellowship', 'i-fellowship', 'i-fellowship', 'i-fellowship', 'i-fellowship', 'i-fellowship', 'i-fellowship', 'i-fellowship', 'i-fellowship', 'i-fellowship', 'i-fellowship', 'i-fellowship', 'i-fellowship', 'i-fellowship', 'i-fellowship', 'i-fellowship', 'i-fellowship', 'i-fellowship', 'i-fellowship', 'i-fellowship']\n",
            "----------------------------------------------------------------------------------------------------\n",
            "Original  :  ['b-person', 'o', 'b-person', 'o', 'o', 'o', 'b-organization', 'o', 'b-grant', 'b-person', 'o', 'o', 'o', 'o', 'o', 'b-organization', 'i-organization', 'o', 'b-grant', 'b-person', 'o', 'b-person', 'o', 'o', 'o', 'b-organization', 'o', 'b-grant', 'b-person', 'b-person', 'b-person', 'o', 'b-person', 'o', 'o', 'o', 'o', 'b-organization', 'i-organization', 'i-organization', 'i-organization', 'o', 'o', 'o', 'b-grant', 'b-person', 'o', 'o', 'o', 'o', 'b-fellowship', 'i-fellowship', 'i-fellowship', 'i-fellowship', 'i-fellowship', 'i-fellowship', 'i-fellowship', 'o', 'o', 'o', 'o', 'o', 'o', 'b-computingfacility', 'i-computingfacility', 'i-computingfacility', 'i-computingfacility', 'i-computingfacility', 'i-computingfacility', 'o', 'b-organization', 'i-organization', 'i-organization', 'i-organization', 'i-organization', 'i-organization', 'o', 'o', 'o', 'b-organization', 'i-organization', 'i-organization', 'i-organization', 'i-organization', 'i-organization', 'i-organization', 'i-organization', 'i-organization', 'o', 'o', 'o', 'b-grant', 'o', 'b-software', 'b-software', 'b-citation', 'i-citation', 'o', 'b-software', 'b-citation', 'i-citation', 'i-citation', 'i-citation', 'i-citation', 'i-citation', 'o', 'b-software', 'b-citation', 'i-citation', 'i-citation', 'i-citation', 'o', 'b-software', 'b-citation', 'i-citation', 'i-citation', 'i-citation', 'o', 'b-software', 'b-citation', 'i-citation', 'i-citation', 'i-citation', 'o', 'b-software', 'b-citation', 'i-citation', 'i-citation', 'o', 'b-software', 'b-citation', 'i-citation', 'o', 'b-software', 'b-citation', 'i-citation', 'i-citation', 'i-citation', 'o', 'b-software', 'b-citation', 'i-citation', 'o', 'b-software', 'b-citation', 'i-citation', 'i-citation', 'i-citation', 'o', None, None, None, None, None, None, None, None, None, None, None, None, None, None, None, None, None, None, None, None, None, None, None, None, None, None, None, None, None, None, None, None, None, None, None, None, None, None, None, None, None, None, None, None, None, None, None, None, None, None, None, None, None, None, None, None, None, None, None, None, None, None, None, None, None, None, None, None, None, None, None, None, None, None, None, None, None, None, None, None, None, None, None, None, None, None, None, None, None, None, None, None, None, None, None, None, None, None, None, None, None, None, None, None, None, None, None, None, None, None, None, None, None, None, None, None, None, None, None, None, None, None, None, None, None, None, None, None, None, None, None, None, None, None, None, None, None, None, None, None, None, None, None, None, None, None, None, None, None, None, None]\n",
            "predicted :  ['b-citation', 'o', 'b-person', 'o', 'o', 'o', 'b-organization', 'o', 'b-grant', 'b-person', 'o', 'o', 'o', 'o', 'o', 'b-organization', 'i-organization', 'o', 'b-grant', 'b-person', 'o', 'b-person', 'o', 'o', 'o', 'b-organization', 'o', 'b-grant', 'b-person', 'b-person', 'b-person', 'o', 'b-person', 'o', 'o', 'o', 'o', 'b-organization', 'b-organization', 'i-organization', 'i-organization', 'o', 'o', 'o', 'b-grant', 'b-person', 'o', 'o', 'o', 'o', 'b-organization', 'i-observatory', 'i-fellowship', 'i-observatory', 'i-observatory', 'i-fellowship', 'i-fellowship', 'o', 'o', 'o', 'o', 'o', 'o', 'b-organization', 'i-collaboration', 'i-grant', 'i-computingfacility', 'i-computingfacility', 'i-computingfacility', 'o', 'b-organization', 'i-organization', 'i-organization', 'i-organization', 'i-organization', 'i-organization', 'o', 'o', 'o', 'b-organization', 'i-organization', 'i-organization', 'i-organization', 'o', 'b-location', 'b-organization', 'i-organization', 'i-organization', 'o', 'o', 'o', 'b-grant', 'o', 'b-url', 'b-url', 'b-citation', 'i-citation', 'o', 'b-software', 'b-citation', 'i-citation', 'i-citation', 'i-citation', 'i-citation', 'i-citation', 'o', 'b-software', 'b-citation', 'i-citation', 'i-citation', 'i-citation', 'o', 'b-software', 'b-citation', 'i-citation', 'i-citation', 'i-citation', 'o', 'b-citation', 'i-citation', 'i-citation', 'i-citation', 'i-citation', 'o', 'b-software', 'b-citation', 'i-citation', 'i-citation', 'o', 'o', 'b-citation', 'i-citation', 'o', 'o', 'b-citation', 'i-citation', 'i-citation', 'i-citation', 'o', 'b-software', 'b-citation', 'i-citation', 'o', 'b-software', 'b-citation', 'i-citation', 'i-citation', 'i-citation', 'o', 'o', 'o', 'o', 'o', 'o', 'o', 'o', 'o', 'o', 'o', 'o', 'o', 'o', 'o', 'o', 'o', 'o', 'o', 'o', 'o', 'o', 'o', 'o', 'o', 'o', 'o', 'o', 'o', 'o', 'o', 'o', 'o', 'o', 'o', 'o', 'o', 'o', 'o', 'o', 'o', 'o', 'o', 'o', 'o', 'o', 'o', 'o', 'o', 'o', 'o', 'o', 'o', 'o', 'o', 'o', 'o', 'o', 'o', 'o', 'o', 'o', 'o', 'o', 'o', 'o', 'o', 'o', 'o', 'o', 'o', 'o', 'o', 'o', 'o', 'o', 'o', 'o', 'o', 'o', 'o', 'o', 'o', 'o', 'o', 'o', 'o', 'o', 'o', 'o', 'o', 'o', 'o', 'o', 'o', 'o', 'o', 'o', 'o', 'o', 'o', 'o', 'o', 'o', 'o', 'o', 'o', 'o', 'o', 'o', 'o', 'o', 'o', 'o', 'o', 'o', 'o', 'o', 'o', 'o', 'o', 'o', 'o', 'o', 'o', 'o', 'o', 'o', 'o', 'o', 'o', 'o', 'o', 'o', 'o', 'o', 'o', 'o', 'o', 'o', 'o', 'o', 'o', 'o', 'o', 'o', 'o', 'o', 'o', 'o', 'o', 'o']\n",
            "----------------------------------------------------------------------------------------------------\n",
            "Original  :  ['o', 'o', 'b-person', 'i-person', 'o', 'o', 'b-mission', 'o', 'o', 'b-person', 'i-person', 'o', 'o', 'b-mission', 'o', 'o', 'o', 'b-person', 'i-person', 'o', 'o', 'o', 'o', 'o', 'o', 'o', 'o', 'o', 'o', 'b-person', 'o', 'b-person', 'i-person', 'b-person', 'i-person', 'b-person', 'i-person', 'b-person', 'i-person', 'b-person', 'i-person', 'b-person', 'i-person', 'o', 'b-person', 'i-person', 'o', 'o', 'o', 'o', 'o', 'o', 'o', 'o', 'o', 'b-organization', 'i-organization', 'i-organization', 'o', 'o', 'o', 'o', 'b-grant', 'i-grant', 'i-grant', 'b-grant', 'b-person', 'i-person', 'o', 'b-person', 'i-person', 'o', 'o', 'o', 'b-grant', 'o', 'o', 'b-organization', 'i-organization', 'o', 'o', 'b-organization', 'i-organization', 'i-organization', 'i-organization', 'i-organization', 'b-organization', 'o', 'o', 'o', 'o', 'o', 'o', 'o', 'b-organization', 'b-organization', 'o', 'b-organization', 'o', 'o', 'o', 'o', 'o', 'o', 'o', 'o', 'b-person', 'o', 'o', 'b-organization', 'o', 'o', 'o', 'b-organization', 'o', 'o', 'b-grant', 'i-grant', None, None, None, None, None, None, None, None, None, None, None, None, None, None, None, None, None, None, None, None, None, None, None, None, None, None, None, None, None, None, None, None, None, None, None, None, None, None, None, None, None, None, None, None, None, None, None, None, None, None, None, None, None, None, None, None, None, None, None, None, None, None, None, None, None, None, None, None, None, None, None, None, None, None, None, None, None, None, None, None, None, None, None, None, None, None, None, None, None, None, None, None, None, None, None, None, None, None, None, None, None, None, None, None, None, None, None, None, None, None, None, None, None, None, None, None, None, None, None, None, None, None, None, None, None, None, None, None, None, None, None, None, None, None, None, None, None, None, None, None, None, None, None, None, None, None, None, None, None, None, None, None, None, None, None, None, None, None, None, None, None, None, None, None, None, None, None, None, None, None, None, None, None, None, None, None, None, None, None, None, None, None]\n",
            "predicted :  ['o', 'o', 'b-person', 'i-person', 'o', 'o', 'b-observatory', 'o', 'o', 'b-person', 'i-person', 'o', 'o', 'b-telescope', 'o', 'o', 'o', 'b-person', 'i-person', 'o', 'o', 'o', 'o', 'o', 'o', 'o', 'o', 'o', 'o', 'b-person', 'o', 'b-person', 'i-person', 'b-person', 'i-person', 'b-person', 'i-person', 'b-person', 'i-person', 'b-person', 'i-person', 'b-person', 'i-person', 'o', 'b-person', 'i-person', 'o', 'o', 'o', 'o', 'o', 'o', 'o', 'o', 'o', 'b-organization', 'i-organization', 'i-organization', 'o', 'o', 'o', 'o', 'o', 'o', 'o', 'b-grant', 'b-person', 'i-person', 'o', 'b-person', 'i-person', 'o', 'o', 'o', 'b-grant', 'o', 'o', 'b-organization', 'i-organization', 'o', 'o', 'b-organization', 'i-organization', 'i-organization', 'i-organization', 'i-organization', 'b-organization', 'o', 'o', 'o', 'o', 'o', 'o', 'o', 'b-organization', 'b-organization', 'o', 'b-organization', 'o', 'o', 'o', 'o', 'o', 'o', 'o', 'o', 'b-person', 'o', 'o', 'b-organization', 'o', 'o', 'o', 'b-organization', 'o', 'o', 'b-grant', 'i-grant', 'i-grant', 'i-grant', 'i-grant', 'i-grant', 'i-grant', 'i-grant', 'i-grant', 'i-grant', 'i-grant', 'i-grant', 'i-grant', 'i-grant', 'i-grant', 'i-grant', 'i-grant', 'i-grant', 'i-grant', 'i-grant', 'i-grant', 'i-grant', 'i-grant', 'i-grant', 'i-grant', 'i-grant', 'i-grant', 'i-grant', 'i-grant', 'i-grant', 'i-grant', 'i-grant', 'i-grant', 'i-grant', 'i-grant', 'i-grant', 'i-grant', 'i-grant', 'i-grant', 'i-grant', 'i-grant', 'i-grant', 'i-grant', 'i-grant', 'i-grant', 'i-grant', 'i-grant', 'i-grant', 'i-grant', 'i-grant', 'i-grant', 'i-grant', 'i-grant', 'i-grant', 'i-grant', 'i-grant', 'i-grant', 'i-grant', 'i-grant', 'i-grant', 'i-grant', 'i-grant', 'i-grant', 'i-grant', 'i-grant', 'i-grant', 'i-grant', 'i-grant', 'i-grant', 'i-grant', 'i-grant', 'i-grant', 'i-grant', 'i-grant', 'i-grant', 'i-grant', 'i-grant', 'i-grant', 'i-grant', 'i-grant', 'i-grant', 'i-grant', 'i-grant', 'i-grant', 'i-grant', 'i-grant', 'i-grant', 'i-grant', 'i-grant', 'i-grant', 'i-grant', 'i-grant', 'i-grant', 'i-grant', 'i-grant', 'i-grant', 'i-grant', 'i-grant', 'i-grant', 'i-grant', 'i-grant', 'i-grant', 'i-grant', 'i-grant', 'i-grant', 'i-grant', 'i-grant', 'i-grant', 'i-grant', 'i-grant', 'i-grant', 'i-grant', 'i-grant', 'i-grant', 'i-grant', 'i-grant', 'i-grant', 'i-grant', 'i-grant', 'i-grant', 'i-grant', 'i-grant', 'i-grant', 'i-grant', 'i-grant', 'i-grant', 'i-grant', 'i-grant', 'i-grant', 'i-grant', 'i-grant', 'i-grant', 'i-grant', 'i-grant', 'i-grant', 'i-grant', 'i-grant', 'i-grant', 'i-grant', 'i-grant', 'i-grant', 'i-grant', 'i-grant', 'i-grant', 'i-grant', 'i-grant', 'i-grant', 'i-grant', 'i-grant', 'i-grant', 'i-grant', 'i-grant', 'i-grant', 'i-grant', 'i-grant', 'i-grant', 'i-grant', 'i-grant', 'i-grant', 'i-grant', 'i-grant', 'i-grant', 'i-grant', 'i-grant', 'i-grant', 'i-grant', 'i-grant', 'i-grant', 'i-grant', 'i-grant', 'i-grant', 'i-grant', 'i-grant', 'i-grant', 'i-grant', 'i-grant', 'i-grant', 'i-grant', 'i-grant', 'i-grant', 'i-grant', 'i-grant', 'i-grant', 'i-grant']\n",
            "----------------------------------------------------------------------------------------------------\n",
            "Original  :  ['o', 'b-formula', 'i-formula', 'i-formula', 'i-formula', 'i-formula', 'i-formula', 'i-formula', 'i-formula', 'i-formula', 'i-formula', 'o', 'o', 'o', 'b-instrument', 'o', 'o', 'b-instrument', 'o', 'o', 'o', 'o', 'o', 'o', 'o', 'o', 'o', 'o', 'o', 'o', 'o', 'o', 'o', 'o', 'o', 'o', 'o', 'o', 'o', 'o', 'o', 'o', 'b-instrument', 'o', 'o', 'o', 'o', 'o', 'o', 'o', 'o', 'o', 'o', 'o', 'o', 'o', 'o', 'o', 'o', 'o', 'o', 'o', 'o', 'o', 'o', 'b-instrument', 'o', 'o', 'o', 'o', 'o', 'b-instrument', 'o', 'o', 'o', 'o', 'o', 'o', 'o', 'o', 'b-instrument', 'o', 'o', 'o', 'o', 'o', 'o', 'o', 'b-instrument', 'o', 'o', 'o', 'o', 'o', 'o', 'o', 'o', 'o', 'o', 'o', 'o', 'o', 'o', 'o', 'o', 'o', 'o', 'o', 'o', 'o', 'o', 'o', 'o', 'o', 'o', 'o', 'o', 'o', 'o', 'b-instrument', 'o', 'o', 'b-instrument', 'o', 'o', 'o', 'o', 'o', 'o', 'o', 'o', 'b-instrument', 'o', 'o', 'o', 'b-instrument', 'o', 'o', 'o', 'o', 'o', 'o', 'o', 'o', 'o', 'o', 'o', 'o', 'o', 'o', 'o', 'o', 'o', 'o', 'o', 'o', 'o', 'o', 'o', 'o', 'o', 'o', 'o', 'o', 'o', 'o', 'o', 'o', 'o', 'o', 'o', 'o', 'o', 'o', 'o', 'b-formula', 'i-formula', 'i-formula', 'i-formula', 'i-formula', 'o', 'o', 'o', 'o', 'o', 'o', 'o', 'o', 'o', 'o', 'b-formula', 'i-formula', 'i-formula', 'i-formula', 'o', 'o', 'o', 'o', 'o', 'o', 'o', 'o', 'o', 'o', 'o', 'o', 'o', 'o', 'o', 'o', 'o', 'o', 'o', 'o', 'o', 'o', 'o', 'o', 'o', 'o', 'o', 'o', 'o', 'o', 'o', 'o', 'o', 'o', 'o', 'o', 'o', 'o', 'o', 'o', 'o', 'o', 'o', 'o', 'o', 'o', 'o', 'o', 'o', 'o', 'o', 'o', 'o', 'o', 'o', 'o', 'o', 'o', 'o', 'o', 'o', 'o', 'o', 'o', 'o', 'o', 'o', 'o', 'o', 'o', 'o', 'o', 'o', 'o', 'o', 'o', 'b-instrument', 'o', 'o', 'o', 'o', 'o', 'b-instrument', 'o', 'o', 'o', 'o', 'o', 'o', 'o', 'o', 'o', 'o', 'o', 'o', 'o', 'o', 'o', 'o', 'o', 'o', 'o', 'o', 'o', 'o', 'o']\n",
            "predicted :  ['o', 'o', 'o', 'i-formula', 'o', 'i-formula', 'i-formula', 'i-formula', 'i-formula', 'i-formula', 'o', 'o', 'o', 'o', 'b-wavelength', 'o', 'o', 'b-telescope', 'o', 'o', 'o', 'o', 'o', 'o', 'o', 'o', 'o', 'o', 'o', 'o', 'o', 'o', 'o', 'o', 'o', 'o', 'o', 'o', 'o', 'o', 'o', 'o', 'b-telescope', 'o', 'o', 'o', 'o', 'o', 'o', 'o', 'o', 'o', 'o', 'o', 'o', 'o', 'o', 'o', 'o', 'o', 'o', 'o', 'o', 'o', 'o', 'b-wavelength', 'o', 'o', 'o', 'o', 'o', 'b-telescope', 'o', 'o', 'o', 'o', 'o', 'o', 'o', 'o', 'b-model', 'o', 'o', 'o', 'o', 'o', 'o', 'o', 'b-wavelength', 'o', 'o', 'o', 'o', 'o', 'o', 'o', 'o', 'o', 'o', 'o', 'o', 'o', 'o', 'o', 'o', 'o', 'o', 'o', 'o', 'o', 'o', 'o', 'o', 'o', 'o', 'o', 'o', 'o', 'o', 'b-celestialobject', 'o', 'o', 'b-telescope', 'o', 'o', 'o', 'o', 'o', 'o', 'o', 'o', 'b-telescope', 'o', 'o', 'o', 'b-survey', 'o', 'o', 'o', 'o', 'o', 'o', 'o', 'o', 'o', 'o', 'o', 'o', 'o', 'o', 'o', 'o', 'o', 'o', 'o', 'o', 'o', 'o', 'o', 'o', 'o', 'o', 'o', 'o', 'o', 'o', 'o', 'o', 'o', 'o', 'o', 'o', 'o', 'o', 'o', 'o', 'o', 'i-formula', 'i-formula', 'i-formula', 'o', 'o', 'o', 'o', 'o', 'o', 'o', 'o', 'o', 'o', 'o', 'o', 'i-formula', 'i-formula', 'o', 'o', 'o', 'o', 'o', 'o', 'o', 'o', 'o', 'o', 'o', 'o', 'o', 'o', 'o', 'o', 'o', 'o', 'o', 'o', 'o', 'o', 'o', 'o', 'o', 'o', 'o', 'o', 'o', 'o', 'o', 'o', 'o', 'o', 'o', 'o', 'o', 'o', 'o', 'o', 'o', 'o', 'o', 'o', 'o', 'o', 'o', 'o', 'o', 'o', 'o', 'o', 'o', 'o', 'o', 'o', 'o', 'o', 'o', 'o', 'o', 'o', 'o', 'o', 'o', 'o', 'o', 'o', 'o', 'o', 'o', 'o', 'o', 'o', 'o', 'o', 'b-telescope', 'o', 'o', 'o', 'o', 'o', 'b-survey', 'o', 'o', 'o', 'o', 'o', 'o', 'o', 'o', 'o', 'o', 'o', 'o', 'o', 'o', 'o', 'o', 'o', 'o', 'o', 'o', 'o', 'o', 'o']\n",
            "----------------------------------------------------------------------------------------------------\n",
            "Original  :  ['o', 'o', 'o', 'o', 'o', 'o', 'o', 'b-organization', 'i-organization', 'i-organization', 'b-organization', 'b-grant', 'i-grant', 'i-grant', 'i-grant', 'o', 'b-grant', 'i-grant', 'i-grant', 'i-grant', 'i-grant', 'i-grant', 'i-grant', 'o', 'o', 'o', 'b-organization', 'i-organization', 'i-organization', 'i-organization', 'b-organization', 'o', 'o', 'o', 'o', 'o', 'o', 'o', 'b-organization', 'i-organization', 'o', 'b-person', 'i-person', 'i-person', 'o', 'o', 'o', 'o', 'o', 'o', 'o', 'o', 'o', 'o', 'o', 'o', 'o', 'o', 'o', 'o', 'o', 'o', 'o', 'o', 'o', 'o', 'o', 'o', 'o', 'o', 'o', 'o', 'o', 'o', 'o', 'o', 'b-organization', 'i-organization', 'i-organization', 'b-organization', 'b-mission', 'i-mission', 'o', 'b-url', 'o', 'o', 'o', 'o', 'b-organization', 'i-organization', 'i-organization', 'i-organization', 'i-organization', 'i-organization', 'b-organization', 'b-url', 'o', 'o', 'o', 'o', 'b-organization', 'o', 'o', 'o', 'o', 'o', 'o', 'o', 'o', 'o', 'o', 'o', 'o', 'o', 'b-collaboration', 'i-collaboration', 'i-collaboration', 'o', 'o', 'o', 'o', 'o', 'o', 'o', 'o', 'o', 'b-survey', 'i-survey', 'i-survey', 'i-survey', 'i-survey', 'o', 'o', 'o', 'o', 'o', 'o', 'o', 'b-organization', 'i-organization', 'i-organization', 'o', 'o', 'b-organization', 'i-organization', 'i-organization', 'i-organization', 'i-organization', 'b-organization', 'i-organization', 'i-organization', 'o', 'o', 'o', 'b-organization', 'i-organization', 'i-organization', 'i-organization', 'i-organization', 'o', 'o', 'b-organization', 'i-organization', 'i-organization', None, None, None, None, None, None, None, None, None, None, None, None, None, None, None, None, None, None, None, None, None, None, None, None, None, None, None, None, None, None, None, None, None, None, None, None, None, None, None, None, None, None, None, None, None, None, None, None, None, None, None, None, None, None, None, None, None, None, None, None, None, None, None, None, None, None, None, None, None, None, None, None, None, None, None, None, None, None, None, None, None, None, None, None, None, None, None, None, None, None, None, None, None, None, None, None, None, None, None, None, None, None, None, None, None, None, None, None, None, None, None, None, None, None, None, None, None, None, None, None, None, None, None, None, None, None, None, None, None, None, None, None, None, None, None, None]\n",
            "predicted :  ['o', 'o', 'o', 'o', 'o', 'o', 'o', 'b-organization', 'i-organization', 'i-organization', 'b-organization', 'i-organization', 'i-organization', 'i-grant', 'i-grant', 'o', 'o', 'i-grant', 'o', 'o', 'o', 'o', 'b-grant', 'o', 'o', 'o', 'b-organization', 'i-organization', 'i-organization', 'i-organization', 'b-organization', 'b-location', 'i-fellowship', 'i-fellowship', 'o', 'o', 'o', 'o', 'b-grant', 'i-grant', 'o', 'b-grant', 'b-person', 'i-observatory', 'o', 'o', 'o', 'o', 'b-grant', 'i-grant', 'o', 'o', 'o', 'o', 'o', 'o', 'o', 'o', 'o', 'o', 'o', 'o', 'o', 'o', 'o', 'o', 'o', 'o', 'o', 'o', 'o', 'o', 'o', 'o', 'o', 'o', 'b-organization', 'i-organization', 'i-organization', 'b-organization', 'o', 'b-telescope', 'o', 'b-url', 'o', 'o', 'o', 'o', 'b-organization', 'i-organization', 'i-organization', 'i-organization', 'i-organization', 'i-organization', 'b-organization', 'b-location', 'o', 'o', 'o', 'o', 'b-organization', 'o', 'o', 'o', 'o', 'b-organization', 'o', 'o', 'o', 'o', 'o', 'o', 'o', 'o', 'b-organization', 'i-collaboration', 'i-collaboration', 'o', 'o', 'o', 'o', 'o', 'o', 'o', 'o', 'o', 'o', 'i-survey', 'i-survey', 'i-survey', 'i-survey', 'o', 'o', 'o', 'o', 'o', 'o', 'o', 'b-organization', 'i-organization', 'i-organization', 'o', 'o', 'b-organization', 'i-organization', 'i-organization', 'i-organization', 'i-organization', 'i-organization', 'i-organization', 'i-organization', 'o', 'o', 'o', 'b-organization', 'i-organization', 'i-organization', 'i-organization', 'i-organization', 'o', 'o', 'b-organization', 'i-organization', 'i-organization', 'i-organization', 'i-organization', 'i-organization', 'i-organization', 'i-organization', 'i-organization', 'i-organization', 'i-organization', 'i-organization', 'i-organization', 'i-organization', 'i-organization', 'i-organization', 'i-organization', 'i-organization', 'i-organization', 'i-organization', 'i-organization', 'i-organization', 'i-organization', 'i-organization', 'i-organization', 'i-organization', 'i-organization', 'i-organization', 'i-organization', 'i-organization', 'i-organization', 'i-organization', 'i-organization', 'i-organization', 'i-organization', 'i-organization', 'i-organization', 'i-organization', 'i-organization', 'i-organization', 'i-organization', 'i-organization', 'i-organization', 'i-organization', 'i-organization', 'i-organization', 'i-organization', 'i-organization', 'i-organization', 'i-organization', 'i-organization', 'i-organization', 'i-organization', 'i-organization', 'i-organization', 'i-organization', 'i-organization', 'i-organization', 'i-organization', 'i-organization', 'i-organization', 'i-organization', 'i-organization', 'i-organization', 'i-organization', 'i-organization', 'i-organization', 'i-organization', 'i-organization', 'i-organization', 'i-organization', 'i-organization', 'i-organization', 'i-organization', 'i-organization', 'i-organization', 'i-organization', 'i-organization', 'i-organization', 'i-organization', 'i-organization', 'i-organization', 'i-organization', 'i-organization', 'i-organization', 'i-organization', 'i-organization', 'i-organization', 'i-organization', 'i-organization', 'i-organization', 'i-organization', 'i-organization', 'i-organization', 'i-organization', 'i-organization', 'i-organization', 'i-organization', 'i-organization', 'i-organization', 'i-organization', 'i-organization', 'i-organization', 'i-organization', 'i-organization', 'i-organization', 'i-organization', 'i-organization', 'i-organization', 'i-organization', 'i-organization', 'i-organization', 'i-organization', 'i-organization', 'i-organization', 'i-organization', 'i-organization', 'i-organization', 'i-organization', 'i-organization', 'i-organization', 'i-organization', 'i-organization', 'i-organization', 'i-organization', 'i-organization', 'i-organization', 'i-organization', 'i-organization', 'i-organization', 'i-organization', 'i-organization', 'i-organization', 'i-organization', 'i-organization', 'i-organization', 'i-organization', 'i-organization', 'i-organization']\n",
            "----------------------------------------------------------------------------------------------------\n",
            "Original  :  ['o', 'o', 'o', 'o', 'o', 'o', 'o', 'o', 'o', 'b-location', 'b-organization', 'i-organization', 'i-organization', 'i-organization', 'i-organization', 'i-organization', 'o', 'o', 'b-grant', None, None, None, None, None, None, None, None, None, None, None, None, None, None, None, None, None, None, None, None, None, None, None, None, None, None, None, None, None, None, None, None, None, None, None, None, None, None, None, None, None, None, None, None, None, None, None, None, None, None, None, None, None, None, None, None, None, None, None, None, None, None, None, None, None, None, None, None, None, None, None, None, None, None, None, None, None, None, None, None, None, None, None, None, None, None, None, None, None, None, None, None, None, None, None, None, None, None, None, None, None, None, None, None, None, None, None, None, None, None, None, None, None, None, None, None, None, None, None, None, None, None, None, None, None, None, None, None, None, None, None, None, None, None, None, None, None, None, None, None, None, None, None, None, None, None, None, None, None, None, None, None, None, None, None, None, None, None, None, None, None, None, None, None, None, None, None, None, None, None, None, None, None, None, None, None, None, None, None, None, None, None, None, None, None, None, None, None, None, None, None, None, None, None, None, None, None, None, None, None, None, None, None, None, None, None, None, None, None, None, None, None, None, None, None, None, None, None, None, None, None, None, None, None, None, None, None, None, None, None, None, None, None, None, None, None, None, None, None, None, None, None, None, None, None, None, None, None, None, None, None, None, None, None, None, None, None, None, None, None, None, None, None, None, None, None, None, None, None, None, None, None, None, None, None, None, None, None, None, None, None]\n",
            "predicted :  ['o', 'o', 'o', 'o', 'o', 'o', 'o', 'o', 'o', 'b-organization', 'b-organization', 'i-organization', 'i-organization', 'i-organization', 'i-organization', 'i-organization', 'o', 'o', 'b-grant', 'b-grant', 'b-grant', 'b-grant', 'b-grant', 'b-grant', 'b-grant', 'b-grant', 'b-grant', 'b-grant', 'b-grant', 'b-grant', 'b-grant', 'b-grant', 'b-grant', 'b-grant', 'b-grant', 'b-grant', 'b-grant', 'b-grant', 'b-grant', 'b-grant', 'b-grant', 'b-grant', 'b-grant', 'b-grant', 'b-grant', 'b-grant', 'b-grant', 'b-grant', 'b-grant', 'b-grant', 'b-grant', 'b-grant', 'b-grant', 'b-grant', 'b-grant', 'b-grant', 'b-grant', 'b-grant', 'b-grant', 'b-grant', 'b-grant', 'b-grant', 'b-grant', 'b-grant', 'b-grant', 'b-grant', 'b-grant', 'b-grant', 'b-grant', 'b-grant', 'b-grant', 'b-grant', 'b-grant', 'b-grant', 'b-grant', 'b-grant', 'b-grant', 'b-grant', 'b-grant', 'b-grant', 'b-grant', 'b-grant', 'b-grant', 'b-grant', 'b-grant', 'b-grant', 'b-grant', 'b-grant', 'b-grant', 'b-grant', 'b-grant', 'b-grant', 'b-grant', 'b-grant', 'b-grant', 'b-grant', 'b-grant', 'b-grant', 'b-grant', 'b-grant', 'b-grant', 'b-grant', 'b-grant', 'b-grant', 'b-grant', 'b-grant', 'b-grant', 'b-grant', 'b-grant', 'b-grant', 'b-grant', 'b-grant', 'b-grant', 'b-grant', 'b-grant', 'b-grant', 'b-grant', 'b-grant', 'b-grant', 'b-grant', 'b-grant', 'b-grant', 'b-grant', 'b-grant', 'b-grant', 'b-grant', 'b-grant', 'b-grant', 'b-grant', 'b-grant', 'b-grant', 'b-grant', 'b-grant', 'b-grant', 'b-grant', 'b-grant', 'b-grant', 'b-grant', 'b-grant', 'b-grant', 'b-grant', 'b-grant', 'b-grant', 'b-grant', 'b-grant', 'b-grant', 'b-grant', 'b-grant', 'b-grant', 'b-grant', 'b-grant', 'b-grant', 'b-grant', 'b-grant', 'b-grant', 'b-grant', 'b-grant', 'b-grant', 'b-grant', 'b-grant', 'b-grant', 'b-grant', 'b-grant', 'b-grant', 'b-grant', 'b-grant', 'b-grant', 'b-grant', 'b-grant', 'b-grant', 'b-grant', 'b-grant', 'b-grant', 'b-grant', 'b-grant', 'b-grant', 'b-grant', 'b-grant', 'b-grant', 'b-grant', 'b-grant', 'b-grant', 'b-grant', 'b-grant', 'b-grant', 'b-grant', 'b-grant', 'b-grant', 'b-grant', 'b-grant', 'b-grant', 'b-grant', 'b-grant', 'b-grant', 'b-grant', 'b-grant', 'b-grant', 'b-grant', 'b-grant', 'b-grant', 'b-grant', 'b-grant', 'b-grant', 'b-grant', 'b-grant', 'b-grant', 'b-grant', 'b-grant', 'b-grant', 'b-grant', 'b-grant', 'b-grant', 'b-grant', 'b-grant', 'b-grant', 'b-grant', 'b-grant', 'b-grant', 'b-grant', 'b-grant', 'b-grant', 'b-grant', 'b-grant', 'b-grant', 'b-grant', 'b-grant', 'b-grant', 'b-grant', 'b-grant', 'b-grant', 'b-grant', 'b-grant', 'b-grant', 'b-grant', 'b-grant', 'b-grant', 'b-grant', 'b-grant', 'b-grant', 'b-grant', 'b-grant', 'b-grant', 'b-grant', 'b-grant', 'b-grant', 'b-grant', 'b-grant', 'b-grant', 'b-grant', 'b-grant', 'b-grant', 'b-grant', 'b-grant', 'b-grant', 'b-grant', 'b-grant', 'b-grant', 'b-grant', 'b-grant', 'b-grant', 'b-grant', 'b-grant', 'b-grant', 'b-grant', 'b-grant', 'b-grant', 'b-grant', 'b-grant', 'b-grant', 'b-grant', 'b-grant', 'b-grant', 'b-grant', 'b-grant', 'b-grant', 'b-grant', 'b-grant', 'b-grant', 'b-grant', 'b-grant', 'b-grant', 'b-grant', 'b-grant', 'b-grant', 'b-grant', 'b-grant', 'b-grant', 'b-grant', 'b-grant', 'b-grant', 'b-grant', 'b-grant', 'b-grant', 'b-grant', 'b-grant', 'b-grant', 'b-grant', 'b-grant', 'b-grant', 'b-grant']\n",
            "----------------------------------------------------------------------------------------------------\n",
            "Original  :  ['o', 'o', 'o', 'o', 'o', 'b-person', 'o', 'o', 'o', 'b-person', 'i-person', 'i-person', 'i-person', 'o', 'o', 'o', 'o', 'o', 'b-telescope', 'o', 'o', 'o', 'o', 'o', 'o', 'o', 'b-location', 'i-location', 'i-location', 'i-location', 'i-location', 'i-location', 'i-location', 'b-location', 'o', 'o', 'b-organization', 'i-organization', 'o', 'o', 'o', 'b-organization', 'i-organization', 'i-organization', 'i-organization', 'i-organization', 'i-organization', 'i-organization', 'i-organization', 'i-organization', 'i-organization', 'b-location', 'o', 'o', 'b-grant', 'b-grant', 'b-grant', 'b-grant', None, None, None, None, None, None, None, None, None, None, None, None, None, None, None, None, None, None, None, None, None, None, None, None, None, None, None, None, None, None, None, None, None, None, None, None, None, None, None, None, None, None, None, None, None, None, None, None, None, None, None, None, None, None, None, None, None, None, None, None, None, None, None, None, None, None, None, None, None, None, None, None, None, None, None, None, None, None, None, None, None, None, None, None, None, None, None, None, None, None, None, None, None, None, None, None, None, None, None, None, None, None, None, None, None, None, None, None, None, None, None, None, None, None, None, None, None, None, None, None, None, None, None, None, None, None, None, None, None, None, None, None, None, None, None, None, None, None, None, None, None, None, None, None, None, None, None, None, None, None, None, None, None, None, None, None, None, None, None, None, None, None, None, None, None, None, None, None, None, None, None, None, None, None, None, None, None, None, None, None, None, None, None, None, None, None, None, None, None, None, None, None, None, None, None, None, None, None, None, None, None, None, None, None, None, None, None, None, None, None, None, None, None, None, None, None, None, None, None, None, None, None, None, None, None, None, None, None, None, None, None, None, None, None, None, None, None, None, None, None, None, None]\n",
            "predicted :  ['o', 'o', 'o', 'o', 'o', 'b-person', 'o', 'o', 'o', 'b-person', 'i-person', 'i-person', 'i-person', 'o', 'o', 'o', 'o', 'o', 'b-telescope', 'o', 'o', 'o', 'o', 'o', 'o', 'o', 'b-grant', 'i-organization', 'i-organization', 'i-organization', 'i-organization', 'i-organization', 'i-organization', 'b-location', 'o', 'o', 'b-organization', 'i-organization', 'o', 'o', 'o', 'b-organization', 'i-organization', 'i-organization', 'i-organization', 'i-organization', 'i-organization', 'o', 'b-organization', 'i-location', 'i-organization', 'i-observatory', 'o', 'o', 'b-grant', 'b-grant', 'i-grant', 'b-grant', 'b-grant', 'b-grant', 'b-grant', 'b-grant', 'b-grant', 'b-grant', 'b-grant', 'b-grant', 'b-grant', 'b-grant', 'b-grant', 'b-grant', 'b-grant', 'b-grant', 'b-grant', 'b-grant', 'b-grant', 'b-grant', 'b-grant', 'b-grant', 'b-grant', 'b-grant', 'b-grant', 'b-grant', 'b-grant', 'b-grant', 'b-grant', 'b-grant', 'b-grant', 'b-grant', 'b-grant', 'b-grant', 'b-grant', 'b-grant', 'b-grant', 'b-grant', 'b-grant', 'b-grant', 'b-grant', 'b-grant', 'b-grant', 'b-grant', 'b-grant', 'b-grant', 'b-grant', 'b-grant', 'b-grant', 'b-grant', 'b-grant', 'b-grant', 'b-grant', 'b-grant', 'b-grant', 'b-grant', 'b-grant', 'b-grant', 'b-grant', 'b-grant', 'b-grant', 'b-grant', 'b-grant', 'b-grant', 'b-grant', 'b-grant', 'b-grant', 'b-grant', 'b-grant', 'b-grant', 'b-grant', 'b-grant', 'b-grant', 'b-grant', 'b-grant', 'b-grant', 'b-grant', 'b-grant', 'b-grant', 'b-grant', 'b-grant', 'b-grant', 'b-grant', 'b-grant', 'b-grant', 'b-grant', 'b-grant', 'b-grant', 'b-grant', 'b-grant', 'b-grant', 'b-grant', 'b-grant', 'b-grant', 'b-grant', 'b-grant', 'b-grant', 'b-grant', 'b-grant', 'b-grant', 'b-grant', 'b-grant', 'b-grant', 'b-grant', 'b-grant', 'b-grant', 'b-grant', 'b-grant', 'b-grant', 'b-grant', 'b-grant', 'b-grant', 'b-grant', 'b-grant', 'b-grant', 'b-grant', 'b-grant', 'b-grant', 'b-grant', 'b-grant', 'b-grant', 'b-grant', 'b-grant', 'b-grant', 'b-grant', 'b-grant', 'b-grant', 'b-grant', 'b-grant', 'b-grant', 'b-grant', 'b-grant', 'b-grant', 'b-grant', 'b-grant', 'b-grant', 'b-grant', 'b-grant', 'b-grant', 'b-grant', 'b-grant', 'b-grant', 'b-grant', 'b-grant', 'b-grant', 'b-grant', 'b-grant', 'b-grant', 'b-grant', 'b-grant', 'b-grant', 'b-grant', 'b-grant', 'b-grant', 'b-grant', 'b-grant', 'b-grant', 'b-grant', 'b-grant', 'b-grant', 'b-grant', 'b-grant', 'b-grant', 'b-grant', 'b-grant', 'b-grant', 'b-grant', 'b-grant', 'b-grant', 'b-grant', 'b-grant', 'b-grant', 'b-grant', 'b-grant', 'b-grant', 'b-grant', 'b-grant', 'b-grant', 'b-grant', 'b-grant', 'b-grant', 'b-grant', 'b-grant', 'b-grant', 'b-grant', 'b-grant', 'b-grant', 'b-grant', 'b-grant', 'b-grant', 'b-grant', 'b-grant', 'b-grant', 'b-grant', 'b-grant', 'b-grant', 'b-grant', 'b-grant', 'b-grant', 'b-grant', 'b-grant', 'b-grant', 'b-grant', 'b-grant', 'b-grant', 'b-grant', 'b-grant', 'b-grant', 'b-grant', 'b-grant', 'b-grant', 'b-grant', 'b-grant', 'b-grant', 'b-grant', 'b-grant', 'b-grant', 'b-grant', 'b-grant', 'b-grant', 'b-grant', 'b-grant', 'b-grant', 'b-grant', 'b-grant', 'b-grant', 'b-grant', 'b-grant', 'b-grant', 'b-grant', 'b-grant', 'b-grant', 'b-grant', 'b-grant', 'b-grant', 'b-grant', 'b-grant', 'b-grant', 'b-grant', 'b-grant', 'b-grant', 'b-grant', 'b-grant', 'b-grant']\n",
            "----------------------------------------------------------------------------------------------------\n"
          ]
        }
      ]
    },
    {
      "cell_type": "markdown",
      "source": [
        "## Let's try a bidirectional LSTM model"
      ],
      "metadata": {
        "id": "BUz2JbhFWoL6"
      }
    },
    {
      "cell_type": "code",
      "source": [
        "from keras.models import Model, Input\n",
        "from keras.layers import LSTM, Embedding, Dense, TimeDistributed, Dropout, Bidirectional\n",
        "\n",
        "# Model definition\n",
        "input = Input(shape=(300,))\n",
        "model3 = Embedding(input_dim=len_vocab+1, output_dim=len(tag_list), \n",
        "                  input_length=300, mask_zero=True)(input)  \n",
        "model3 = Bidirectional(LSTM(units=50, return_sequences=True,\n",
        "                           recurrent_dropout=0.1))(model3)  \n",
        "model3 = TimeDistributed(Dense(50, activation=\"relu\"))(model3) \n",
        "output = Dense(len(tag_list),activation='softmax')(model3)\n",
        "model3 = Model(inputs = input,outputs = output)\n",
        "model3.compile(loss='sparse_categorical_crossentropy',optimizer='rmsprop',metrics=['accuracy'])\n",
        "model3.summary()"
      ],
      "metadata": {
        "id": "DpOXT8jr_cwQ",
        "colab": {
          "base_uri": "https://localhost:8080/"
        },
        "outputId": "90a2240d-df25-4ead-fea4-623a7196e6d7"
      },
      "execution_count": null,
      "outputs": [
        {
          "output_type": "stream",
          "name": "stdout",
          "text": [
            "WARNING:tensorflow:Layer lstm_2 will not use cuDNN kernels since it doesn't meet the criteria. It will use a generic GPU kernel as fallback when running on GPU.\n",
            "WARNING:tensorflow:Layer lstm_2 will not use cuDNN kernels since it doesn't meet the criteria. It will use a generic GPU kernel as fallback when running on GPU.\n",
            "WARNING:tensorflow:Layer lstm_2 will not use cuDNN kernels since it doesn't meet the criteria. It will use a generic GPU kernel as fallback when running on GPU.\n",
            "Model: \"model_3\"\n",
            "_________________________________________________________________\n",
            " Layer (type)                Output Shape              Param #   \n",
            "=================================================================\n",
            " input_4 (InputLayer)        [(None, 300)]             0         \n",
            "                                                                 \n",
            " embedding_3 (Embedding)     (None, 300, 63)           2882502   \n",
            "                                                                 \n",
            " bidirectional_2 (Bidirectio  (None, 300, 100)         45600     \n",
            " nal)                                                            \n",
            "                                                                 \n",
            " time_distributed_2 (TimeDis  (None, 300, 50)          5050      \n",
            " tributed)                                                       \n",
            "                                                                 \n",
            " dense_7 (Dense)             (None, 300, 63)           3213      \n",
            "                                                                 \n",
            "=================================================================\n",
            "Total params: 2,936,365\n",
            "Trainable params: 2,936,365\n",
            "Non-trainable params: 0\n",
            "_________________________________________________________________\n"
          ]
        }
      ]
    },
    {
      "cell_type": "code",
      "source": [
        "history3 = model3.fit(X_train,y_train,validation_data=(X_test,y_test),epochs=30,batch_size=64)"
      ],
      "metadata": {
        "colab": {
          "base_uri": "https://localhost:8080/"
        },
        "id": "Bwp0_nuiWtxr",
        "outputId": "485ea295-23e8-44eb-b97f-9989e8f6f240"
      },
      "execution_count": null,
      "outputs": [
        {
          "output_type": "stream",
          "name": "stdout",
          "text": [
            "Epoch 1/30\n",
            "22/22 [==============================] - 57s 2s/step - loss: 1.5146 - accuracy: 0.7572 - val_loss: 0.9174 - val_accuracy: 0.7881\n",
            "Epoch 2/30\n",
            "22/22 [==============================] - 50s 2s/step - loss: 0.8194 - accuracy: 0.8006 - val_loss: 0.8072 - val_accuracy: 0.7881\n",
            "Epoch 3/30\n",
            "22/22 [==============================] - 51s 2s/step - loss: 0.7250 - accuracy: 0.8006 - val_loss: 0.7162 - val_accuracy: 0.7889\n",
            "Epoch 4/30\n",
            "22/22 [==============================] - 51s 2s/step - loss: 0.6402 - accuracy: 0.8028 - val_loss: 0.6604 - val_accuracy: 0.7924\n",
            "Epoch 5/30\n",
            "22/22 [==============================] - 52s 2s/step - loss: 0.5749 - accuracy: 0.8201 - val_loss: 0.6016 - val_accuracy: 0.8132\n",
            "Epoch 6/30\n",
            "22/22 [==============================] - 51s 2s/step - loss: 0.5165 - accuracy: 0.8375 - val_loss: 0.5282 - val_accuracy: 0.8374\n",
            "Epoch 7/30\n",
            "22/22 [==============================] - 50s 2s/step - loss: 0.4748 - accuracy: 0.8434 - val_loss: 0.4947 - val_accuracy: 0.8420\n",
            "Epoch 8/30\n",
            "22/22 [==============================] - 50s 2s/step - loss: 0.4340 - accuracy: 0.8523 - val_loss: 0.4669 - val_accuracy: 0.8492\n",
            "Epoch 9/30\n",
            "22/22 [==============================] - 50s 2s/step - loss: 0.4048 - accuracy: 0.8605 - val_loss: 0.4334 - val_accuracy: 0.8609\n",
            "Epoch 10/30\n",
            "22/22 [==============================] - 54s 2s/step - loss: 0.3760 - accuracy: 0.8696 - val_loss: 0.4495 - val_accuracy: 0.8578\n",
            "Epoch 11/30\n",
            "22/22 [==============================] - 53s 2s/step - loss: 0.3534 - accuracy: 0.8761 - val_loss: 0.4013 - val_accuracy: 0.8671\n",
            "Epoch 12/30\n",
            "22/22 [==============================] - 52s 2s/step - loss: 0.3343 - accuracy: 0.8821 - val_loss: 0.3838 - val_accuracy: 0.8734\n",
            "Epoch 13/30\n",
            "22/22 [==============================] - 51s 2s/step - loss: 0.3114 - accuracy: 0.8888 - val_loss: 0.3772 - val_accuracy: 0.8755\n",
            "Epoch 14/30\n",
            "22/22 [==============================] - 52s 2s/step - loss: 0.2948 - accuracy: 0.8931 - val_loss: 0.3586 - val_accuracy: 0.8804\n",
            "Epoch 15/30\n",
            "22/22 [==============================] - 52s 2s/step - loss: 0.2750 - accuracy: 0.8987 - val_loss: 0.3464 - val_accuracy: 0.8838\n",
            "Epoch 16/30\n",
            "22/22 [==============================] - 53s 2s/step - loss: 0.2591 - accuracy: 0.9041 - val_loss: 0.3525 - val_accuracy: 0.8843\n",
            "Epoch 17/30\n",
            "22/22 [==============================] - 52s 2s/step - loss: 0.2412 - accuracy: 0.9108 - val_loss: 0.3205 - val_accuracy: 0.8937\n",
            "Epoch 18/30\n",
            "22/22 [==============================] - 51s 2s/step - loss: 0.2272 - accuracy: 0.9157 - val_loss: 0.3165 - val_accuracy: 0.8957\n",
            "Epoch 19/30\n",
            "22/22 [==============================] - 51s 2s/step - loss: 0.2120 - accuracy: 0.9212 - val_loss: 0.3216 - val_accuracy: 0.8953\n",
            "Epoch 20/30\n",
            "22/22 [==============================] - 52s 2s/step - loss: 0.1969 - accuracy: 0.9266 - val_loss: 0.3163 - val_accuracy: 0.8983\n",
            "Epoch 21/30\n",
            "22/22 [==============================] - 51s 2s/step - loss: 0.1852 - accuracy: 0.9306 - val_loss: 0.3007 - val_accuracy: 0.9025\n",
            "Epoch 22/30\n",
            "22/22 [==============================] - 51s 2s/step - loss: 0.1716 - accuracy: 0.9364 - val_loss: 0.2950 - val_accuracy: 0.9060\n",
            "Epoch 23/30\n",
            "22/22 [==============================] - 51s 2s/step - loss: 0.1601 - accuracy: 0.9403 - val_loss: 0.2841 - val_accuracy: 0.9094\n",
            "Epoch 24/30\n",
            "22/22 [==============================] - 51s 2s/step - loss: 0.1488 - accuracy: 0.9448 - val_loss: 0.2811 - val_accuracy: 0.9096\n",
            "Epoch 25/30\n",
            "22/22 [==============================] - 51s 2s/step - loss: 0.1389 - accuracy: 0.9485 - val_loss: 0.2793 - val_accuracy: 0.9081\n",
            "Epoch 26/30\n",
            "22/22 [==============================] - 51s 2s/step - loss: 0.1299 - accuracy: 0.9515 - val_loss: 0.2924 - val_accuracy: 0.9111\n",
            "Epoch 27/30\n",
            "22/22 [==============================] - 51s 2s/step - loss: 0.1211 - accuracy: 0.9548 - val_loss: 0.2841 - val_accuracy: 0.9095\n",
            "Epoch 28/30\n",
            "22/22 [==============================] - 51s 2s/step - loss: 0.1129 - accuracy: 0.9582 - val_loss: 0.2695 - val_accuracy: 0.9159\n",
            "Epoch 29/30\n",
            "22/22 [==============================] - 51s 2s/step - loss: 0.1060 - accuracy: 0.9606 - val_loss: 0.2722 - val_accuracy: 0.9149\n",
            "Epoch 30/30\n",
            "22/22 [==============================] - 51s 2s/step - loss: 0.0980 - accuracy: 0.9636 - val_loss: 0.2852 - val_accuracy: 0.9174\n"
          ]
        }
      ]
    },
    {
      "cell_type": "code",
      "source": [
        "# Let's save this model with for good, it took 30 minutes to train, while on GPU!!!\n",
        "model3.save('model3.h5')"
      ],
      "metadata": {
        "id": "Rcpw0mv5tL1Z"
      },
      "execution_count": null,
      "outputs": []
    },
    {
      "cell_type": "code",
      "source": [
        "# Plot the MSE of the model\n",
        "plt.rcParams[\"figure.figsize\"] = (15,8)\n",
        "plt.title(\"Loss performance of bidirectional LSTM model with Timedistributed dense layer\",fontsize=20)\n",
        "plt.plot(history3.history['loss'], label='Train loss')\n",
        "plt.plot(history3.history['val_loss'],  label='Val loss')\n",
        "plt.legend()\n",
        "# Set the axes labels\n",
        "plt.xlabel('Epochs',fontsize=10)\n",
        "plt.legend(fontsize=8)\n",
        "plt.show()"
      ],
      "metadata": {
        "colab": {
          "base_uri": "https://localhost:8080/",
          "height": 539
        },
        "id": "aVsSdre3YxtI",
        "outputId": "4f62ab64-408d-4ee2-a3c6-9fd88c18201e"
      },
      "execution_count": null,
      "outputs": [
        {
          "output_type": "display_data",
          "data": {
            "text/plain": [
              "<Figure size 1080x576 with 1 Axes>"
            ],
            "image/png": "[encoded data removed]"
          },
          "metadata": {
            "needs_background": "light"
          }
        }
      ]
    },
    {
      "cell_type": "code",
      "source": [
        "for i in range(8):\n",
        "  y_pred = model3.predict(np.array([X_test[i]]))\n",
        "  pred = np.argmax(np.array(y_pred), axis=-1)\n",
        "  print(\"Original  : \",[*map(idx2word_tag.get, y_test[i])])\n",
        "  print(\"predicted : \",[*map(idx2word_tag.get, pred[0])])\n",
        "  print(\"-\"*100)"
      ],
      "metadata": {
        "id": "6xWp9htUS-oj",
        "colab": {
          "base_uri": "https://localhost:8080/"
        },
        "outputId": "eb88febc-3af4-41b1-afd5-538f55997fbe"
      },
      "execution_count": null,
      "outputs": [
        {
          "output_type": "stream",
          "name": "stdout",
          "text": [
            "Original  :  ['o', 'o', 'o', 'o', 'o', 'o', 'o', 'o', 'o', 'o', 'o', 'o', 'o', 'o', 'o', 'o', 'o', 'o', 'o', 'o', 'o', 'o', 'o', 'o', 'o', 'o', 'o', 'o', 'o', 'o', 'o', 'o', 'o', 'o', 'o', 'o', 'o', 'o', 'o', 'o', 'o', 'o', 'o', 'o', 'o', 'o', 'o', 'o', 'o', 'o', 'o', 'o', 'o', 'o', 'o', 'o', 'o', 'o', 'o', 'o', 'o', 'o', 'o', 'o', 'o', 'o', 'o', 'o', 'o', 'o', 'o', 'o', 'o', 'o', 'o', 'o', 'o', 'o', 'o', 'o', 'o', 'o', 'o', 'o', 'o', 'o', 'o', 'o', 'o', 'o', 'o', 'o', 'o', 'o', 'o', 'o', 'o', 'o', 'o', 'o', 'o', 'o', 'o', 'o', 'o', 'o', 'o', 'o', 'o', 'o', 'o', 'o', 'o', 'o', 'o', 'o', 'o', 'o', 'o', 'o', 'o', 'o', 'o', 'b-citation', 'i-citation', 'o', 'o', 'o', 'o', 'o', 'o', 'o', 'o', 'o', 'o', 'o', 'o', 'o', 'o', 'o', 'o', 'o', 'o', 'o', 'o', 'o', 'o', 'o', 'o', 'o', 'o', 'o', 'o', 'o', 'o', 'o', 'o', 'o', 'o', 'o', 'o', 'o', 'o', 'o', 'o', 'o', 'o', 'o', 'o', 'o', 'o', 'o', 'o', 'o', 'o', 'o', 'o', 'o', 'o', 'o', 'o', 'o', 'o', 'o', 'o', 'o', 'o', 'o', 'o', 'o', 'o', 'o', 'o', 'o', 'o', 'o', 'o', 'o', 'o', 'o', 'o', 'o', 'o', 'o', 'o', 'o', 'o', 'o', 'o', 'o', 'o', 'o', 'o', 'o', 'o', 'o', 'o', 'o', 'o', 'o', 'o', 'o', 'o', 'o', 'o', 'o', 'o', 'o', 'o', 'o', 'o', 'o', 'o', 'o', 'o', 'o', 'o', 'o', 'o', 'o', 'o', 'o', 'o', 'o', 'o', 'o', 'o', 'o', 'o', 'o', 'o', 'o', 'o', 'o', 'o', 'o', 'o', 'o', 'o', 'o', 'o', 'o', 'o', 'o', 'o', 'o', 'o', 'o', 'o', 'o', 'o', 'o', 'o', 'o', 'o', 'o', 'o', 'o', 'o', 'o', 'o', 'o', 'o', 'o', 'o', 'o', 'o', 'o', 'o', 'o', 'o', 'o', 'o', 'o', 'o', 'o', 'o', 'o', 'o', 'o']\n",
            "predicted :  ['o', 'o', 'o', 'o', 'o', 'o', 'o', 'o', 'o', 'o', 'o', 'o', 'o', 'o', 'o', 'o', 'o', 'o', 'o', 'o', 'o', 'o', 'o', 'o', 'o', 'o', 'o', 'o', 'o', 'o', 'o', 'o', 'o', 'o', 'o', 'o', 'o', 'o', 'o', 'o', 'o', 'o', 'o', 'o', 'o', 'o', 'o', 'o', 'o', 'o', 'o', 'o', 'o', 'o', 'o', 'o', 'o', 'o', 'o', 'o', 'o', 'o', 'o', 'o', 'o', 'o', 'o', 'o', 'o', 'o', 'o', 'o', 'o', 'o', 'o', 'o', 'o', 'o', 'o', 'o', 'o', 'o', 'o', 'o', 'o', 'o', 'o', 'o', 'o', 'o', 'o', 'o', 'o', 'o', 'o', 'o', 'o', 'o', 'o', 'o', 'o', 'o', 'o', 'o', 'o', 'o', 'o', 'o', 'o', 'o', 'o', 'o', 'o', 'o', 'o', 'o', 'o', 'o', 'o', 'o', 'o', 'o', 'o', 'b-citation', 'i-citation', 'o', 'o', 'o', 'o', 'o', 'o', 'o', 'o', 'o', 'o', 'o', 'o', 'o', 'o', 'o', 'o', 'o', 'o', 'o', 'o', 'o', 'o', 'o', 'o', 'o', 'o', 'o', 'o', 'o', 'o', 'o', 'o', 'o', 'o', 'o', 'o', 'o', 'o', 'o', 'o', 'o', 'o', 'o', 'o', 'o', 'o', 'o', 'o', 'o', 'o', 'o', 'o', 'o', 'o', 'o', 'o', 'o', 'o', 'o', 'o', 'o', 'o', 'o', 'o', 'o', 'o', 'o', 'o', 'o', 'o', 'o', 'o', 'o', 'o', 'o', 'o', 'o', 'o', 'o', 'o', 'o', 'o', 'o', 'o', 'o', 'o', 'o', 'o', 'o', 'o', 'o', 'o', 'o', 'o', 'o', 'o', 'o', 'o', 'o', 'o', 'o', 'o', 'o', 'o', 'o', 'o', 'o', 'o', 'o', 'o', 'o', 'o', 'o', 'o', 'o', 'o', 'o', 'o', 'o', 'o', 'o', 'o', 'o', 'o', 'o', 'o', 'o', 'o', 'o', 'o', 'o', 'o', 'o', 'o', 'o', 'o', 'o', 'o', 'o', 'o', 'o', 'o', 'o', 'o', 'o', 'o', 'o', 'o', 'o', 'o', 'o', 'o', 'o', 'o', 'o', 'o', 'o', 'o', 'o', 'o', 'o', 'o', 'o', 'o', 'o', 'o', 'o', 'o', 'o', 'o', 'o', 'o', 'o', 'o', 'o']\n",
            "----------------------------------------------------------------------------------------------------\n",
            "Original  :  ['o', 'o', 'o', 'o', 'o', 'o', 'o', 'o', 'o', 'o', 'o', 'o', 'o', 'o', 'o', 'o', 'o', 'o', 'o', 'o', 'o', 'o', 'o', 'o', 'o', 'o', 'o', 'o', 'o', 'o', 'o', 'o', 'o', 'o', 'o', 'o', 'b-wavelength', 'o', 'o', 'o', 'o', 'o', 'o', 'o', 'o', 'o', 'o', 'o', 'o', 'o', 'o', 'o', 'o', 'o', 'o', 'o', 'o', 'o', 'o', 'b-observatory', 'o', 'o', 'o', 'o', 'o', 'o', 'o', 'o', 'o', 'o', 'o', 'o', 'o', 'o', 'o', 'o', 'o', 'o', 'o', 'o', 'o', 'o', 'o', 'o', 'o', 'o', 'o', 'o', 'o', 'o', 'o', 'b-wavelength', 'o', 'o', 'o', 'o', 'o', 'o', 'o', 'o', 'o', 'o', 'o', 'b-model', 'i-model', 'o', 'o', 'o', 'o', 'o', 'o', 'o', 'o', 'o', 'o', 'o', 'o', 'o', 'o', 'o', 'o', 'o', 'o', 'o', 'o', 'o', 'o', 'o', 'b-wavelength', 'i-wavelength', 'b-wavelength', 'o', 'b-wavelength', 'i-wavelength', 'o', 'o', 'o', 'o', 'o', 'o', 'o', 'o', 'o', 'o', 'o', 'o', 'o', 'o', 'o', 'o', 'o', 'o', 'o', 'o', 'o', 'o', 'o', 'o', 'o', 'b-citation', 'i-citation', 'i-citation', 'i-citation', 'o', 'o', 'o', 'o', 'o', 'o', 'o', 'o', 'o', 'o', 'o', 'o', 'o', 'o', 'o', 'o', 'o', 'o', 'o', 'o', 'o', 'o', 'o', 'o', 'o', 'o', 'o', 'o', 'o', 'o', 'o', 'o', 'o', 'o', 'o', 'o', 'b-citation', 'i-citation', 'i-citation', 'o', 'o', 'o', 'o', 'b-citation', 'i-citation', 'i-citation', 'o', 'o', 'o', 'o', 'b-citation', 'i-citation', 'i-citation', 'o', 'b-citation', 'o', 'o', 'o', 'o', 'o', 'o', 'o', 'o', 'b-citation', 'i-citation', 'i-citation', 'i-citation', 'o', 'o', 'o', 'o', 'o', 'o', 'o', 'o', 'o', 'o', 'o', 'o', 'o', 'o', 'o', 'o', 'o', 'b-citation', 'i-citation', 'i-citation', 'i-citation', 'o', 'o', 'o', 'o', 'o', 'o', 'o', 'o', 'o', 'o', 'o', 'o', 'o', 'o', 'o', 'o', 'o', 'o', 'o', 'b-telescope', 'b-observatory', 'o', 'b-telescope', 'b-citation', 'i-citation', 'i-citation', 'i-citation', 'i-citation', 'i-citation', 'o', 'o', 'o', 'o', 'o', 'o', 'o', 'o', 'o', 'o', 'o', 'o', 'o', 'o', 'o', 'o', 'o', 'o', 'o', 'o']\n",
            "predicted :  ['o', 'o', 'o', 'o', 'o', 'o', 'o', 'o', 'o', 'o', 'o', 'o', 'o', 'o', 'o', 'o', 'o', 'o', 'o', 'o', 'o', 'o', 'o', 'i-formula', 'o', 'o', 'o', 'o', 'o', 'o', 'o', 'o', 'o', 'o', 'o', 'o', 'i-wavelength', 'o', 'o', 'o', 'o', 'o', 'o', 'o', 'o', 'o', 'o', 'o', 'o', 'o', 'o', 'o', 'o', 'o', 'o', 'o', 'o', 'o', 'o', 'o', 'o', 'o', 'o', 'o', 'o', 'o', 'o', 'o', 'o', 'o', 'o', 'o', 'o', 'o', 'o', 'o', 'o', 'o', 'o', 'o', 'o', 'o', 'o', 'o', 'o', 'o', 'o', 'o', 'o', 'o', 'o', 'o', 'o', 'o', 'o', 'o', 'o', 'o', 'o', 'o', 'o', 'o', 'o', 'o', 'o', 'o', 'o', 'o', 'o', 'o', 'o', 'o', 'o', 'o', 'o', 'o', 'o', 'o', 'o', 'o', 'o', 'o', 'o', 'o', 'o', 'o', 'o', 'o', 'o', 'o', 'o', 'o', 'o', 'o', 'o', 'o', 'o', 'o', 'o', 'o', 'o', 'o', 'o', 'o', 'o', 'o', 'o', 'o', 'o', 'o', 'o', 'o', 'o', 'o', 'o', 'o', 'o', 'o', 'o', 'b-citation', 'i-citation', 'i-citation', 'i-citation', 'o', 'o', 'o', 'o', 'o', 'o', 'o', 'o', 'o', 'o', 'o', 'o', 'o', 'o', 'o', 'o', 'o', 'o', 'o', 'o', 'o', 'o', 'o', 'o', 'o', 'o', 'o', 'o', 'o', 'o', 'o', 'o', 'o', 'o', 'o', 'o', 'o', 'b-citation', 'i-citation', 'o', 'o', 'o', 'o', 'b-citation', 'b-citation', 'i-citation', 'o', 'o', 'o', 'o', 'o', 'b-citation', 'i-citation', 'o', 'b-citation', 'o', 'o', 'o', 'o', 'o', 'o', 'o', 'o', 'b-citation', 'i-citation', 'i-citation', 'i-citation', 'o', 'o', 'o', 'o', 'o', 'o', 'o', 'o', 'o', 'o', 'o', 'o', 'o', 'o', 'o', 'o', 'o', 'b-citation', 'i-citation', 'i-citation', 'i-citation', 'o', 'o', 'o', 'o', 'o', 'o', 'o', 'o', 'o', 'o', 'o', 'o', 'o', 'o', 'o', 'o', 'o', 'o', 'o', 'o', 'o', 'o', 'b-citation', 'b-citation', 'i-citation', 'i-citation', 'i-citation', 'i-citation', 'i-citation', 'o', 'o', 'o', 'o', 'o', 'o', 'o', 'o', 'o', 'o', 'o', 'o', 'o', 'o', 'o', 'o', 'o', 'o', 'o', 'o']\n",
            "----------------------------------------------------------------------------------------------------\n",
            "Original  :  ['o', 'o', 'o', 'o', 'o', 'o', 'o', 'o', 'o', 'o', 'o', 'o', 'o', 'o', 'o', 'o', 'o', 'o', 'o', 'o', 'o', 'o', 'o', 'o', 'o', 'o', 'b-wavelength', 'b-wavelength', 'i-wavelength', 'o', 'o', 'o', 'o', 'o', 'o', 'o', 'o', 'o', 'o', 'o', 'o', 'o', 'o', 'o', 'o', 'o', 'o', 'o', 'o', 'o', 'o', 'o', 'o', 'o', 'o', 'o', 'o', 'o', 'o', 'o', 'o', 'b-wavelength', 'o', 'b-wavelength', 'o', 'o', 'o', 'o', 'o', 'o', 'o', 'o', 'o', 'o', 'o', 'o', 'o', 'o', 'o', 'o', 'o', 'o', 'o', 'o', 'o', 'o', 'o', 'b-citation', 'i-citation', 'i-citation', 'i-citation', 'i-citation', 'o', 'o', 'o', 'o', 'o', 'o', 'o', 'o', 'o', 'o', 'o', 'o', 'o', 'o', 'o', 'o', 'o', 'o', 'o', 'o', 'o', 'o', 'o', 'o', 'o', 'o', 'o', 'o', 'o', 'o', 'o', 'o', 'o', 'o', 'o', 'o', 'o', 'o', 'o', 'o', 'o', 'o', 'o', 'o', 'o', 'o', 'o', 'o', 'o', 'o', 'o', 'o', 'o', 'o', 'o', 'o', 'o', 'o', 'o', 'o', 'o', 'o', 'o', 'o', 'o', 'o', 'o', 'o', 'o', 'o', 'o', 'o', 'o', 'o', 'o', 'o', 'o', 'o', 'o', 'o', 'o', 'o', 'o', 'o', 'o', 'b-wavelength', 'i-wavelength', 'b-wavelength', 'i-wavelength', 'i-wavelength', 'o', 'o', 'b-citation', 'i-citation', 'i-citation', 'i-citation', 'i-citation', 'o', 'o', 'o', 'o', 'o', 'o', 'o', 'o', 'o', 'o', 'o', 'o', 'o', 'o', 'o', 'o', 'o', 'o', 'o', 'o', 'o', 'o', 'o', 'b-wavelength', 'i-wavelength', 'i-wavelength', 'i-wavelength', 'i-wavelength', 'o', 'o', 'o', 'o', 'o', 'o', 'o', 'o', 'b-database', 'i-database', 'i-database', 'b-citation', 'i-citation', 'i-citation', 'i-citation', 'o', 'o', 'o', 'o', 'o', 'o', 'o', 'o', 'o', 'o', 'o', 'o', 'o', 'o', 'o', 'o', 'o', 'o', 'o', 'o', 'o', 'o', 'o', 'o', 'o', 'o', 'o', 'o', 'o', 'o', 'o', 'o', 'o', 'o', 'o', 'o', 'o', 'o', 'o', 'o', 'o', 'o', 'o', 'o', 'o', 'o', 'o', 'o', 'o', 'o', 'o', 'o', 'o', 'o', 'o', 'o', 'o', 'o', 'o', 'o', 'o', 'o', 'o', 'o', 'o', 'o', 'o', 'o']\n",
            "predicted :  ['o', 'o', 'o', 'o', 'o', 'o', 'o', 'o', 'o', 'o', 'o', 'o', 'o', 'o', 'o', 'o', 'o', 'o', 'o', 'o', 'o', 'o', 'o', 'o', 'o', 'o', 'o', 'o', 'o', 'o', 'o', 'o', 'o', 'o', 'o', 'o', 'o', 'o', 'o', 'o', 'o', 'o', 'o', 'o', 'o', 'o', 'i-celestialobject', 'o', 'o', 'o', 'o', 'o', 'o', 'o', 'o', 'o', 'o', 'o', 'o', 'o', 'o', 'o', 'o', 'o', 'o', 'o', 'o', 'o', 'o', 'o', 'o', 'o', 'o', 'o', 'o', 'o', 'o', 'o', 'o', 'o', 'o', 'o', 'o', 'o', 'o', 'o', 'o', 'o', 'o', 'o', 'i-citation', 'o', 'o', 'o', 'o', 'o', 'o', 'o', 'o', 'o', 'o', 'o', 'o', 'o', 'o', 'o', 'o', 'o', 'o', 'o', 'o', 'o', 'o', 'o', 'b-wavelength', 'i-wavelength', 'i-wavelength', 'o', 'o', 'o', 'o', 'o', 'o', 'o', 'o', 'o', 'o', 'o', 'o', 'o', 'o', 'o', 'o', 'o', 'o', 'o', 'o', 'o', 'o', 'o', 'o', 'o', 'o', 'o', 'o', 'o', 'o', 'o', 'o', 'o', 'o', 'o', 'o', 'o', 'o', 'o', 'o', 'o', 'o', 'o', 'o', 'o', 'o', 'o', 'o', 'o', 'o', 'o', 'o', 'o', 'o', 'o', 'o', 'o', 'o', 'o', 'o', 'o', 'o', 'o', 'o', 'o', 'o', 'o', 'o', 'o', 'o', 'i-citation', 'o', 'o', 'o', 'o', 'o', 'o', 'o', 'o', 'o', 'o', 'o', 'o', 'o', 'o', 'o', 'o', 'o', 'o', 'o', 'o', 'o', 'o', 'o', 'o', 'o', 'o', 'o', 'o', 'o', 'o', 'o', 'o', 'o', 'o', 'o', 'o', 'o', 'o', 'o', 'o', 'b-citation', 'i-citation', 'i-citation', 'i-citation', 'o', 'o', 'o', 'o', 'o', 'o', 'o', 'o', 'o', 'o', 'o', 'o', 'o', 'o', 'o', 'o', 'o', 'o', 'o', 'o', 'o', 'o', 'o', 'o', 'o', 'o', 'o', 'o', 'o', 'o', 'o', 'o', 'o', 'o', 'o', 'o', 'o', 'o', 'o', 'o', 'o', 'o', 'o', 'o', 'o', 'o', 'o', 'o', 'o', 'o', 'o', 'o', 'o', 'o', 'o', 'o', 'o', 'o', 'o', 'o', 'o', 'o', 'o', 'o', 'o', 'o', 'o', 'o']\n",
            "----------------------------------------------------------------------------------------------------\n",
            "Original  :  ['o', 'b-person', 'o', 'o', 'o', 'o', 'o', 'o', 'o', 'b-organization', 'i-organization', 'i-organization', 'b-person', 'b-person', 'o', 'b-person', 'o', 'o', 'o', 'o', 'b-organization', 'i-organization', 'i-organization', 'i-organization', 'i-organization', 'b-organization', 'b-location', 'o', 'o', 'o', 'o', 'o', 'o', 'o', 'o', 'o', 'o', 'o', 'o', 'o', 'o', 'o', 'o', 'o', 'o', 'o', 'o', 'b-database', 'i-database', 'i-database', 'i-database', 'o', 'o', 'o', 'b-location', 'b-organization', 'o', 'o', 'b-grant', 'o', 'o', 'o', 'o', 'o', 'o', 'b-organization', 'i-organization', 'i-organization', 'o', 'b-organization', 'i-organization', 'i-organization', 'o', 'b-archive', 'i-archive', 'i-archive', 'i-archive', None, None, None, None, None, None, None, None, None, None, None, None, None, None, None, None, None, None, None, None, None, None, None, None, None, None, None, None, None, None, None, None, None, None, None, None, None, None, None, None, None, None, None, None, None, None, None, None, None, None, None, None, None, None, None, None, None, None, None, None, None, None, None, None, None, None, None, None, None, None, None, None, None, None, None, None, None, None, None, None, None, None, None, None, None, None, None, None, None, None, None, None, None, None, None, None, None, None, None, None, None, None, None, None, None, None, None, None, None, None, None, None, None, None, None, None, None, None, None, None, None, None, None, None, None, None, None, None, None, None, None, None, None, None, None, None, None, None, None, None, None, None, None, None, None, None, None, None, None, None, None, None, None, None, None, None, None, None, None, None, None, None, None, None, None, None, None, None, None, None, None, None, None, None, None, None, None, None, None, None, None, None, None, None, None, None, None, None, None, None, None, None, None, None, None, None, None, None, None, None, None, None, None, None, None, None, None, None, None, None, None, None, None, None, None, None, None, None, None, None, None, None, None]\n",
            "predicted :  ['o', 'b-person', 'o', 'o', 'o', 'o', 'o', 'o', 'o', 'b-organization', 'b-organization', 'i-organization', 'i-grant', 'i-grant', 'o', 'b-person', 'o', 'o', 'o', 'o', 'b-organization', 'i-organization', 'i-organization', 'i-organization', 'i-organization', 'b-grant', 'b-organization', 'o', 'o', 'o', 'o', 'o', 'o', 'o', 'o', 'o', 'o', 'o', 'o', 'o', 'o', 'o', 'o', 'o', 'o', 'o', 'o', 'b-telescope', 'o', 'o', 'o', 'o', 'o', 'o', 'b-location', 'b-organization', 'o', 'o', 'b-grant', 'o', 'o', 'o', 'o', 'o', 'o', 'b-organization', 'o', 'i-organization', 'o', 'b-organization', 'i-organization', 'i-organization', 'i-organization', 'i-organization', 'i-organization', 'i-archive', 'i-organization', 'i-database', 'i-database', 'i-database', 'i-database', 'i-database', 'i-database', 'i-database', 'i-database', 'i-database', 'i-database', 'i-database', 'i-database', 'i-database', 'i-database', 'i-database', 'i-database', 'i-database', 'i-database', 'i-database', 'i-database', 'i-database', 'i-database', 'i-database', 'i-database', 'i-database', 'i-database', 'i-database', 'i-database', 'i-database', 'i-database', 'i-database', 'i-database', 'i-database', 'i-database', 'i-database', 'i-database', 'i-database', 'i-database', 'i-database', 'i-database', 'i-database', 'i-database', 'i-database', 'i-database', 'i-database', 'i-database', 'i-database', 'i-database', 'i-database', 'i-database', 'i-database', 'i-database', 'i-database', 'i-database', 'i-database', 'i-database', 'i-database', 'i-database', 'i-database', 'i-database', 'i-database', 'i-database', 'i-database', 'i-database', 'i-database', 'i-database', 'i-database', 'i-database', 'i-database', 'i-database', 'i-database', 'i-database', 'i-database', 'i-database', 'i-database', 'i-database', 'i-database', 'i-database', 'i-database', 'i-database', 'i-database', 'i-database', 'i-database', 'i-database', 'i-database', 'i-database', 'i-database', 'i-database', 'i-database', 'i-database', 'i-database', 'i-database', 'i-database', 'i-database', 'i-database', 'i-database', 'i-database', 'i-database', 'i-database', 'i-database', 'i-database', 'i-database', 'i-database', 'i-database', 'i-database', 'i-database', 'i-database', 'i-database', 'i-database', 'i-database', 'i-database', 'i-database', 'i-database', 'i-database', 'i-database', 'i-database', 'i-database', 'i-database', 'i-database', 'i-database', 'i-database', 'i-database', 'i-database', 'i-database', 'i-database', 'i-database', 'i-database', 'i-database', 'i-database', 'i-database', 'i-database', 'i-database', 'i-database', 'i-database', 'i-database', 'i-database', 'i-database', 'i-database', 'i-database', 'i-database', 'i-database', 'i-database', 'i-database', 'i-database', 'i-database', 'i-database', 'i-database', 'i-database', 'i-database', 'i-database', 'i-database', 'i-database', 'i-database', 'i-database', 'i-database', 'i-database', 'i-database', 'i-database', 'i-database', 'i-database', 'i-database', 'i-database', 'i-database', 'i-database', 'i-database', 'i-database', 'i-database', 'i-database', 'i-database', 'i-database', 'i-database', 'i-database', 'i-database', 'i-database', 'i-database', 'i-database', 'i-database', 'i-database', 'i-database', 'i-database', 'i-database', 'i-database', 'i-database', 'i-database', 'i-database', 'i-database', 'i-database', 'i-database', 'i-database', 'i-database', 'i-database', 'i-database', 'i-database', 'i-database', 'i-database', 'i-database', 'i-database', 'i-database', 'i-database', 'i-database', 'i-database', 'i-database', 'i-database', 'i-database', 'i-database', 'i-database', 'i-database', 'i-database', 'i-database', 'i-database', 'i-database', 'i-database', 'i-database', 'i-database', 'i-database', 'i-database', 'i-database', 'i-database', 'i-database', 'i-database', 'i-database', 'i-database', 'i-database']\n",
            "----------------------------------------------------------------------------------------------------\n",
            "Original  :  ['b-person', 'o', 'b-person', 'o', 'o', 'o', 'b-organization', 'o', 'b-grant', 'b-person', 'o', 'o', 'o', 'o', 'o', 'b-organization', 'i-organization', 'o', 'b-grant', 'b-person', 'o', 'b-person', 'o', 'o', 'o', 'b-organization', 'o', 'b-grant', 'b-person', 'b-person', 'b-person', 'o', 'b-person', 'o', 'o', 'o', 'o', 'b-organization', 'i-organization', 'i-organization', 'i-organization', 'o', 'o', 'o', 'b-grant', 'b-person', 'o', 'o', 'o', 'o', 'b-fellowship', 'i-fellowship', 'i-fellowship', 'i-fellowship', 'i-fellowship', 'i-fellowship', 'i-fellowship', 'o', 'o', 'o', 'o', 'o', 'o', 'b-computingfacility', 'i-computingfacility', 'i-computingfacility', 'i-computingfacility', 'i-computingfacility', 'i-computingfacility', 'o', 'b-organization', 'i-organization', 'i-organization', 'i-organization', 'i-organization', 'i-organization', 'o', 'o', 'o', 'b-organization', 'i-organization', 'i-organization', 'i-organization', 'i-organization', 'i-organization', 'i-organization', 'i-organization', 'i-organization', 'o', 'o', 'o', 'b-grant', 'o', 'b-software', 'b-software', 'b-citation', 'i-citation', 'o', 'b-software', 'b-citation', 'i-citation', 'i-citation', 'i-citation', 'i-citation', 'i-citation', 'o', 'b-software', 'b-citation', 'i-citation', 'i-citation', 'i-citation', 'o', 'b-software', 'b-citation', 'i-citation', 'i-citation', 'i-citation', 'o', 'b-software', 'b-citation', 'i-citation', 'i-citation', 'i-citation', 'o', 'b-software', 'b-citation', 'i-citation', 'i-citation', 'o', 'b-software', 'b-citation', 'i-citation', 'o', 'b-software', 'b-citation', 'i-citation', 'i-citation', 'i-citation', 'o', 'b-software', 'b-citation', 'i-citation', 'o', 'b-software', 'b-citation', 'i-citation', 'i-citation', 'i-citation', 'o', None, None, None, None, None, None, None, None, None, None, None, None, None, None, None, None, None, None, None, None, None, None, None, None, None, None, None, None, None, None, None, None, None, None, None, None, None, None, None, None, None, None, None, None, None, None, None, None, None, None, None, None, None, None, None, None, None, None, None, None, None, None, None, None, None, None, None, None, None, None, None, None, None, None, None, None, None, None, None, None, None, None, None, None, None, None, None, None, None, None, None, None, None, None, None, None, None, None, None, None, None, None, None, None, None, None, None, None, None, None, None, None, None, None, None, None, None, None, None, None, None, None, None, None, None, None, None, None, None, None, None, None, None, None, None, None, None, None, None, None, None, None, None, None, None, None, None, None, None, None, None]\n",
            "predicted :  ['b-person', 'o', 'b-person', 'o', 'o', 'o', 'b-grant', 'o', 'b-grant', 'b-person', 'o', 'o', 'o', 'o', 'o', 'b-organization', 'i-organization', 'o', 'b-grant', 'o', 'o', 'b-grant', 'o', 'o', 'o', 'b-organization', 'o', 'b-grant', 'i-grant', 'i-grant', 'i-grant', 'o', 'b-grant', 'o', 'o', 'o', 'o', 'b-organization', 'b-organization', 'i-organization', 'i-organization', 'o', 'o', 'o', 'b-grant', 'b-person', 'o', 'o', 'o', 'o', 'b-fellowship', 'i-fellowship', 'i-fellowship', 'i-fellowship', 'i-fellowship', 'i-fellowship', 'i-fellowship', 'o', 'o', 'o', 'o', 'o', 'o', 'b-computingfacility', 'i-computingfacility', 'i-computingfacility', 'i-computingfacility', 'i-computingfacility', 'i-organization', 'o', 'b-organization', 'i-organization', 'i-organization', 'i-organization', 'i-organization', 'i-organization', 'o', 'o', 'o', 'b-organization', 'i-organization', 'i-organization', 'i-organization', 'o', 'i-organization', 'b-organization', 'i-organization', 'i-organization', 'o', 'o', 'o', 'b-grant', 'o', 'b-software', 'b-software', 'b-citation', 'i-citation', 'o', 'b-software', 'b-citation', 'i-citation', 'i-citation', 'i-citation', 'i-citation', 'i-citation', 'o', 'b-software', 'b-citation', 'i-citation', 'i-citation', 'i-citation', 'o', 'b-software', 'b-citation', 'i-citation', 'i-citation', 'i-citation', 'o', 'b-citation', 'b-citation', 'i-citation', 'i-citation', 'i-citation', 'o', 'b-citation', 'b-citation', 'i-citation', 'i-citation', 'o', 'o', 'b-citation', 'i-citation', 'o', 'o', 'b-citation', 'i-citation', 'i-citation', 'i-citation', 'o', 'b-citation', 'b-citation', 'i-citation', 'o', 'b-citation', 'b-citation', 'i-citation', 'i-citation', 'i-citation', 'o', 'i-database', 'i-database', 'i-database', 'i-database', 'i-database', 'i-database', 'i-database', 'i-database', 'i-database', 'i-database', 'i-database', 'i-database', 'i-database', 'i-database', 'i-database', 'i-database', 'i-database', 'i-database', 'i-database', 'i-database', 'i-database', 'i-database', 'i-database', 'i-database', 'i-database', 'i-database', 'i-database', 'i-database', 'i-database', 'i-database', 'i-database', 'i-database', 'i-database', 'i-database', 'i-database', 'i-database', 'i-database', 'i-database', 'i-database', 'i-database', 'i-database', 'i-database', 'i-database', 'i-database', 'i-database', 'i-database', 'i-database', 'i-database', 'i-database', 'i-database', 'i-database', 'i-database', 'i-database', 'i-database', 'i-database', 'i-database', 'i-database', 'i-database', 'i-database', 'i-database', 'i-database', 'i-database', 'i-database', 'i-database', 'i-database', 'i-database', 'i-database', 'i-database', 'i-database', 'i-database', 'i-database', 'i-database', 'i-database', 'i-database', 'i-database', 'i-database', 'i-database', 'i-database', 'i-database', 'i-database', 'i-database', 'i-database', 'i-database', 'i-database', 'i-database', 'i-database', 'i-database', 'i-database', 'i-database', 'i-database', 'i-database', 'i-database', 'i-database', 'i-database', 'i-database', 'i-database', 'i-database', 'i-database', 'i-database', 'i-database', 'i-database', 'i-database', 'i-database', 'i-database', 'i-database', 'i-database', 'i-database', 'i-database', 'i-database', 'i-database', 'i-database', 'i-database', 'i-database', 'i-database', 'i-database', 'i-database', 'i-database', 'i-database', 'i-database', 'i-database', 'i-database', 'i-database', 'i-database', 'i-database', 'i-database', 'i-database', 'i-database', 'i-database', 'i-database', 'i-database', 'i-database', 'i-database', 'i-database', 'i-database', 'i-database', 'i-database', 'i-database', 'i-database', 'i-database', 'i-database', 'i-database', 'i-database', 'i-database', 'i-database', 'i-database', 'i-database', 'i-database', 'i-database', 'i-database', 'i-database', 'i-database']\n",
            "----------------------------------------------------------------------------------------------------\n",
            "Original  :  ['o', 'o', 'b-person', 'i-person', 'o', 'o', 'b-mission', 'o', 'o', 'b-person', 'i-person', 'o', 'o', 'b-mission', 'o', 'o', 'o', 'b-person', 'i-person', 'o', 'o', 'o', 'o', 'o', 'o', 'o', 'o', 'o', 'o', 'b-person', 'o', 'b-person', 'i-person', 'b-person', 'i-person', 'b-person', 'i-person', 'b-person', 'i-person', 'b-person', 'i-person', 'b-person', 'i-person', 'o', 'b-person', 'i-person', 'o', 'o', 'o', 'o', 'o', 'o', 'o', 'o', 'o', 'b-organization', 'i-organization', 'i-organization', 'o', 'o', 'o', 'o', 'b-grant', 'i-grant', 'i-grant', 'b-grant', 'b-person', 'i-person', 'o', 'b-person', 'i-person', 'o', 'o', 'o', 'b-grant', 'o', 'o', 'b-organization', 'i-organization', 'o', 'o', 'b-organization', 'i-organization', 'i-organization', 'i-organization', 'i-organization', 'b-organization', 'o', 'o', 'o', 'o', 'o', 'o', 'o', 'b-organization', 'b-organization', 'o', 'b-organization', 'o', 'o', 'o', 'o', 'o', 'o', 'o', 'o', 'b-person', 'o', 'o', 'b-organization', 'o', 'o', 'o', 'b-organization', 'o', 'o', 'b-grant', 'i-grant', None, None, None, None, None, None, None, None, None, None, None, None, None, None, None, None, None, None, None, None, None, None, None, None, None, None, None, None, None, None, None, None, None, None, None, None, None, None, None, None, None, None, None, None, None, None, None, None, None, None, None, None, None, None, None, None, None, None, None, None, None, None, None, None, None, None, None, None, None, None, None, None, None, None, None, None, None, None, None, None, None, None, None, None, None, None, None, None, None, None, None, None, None, None, None, None, None, None, None, None, None, None, None, None, None, None, None, None, None, None, None, None, None, None, None, None, None, None, None, None, None, None, None, None, None, None, None, None, None, None, None, None, None, None, None, None, None, None, None, None, None, None, None, None, None, None, None, None, None, None, None, None, None, None, None, None, None, None, None, None, None, None, None, None, None, None, None, None, None, None, None, None, None, None, None, None, None, None, None, None, None, None]\n",
            "predicted :  ['o', 'o', 'b-person', 'i-person', 'o', 'o', 'b-organization', 'i-person', 'b-person', 'o', 'b-person', 'o', 'o', 'b-person', 'o', 'b-person', 'o', 'b-person', 'i-person', 'o', 'o', 'o', 'o', 'o', 'o', 'o', 'o', 'o', 'o', 'o', 'o', 'b-person', 'b-person', 'b-person', 'i-person', 'b-person', 'i-person', 'b-person', 'i-person', 'i-person', 'b-person', 'b-person', 'i-person', 'o', 'b-person', 'i-person', 'o', 'o', 'o', 'o', 'o', 'o', 'o', 'o', 'o', 'b-organization', 'i-organization', 'i-organization', 'o', 'o', 'o', 'o', 'o', 'o', 'o', 'b-person', 'b-person', 'i-person', 'o', 'b-person', 'i-person', 'o', 'o', 'o', 'b-person', 'o', 'o', 'b-person', 'i-archive', 'o', 'o', 'b-organization', 'o', 'o', 'o', 'o', 'o', 'o', 'o', 'o', 'o', 'o', 'o', 'o', 'o', 'o', 'o', 'o', 'o', 'o', 'o', 'o', 'o', 'o', 'o', 'o', 'o', 'o', 'o', 'o', 'o', 'o', 'o', 'b-organization', 'o', 'o', 'b-grant', 'i-grant', 'i-database', 'i-database', 'i-database', 'i-database', 'i-database', 'i-database', 'i-database', 'i-database', 'i-database', 'i-database', 'i-database', 'i-database', 'i-database', 'i-database', 'i-database', 'i-database', 'i-database', 'i-database', 'i-database', 'i-database', 'i-database', 'i-database', 'i-database', 'i-database', 'i-database', 'i-database', 'i-database', 'i-database', 'i-database', 'i-database', 'i-database', 'i-database', 'i-database', 'i-database', 'i-database', 'i-database', 'i-database', 'i-database', 'i-database', 'i-database', 'i-database', 'i-database', 'i-database', 'i-database', 'i-database', 'i-database', 'i-database', 'i-database', 'i-database', 'i-database', 'i-database', 'i-database', 'i-database', 'i-database', 'i-database', 'i-database', 'i-database', 'i-database', 'i-database', 'i-database', 'i-database', 'i-database', 'i-database', 'i-database', 'i-database', 'i-database', 'i-database', 'i-database', 'i-database', 'i-database', 'i-database', 'i-database', 'i-database', 'i-database', 'i-database', 'i-database', 'i-database', 'i-database', 'i-database', 'i-database', 'i-database', 'i-database', 'i-database', 'i-database', 'i-database', 'i-database', 'i-database', 'i-database', 'i-database', 'i-database', 'i-database', 'i-database', 'i-database', 'i-database', 'i-database', 'i-database', 'i-database', 'i-database', 'i-database', 'i-database', 'i-database', 'i-database', 'i-database', 'i-database', 'i-database', 'i-database', 'i-database', 'i-database', 'i-database', 'i-database', 'i-database', 'i-database', 'i-database', 'i-database', 'i-database', 'i-database', 'i-database', 'i-database', 'i-database', 'i-database', 'i-database', 'i-database', 'i-database', 'i-database', 'i-database', 'i-database', 'i-database', 'i-database', 'i-database', 'i-database', 'i-database', 'i-database', 'i-database', 'i-database', 'i-database', 'i-database', 'i-database', 'i-database', 'i-database', 'i-database', 'i-database', 'i-database', 'i-database', 'i-database', 'i-database', 'i-database', 'i-database', 'i-database', 'i-database', 'i-database', 'i-database', 'i-database', 'i-database', 'i-database', 'i-database', 'i-database', 'i-database', 'i-database', 'i-database', 'i-database', 'i-database', 'i-database', 'i-database', 'i-database', 'i-database', 'i-database', 'i-database', 'i-database', 'i-database', 'i-database', 'i-database', 'i-database', 'i-database', 'i-database', 'i-database', 'i-database', 'i-database', 'i-database', 'i-database', 'i-database', 'i-database', 'i-database']\n",
            "----------------------------------------------------------------------------------------------------\n",
            "Original  :  ['o', 'b-formula', 'i-formula', 'i-formula', 'i-formula', 'i-formula', 'i-formula', 'i-formula', 'i-formula', 'i-formula', 'i-formula', 'o', 'o', 'o', 'b-instrument', 'o', 'o', 'b-instrument', 'o', 'o', 'o', 'o', 'o', 'o', 'o', 'o', 'o', 'o', 'o', 'o', 'o', 'o', 'o', 'o', 'o', 'o', 'o', 'o', 'o', 'o', 'o', 'o', 'b-instrument', 'o', 'o', 'o', 'o', 'o', 'o', 'o', 'o', 'o', 'o', 'o', 'o', 'o', 'o', 'o', 'o', 'o', 'o', 'o', 'o', 'o', 'o', 'b-instrument', 'o', 'o', 'o', 'o', 'o', 'b-instrument', 'o', 'o', 'o', 'o', 'o', 'o', 'o', 'o', 'b-instrument', 'o', 'o', 'o', 'o', 'o', 'o', 'o', 'b-instrument', 'o', 'o', 'o', 'o', 'o', 'o', 'o', 'o', 'o', 'o', 'o', 'o', 'o', 'o', 'o', 'o', 'o', 'o', 'o', 'o', 'o', 'o', 'o', 'o', 'o', 'o', 'o', 'o', 'o', 'o', 'b-instrument', 'o', 'o', 'b-instrument', 'o', 'o', 'o', 'o', 'o', 'o', 'o', 'o', 'b-instrument', 'o', 'o', 'o', 'b-instrument', 'o', 'o', 'o', 'o', 'o', 'o', 'o', 'o', 'o', 'o', 'o', 'o', 'o', 'o', 'o', 'o', 'o', 'o', 'o', 'o', 'o', 'o', 'o', 'o', 'o', 'o', 'o', 'o', 'o', 'o', 'o', 'o', 'o', 'o', 'o', 'o', 'o', 'o', 'o', 'b-formula', 'i-formula', 'i-formula', 'i-formula', 'i-formula', 'o', 'o', 'o', 'o', 'o', 'o', 'o', 'o', 'o', 'o', 'b-formula', 'i-formula', 'i-formula', 'i-formula', 'o', 'o', 'o', 'o', 'o', 'o', 'o', 'o', 'o', 'o', 'o', 'o', 'o', 'o', 'o', 'o', 'o', 'o', 'o', 'o', 'o', 'o', 'o', 'o', 'o', 'o', 'o', 'o', 'o', 'o', 'o', 'o', 'o', 'o', 'o', 'o', 'o', 'o', 'o', 'o', 'o', 'o', 'o', 'o', 'o', 'o', 'o', 'o', 'o', 'o', 'o', 'o', 'o', 'o', 'o', 'o', 'o', 'o', 'o', 'o', 'o', 'o', 'o', 'o', 'o', 'o', 'o', 'o', 'o', 'o', 'o', 'o', 'o', 'o', 'o', 'o', 'b-instrument', 'o', 'o', 'o', 'o', 'o', 'b-instrument', 'o', 'o', 'o', 'o', 'o', 'o', 'o', 'o', 'o', 'o', 'o', 'o', 'o', 'o', 'o', 'o', 'o', 'o', 'o', 'o', 'o', 'o', 'o']\n",
            "predicted :  ['o', 'b-formula', 'b-formula', 'i-formula', 'i-formula', 'i-formula', 'i-formula', 'i-formula', 'i-formula', 'i-formula', 'i-formula', 'o', 'o', 'o', 'o', 'o', 'o', 'o', 'o', 'o', 'o', 'o', 'o', 'o', 'o', 'o', 'o', 'b-formula', 'i-formula', 'i-formula', 'i-formula', 'i-formula', 'o', 'o', 'o', 'o', 'o', 'o', 'o', 'o', 'o', 'o', 'b-model', 'o', 'o', 'o', 'i-formula', 'i-formula', 'o', 'o', 'o', 'o', 'o', 'o', 'o', 'o', 'o', 'o', 'o', 'o', 'o', 'o', 'o', 'o', 'o', 'b-model', 'i-model', 'o', 'o', 'o', 'o', 'b-telescope', 'b-celestialobject', 'b-celestialobject', 'o', 'o', 'o', 'o', 'o', 'o', 'o', 'o', 'i-formula', 'o', 'o', 'o', 'o', 'o', 'o', 'o', 'o', 'o', 'o', 'o', 'o', 'o', 'o', 'o', 'o', 'o', 'o', 'o', 'o', 'o', 'o', 'o', 'o', 'o', 'o', 'o', 'o', 'o', 'o', 'o', 'o', 'o', 'o', 'o', 'o', 'o', 'o', 'o', 'o', 'o', 'o', 'o', 'o', 'o', 'o', 'o', 'o', 'b-model', 'o', 'o', 'o', 'o', 'o', 'o', 'b-model', 'i-model', 'o', 'o', 'o', 'o', 'o', 'o', 'o', 'o', 'o', 'o', 'o', 'o', 'o', 'o', 'o', 'o', 'o', 'o', 'o', 'o', 'o', 'o', 'o', 'o', 'o', 'o', 'o', 'o', 'o', 'o', 'o', 'o', 'o', 'o', 'o', 'o', 'o', 'i-formula', 'i-formula', 'o', 'o', 'o', 'o', 'o', 'o', 'o', 'o', 'o', 'o', 'o', 'o', 'i-formula', 'o', 'o', 'o', 'o', 'o', 'o', 'o', 'o', 'o', 'o', 'o', 'o', 'o', 'o', 'o', 'o', 'o', 'o', 'o', 'o', 'o', 'o', 'o', 'o', 'o', 'o', 'o', 'o', 'o', 'o', 'o', 'o', 'o', 'o', 'o', 'o', 'o', 'o', 'o', 'o', 'o', 'o', 'o', 'o', 'o', 'o', 'o', 'o', 'o', 'o', 'o', 'o', 'o', 'o', 'o', 'o', 'o', 'o', 'o', 'o', 'o', 'o', 'o', 'o', 'o', 'o', 'o', 'o', 'o', 'o', 'o', 'o', 'o', 'o', 'o', 'o', 'o', 'o', 'b-telescope', 'o', 'o', 'o', 'o', 'o', 'o', 'o', 'o', 'o', 'o', 'o', 'o', 'o', 'o', 'o', 'o', 'o', 'o', 'o', 'o', 'o', 'o', 'o', 'o', 'o', 'o', 'o', 'o', 'o']\n",
            "----------------------------------------------------------------------------------------------------\n",
            "Original  :  ['o', 'o', 'o', 'o', 'o', 'o', 'o', 'b-organization', 'i-organization', 'i-organization', 'b-organization', 'b-grant', 'i-grant', 'i-grant', 'i-grant', 'o', 'b-grant', 'i-grant', 'i-grant', 'i-grant', 'i-grant', 'i-grant', 'i-grant', 'o', 'o', 'o', 'b-organization', 'i-organization', 'i-organization', 'i-organization', 'b-organization', 'o', 'o', 'o', 'o', 'o', 'o', 'o', 'b-organization', 'i-organization', 'o', 'b-person', 'i-person', 'i-person', 'o', 'o', 'o', 'o', 'o', 'o', 'o', 'o', 'o', 'o', 'o', 'o', 'o', 'o', 'o', 'o', 'o', 'o', 'o', 'o', 'o', 'o', 'o', 'o', 'o', 'o', 'o', 'o', 'o', 'o', 'o', 'o', 'b-organization', 'i-organization', 'i-organization', 'b-organization', 'b-mission', 'i-mission', 'o', 'b-url', 'o', 'o', 'o', 'o', 'b-organization', 'i-organization', 'i-organization', 'i-organization', 'i-organization', 'i-organization', 'b-organization', 'b-url', 'o', 'o', 'o', 'o', 'b-organization', 'o', 'o', 'o', 'o', 'o', 'o', 'o', 'o', 'o', 'o', 'o', 'o', 'o', 'b-collaboration', 'i-collaboration', 'i-collaboration', 'o', 'o', 'o', 'o', 'o', 'o', 'o', 'o', 'o', 'b-survey', 'i-survey', 'i-survey', 'i-survey', 'i-survey', 'o', 'o', 'o', 'o', 'o', 'o', 'o', 'b-organization', 'i-organization', 'i-organization', 'o', 'o', 'b-organization', 'i-organization', 'i-organization', 'i-organization', 'i-organization', 'b-organization', 'i-organization', 'i-organization', 'o', 'o', 'o', 'b-organization', 'i-organization', 'i-organization', 'i-organization', 'i-organization', 'o', 'o', 'b-organization', 'i-organization', 'i-organization', None, None, None, None, None, None, None, None, None, None, None, None, None, None, None, None, None, None, None, None, None, None, None, None, None, None, None, None, None, None, None, None, None, None, None, None, None, None, None, None, None, None, None, None, None, None, None, None, None, None, None, None, None, None, None, None, None, None, None, None, None, None, None, None, None, None, None, None, None, None, None, None, None, None, None, None, None, None, None, None, None, None, None, None, None, None, None, None, None, None, None, None, None, None, None, None, None, None, None, None, None, None, None, None, None, None, None, None, None, None, None, None, None, None, None, None, None, None, None, None, None, None, None, None, None, None, None, None, None, None, None, None, None, None, None, None]\n",
            "predicted :  ['o', 'o', 'o', 'o', 'o', 'o', 'o', 'b-organization', 'i-organization', 'i-organization', 'b-organization', 'i-grant', 'i-grant', 'o', 'i-grant', 'o', 'i-grant', 'b-grant', 'o', 'o', 'o', 'o', 'b-grant', 'o', 'o', 'o', 'b-organization', 'i-organization', 'i-organization', 'i-organization', 'b-organization', 'o', 'o', 'o', 'o', 'o', 'o', 'o', 'b-observatory', 'i-organization', 'o', 'b-person', 'i-person', 'i-person', 'o', 'o', 'o', 'o', 'o', 'o', 'o', 'o', 'o', 'o', 'o', 'o', 'o', 'o', 'o', 'o', 'o', 'o', 'o', 'o', 'o', 'o', 'o', 'o', 'o', 'o', 'o', 'o', 'o', 'o', 'o', 'o', 'b-organization', 'i-organization', 'i-organization', 'b-organization', 'o', 'b-survey', 'o', 'b-url', 'o', 'o', 'o', 'o', 'b-organization', 'i-organization', 'i-organization', 'i-organization', 'i-organization', 'i-organization', 'b-organization', 'b-url', 'o', 'o', 'o', 'o', 'b-organization', 'o', 'o', 'o', 'o', 'o', 'o', 'o', 'o', 'o', 'o', 'o', 'o', 'o', 'b-observatory', 'i-collaboration', 'i-collaboration', 'o', 'o', 'o', 'o', 'o', 'o', 'o', 'o', 'o', 'b-software', 'b-survey', 'i-survey', 'i-survey', 'i-survey', 'o', 'o', 'o', 'o', 'o', 'o', 'o', 'b-organization', 'i-organization', 'i-organization', 'o', 'o', 'b-organization', 'i-organization', 'i-organization', 'i-organization', 'i-organization', 'b-organization', 'i-organization', 'i-organization', 'o', 'o', 'o', 'b-organization', 'i-organization', 'i-organization', 'i-organization', 'i-organization', 'o', 'o', 'b-organization', 'i-organization', 'i-organization', 'i-database', 'i-database', 'i-database', 'i-database', 'i-database', 'i-database', 'i-database', 'i-database', 'i-database', 'i-database', 'i-database', 'i-database', 'i-database', 'i-database', 'i-database', 'i-database', 'i-database', 'i-database', 'i-database', 'i-database', 'i-database', 'i-database', 'i-database', 'i-database', 'i-database', 'i-database', 'i-database', 'i-database', 'i-database', 'i-database', 'i-database', 'i-database', 'i-database', 'i-database', 'i-database', 'i-database', 'i-database', 'i-database', 'i-database', 'i-database', 'i-database', 'i-database', 'i-database', 'i-database', 'i-database', 'i-database', 'i-database', 'i-database', 'i-database', 'i-database', 'i-database', 'i-database', 'i-database', 'i-database', 'i-database', 'i-database', 'i-database', 'i-database', 'i-database', 'i-database', 'i-database', 'i-database', 'i-database', 'i-database', 'i-database', 'i-database', 'i-database', 'i-database', 'i-database', 'i-database', 'i-database', 'i-database', 'i-database', 'i-database', 'i-database', 'i-database', 'i-database', 'i-database', 'i-database', 'i-database', 'i-database', 'i-database', 'i-database', 'i-database', 'i-database', 'i-database', 'i-database', 'i-database', 'i-database', 'i-database', 'i-database', 'i-database', 'i-database', 'i-database', 'i-database', 'i-database', 'i-database', 'i-database', 'i-database', 'i-database', 'i-database', 'i-database', 'i-database', 'i-database', 'i-database', 'i-database', 'i-database', 'i-database', 'i-database', 'i-database', 'i-database', 'i-database', 'i-database', 'i-database', 'i-database', 'i-database', 'i-database', 'i-database', 'i-database', 'i-database', 'i-database', 'i-database', 'i-database', 'i-database', 'i-database', 'i-database', 'i-database', 'i-database', 'i-database', 'i-database', 'i-database', 'i-database', 'i-database', 'i-database', 'i-database', 'i-database']\n",
            "----------------------------------------------------------------------------------------------------\n"
          ]
        }
      ]
    },
    {
      "cell_type": "markdown",
      "source": [
        "That looks sweet! isn't it?"
      ],
      "metadata": {
        "id": "wz6HPmHPt6y5"
      }
    },
    {
      "cell_type": "markdown",
      "source": [
        "# Bonus section (BERT)"
      ],
      "metadata": {
        "id": "qUV0u5AauE_c"
      }
    },
    {
      "cell_type": "code",
      "source": [
        ""
      ],
      "metadata": {
        "id": "wgMQZ25euDfM"
      },
      "execution_count": null,
      "outputs": []
    }
  ]
}